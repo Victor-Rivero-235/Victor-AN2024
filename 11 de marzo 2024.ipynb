{
 "cells": [
  {
   "cell_type": "markdown",
   "id": "deluxe-cambridge",
   "metadata": {},
   "source": [
    "Gauss Jordan y factorizacion LU"
   ]
  },
  {
   "cell_type": "markdown",
   "id": "equivalent-questionnaire",
   "metadata": {},
   "source": [
    "https://github.com/Sdann26/Analisis-Numerico/blob/master/Algoritmo%20Tridiagonal.py\n",
    "\n",
    "https://www.unioviedo.es/compnum/laboratorios_py/sist_lin/sist_lin.html\n",
    "\n",
    "https://relopezbriega.github.io/blog/2016/09/13/factorizacion-de-matrices-con-python/"
   ]
  },
  {
   "cell_type": "markdown",
   "id": "native-facing",
   "metadata": {},
   "source": [
    "checar librp de$\\dots$ scott numetical analysis"
   ]
  },
  {
   "cell_type": "code",
   "execution_count": 3,
   "id": "dominican-functionality",
   "metadata": {},
   "outputs": [
    {
     "name": "stdout",
     "output_type": "stream",
     "text": [
      "MÉTODO LU CON PIVOTEO\n",
      "\\ nEste método te halla las matrices L, U y P y cálcula la solución del sistema L * U * X = P * b. Siendo L * U = P * A.\n",
      "\n",
      "Matriz A:\n",
      "array([[ 1.,  1.,  0., -1.,  0.],\n",
      "       [ 1.,  0.,  0.,  0., -1.],\n",
      "       [ 4.,  4.,  1., -2., -4.],\n",
      "       [ 0.,  1.,  0.,  0., -2.],\n",
      "       [ 0.,  0.,  2.,  0.,  0.]])\n",
      "Matriz P:\n",
      "array([[0., 0., 1., 0., 0.],\n",
      "       [0., 1., 0., 0., 0.],\n",
      "       [0., 0., 0., 0., 1.],\n",
      "       [0., 0., 0., 1., 0.],\n",
      "       [1., 0., 0., 0., 0.]])\n",
      "Matriz L:\n",
      "array([[ 1.   ,  0.   ,  0.   ,  0.   ,  0.   ],\n",
      "       [ 0.25 ,  1.   ,  0.   ,  0.   ,  0.   ],\n",
      "       [ 0.   , -0.   ,  1.   ,  0.   ,  0.   ],\n",
      "       [ 0.   , -1.   , -0.125,  1.   ,  0.   ],\n",
      "       [ 0.25 , -0.   , -0.125, -1.   ,  1.   ]])\n",
      "Matriz U:\n",
      "array([[ 4.  ,  4.  ,  1.  , -2.  , -4.  ],\n",
      "       [ 0.  , -1.  , -0.25,  0.5 ,  0.  ],\n",
      "       [ 0.  ,  0.  ,  2.  ,  0.  ,  0.  ],\n",
      "       [ 0.  ,  0.  ,  0.  ,  0.5 , -2.  ],\n",
      "       [ 0.  ,  0.  ,  0.  ,  0.  , -1.  ]])\n",
      "\n",
      "Vector solución b: \n",
      "[[0.]\n",
      " [2.]\n",
      " [8.]\n",
      " [0.]\n",
      " [4.]]\n",
      "\n",
      "El tiempo de ejecución es: 0.000301959999887913\n",
      "\n",
      "Primero, resolvemos L * Y =  P * b:\n",
      "La solución de Y es:\n",
      "[[ 8. ]\n",
      " [ 0. ]\n",
      " [ 4. ]\n",
      " [ 0.5]\n",
      " [-1. ]]\n",
      "\n",
      "Luego desarrollamos U * X = Y:\n",
      "La solución de X es: \n",
      "[[3.]\n",
      " [2.]\n",
      " [2.]\n",
      " [5.]\n",
      " [1.]]\n",
      "\n",
      "La calidad de la solución es:\n",
      "\n",
      "0.0 ≤ ||E||∞/||x||∞ ≤ 0.0\n"
     ]
    }
   ],
   "source": [
    "# Librerías numpy y scipy\n",
    "from  time  import*\n",
    "import numpy as np\n",
    "import pprint\n",
    "import scipy\n",
    "import scipy.linalg  \n",
    "\n",
    "print('MÉTODO LU CON PIVOTEO',end=\"\\n\\ n\")\n",
    "\n",
    "print(\"Este método te halla las matrices L, U y P y cálcula la solución del sistema L * U * X = P * b. Siendo L * U = P * A.\\n\")\n",
    "\n",
    "# Coloca la matriz A:\n",
    "A=np.array([[1,1,0,-1,0],[1,0,0,0,-1],[4,4,1,-2,-4],[0,1,0,0,-2],[0,0,2,0,0]],float)\n",
    "\n",
    "# Coloca el vector solución b:\n",
    "b=np.array([[0],[2],[8],[0],[4]],float)\n",
    "\n",
    "\n",
    "t1=perf_counter(); #Calcula tiempo inicio del algoritmo\n",
    "# Función LU, aquí se inserta la matriz y su tamaño\n",
    "P, L, U = scipy.linalg.lu(A)\n",
    "t2=perf_counter(); #Calcula tiempo final del algoritmo\n",
    "\n",
    "A = np.array(A,float)\n",
    "P = np.array(P,float)\n",
    "L = np.array(L,float)\n",
    "U = np.array(U,float)\n",
    "\n",
    "print (\"Matriz A:\")\n",
    "pprint.pprint(A)\n",
    "print (\"Matriz P:\")\n",
    "pprint.pprint(np.linalg.inv(P))\n",
    "print (\"Matriz L:\")\n",
    "pprint.pprint(L)\n",
    "print (\"Matriz U:\")\n",
    "pprint.pprint(U)\n",
    "print(\"\\nVector solución b: \\n\"+str(b))\n",
    "\n",
    "print(\"\\nEl tiempo de ejecución es: \"+str(t2-t1))\n",
    "\n",
    "print(\"\\nPrimero, resolvemos L * Y =  P * b:\")\n",
    "L = np.dot(P,L)\n",
    "y = np.linalg.solve(L,b)\n",
    "print(\"La solución de Y es:\\n\" +str(y))\n",
    "\n",
    "print(\"\\nLuego desarrollamos U * X = Y:\")\n",
    "x = np.linalg.solve(U,y)\n",
    "print(\"La solución de X es: \\n\"+str(x))\n",
    "\n",
    "R = x - np.linalg.solve(A,b)\n",
    "\n",
    "print(\"\\nLa calidad de la solución es:\\n\")\n",
    "print(str((np.linalg.norm(R,np.inf)/np.linalg.norm(b,np.inf))*(1/np.linalg.cond(A,np.inf)))+\" ≤ ||E||∞/||x||∞ ≤ \"+str((np.linalg.norm(R,np.inf)/np.linalg.norm(b,np.inf))*np.linalg.cond(A,np.inf)))"
   ]
  },
  {
   "cell_type": "markdown",
   "id": "reliable-timothy",
   "metadata": {},
   "source": [
    "la que tiene unos en la diagonal es L, mientras que la otra no"
   ]
  },
  {
   "cell_type": "code",
   "execution_count": null,
   "id": "psychological-recording",
   "metadata": {},
   "outputs": [],
   "source": []
  }
 ],
 "metadata": {
  "kernelspec": {
   "display_name": "Python 3",
   "language": "python",
   "name": "python3"
  },
  "language_info": {
   "codemirror_mode": {
    "name": "ipython",
    "version": 3
   },
   "file_extension": ".py",
   "mimetype": "text/x-python",
   "name": "python",
   "nbconvert_exporter": "python",
   "pygments_lexer": "ipython3",
   "version": "3.9.2"
  }
 },
 "nbformat": 4,
 "nbformat_minor": 5
}
