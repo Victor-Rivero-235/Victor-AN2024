{
 "cells": [
  {
   "cell_type": "markdown",
   "id": "curious-maker",
   "metadata": {},
   "source": [
    "Calculando $\\pi$"
   ]
  },
  {
   "cell_type": "code",
   "execution_count": 66,
   "id": "documentary-casino",
   "metadata": {},
   "outputs": [],
   "source": [
    "import numpy as np\n",
    "import matplotlib.pyplot as plt\n",
    "import mpmath as mp"
   ]
  },
  {
   "cell_type": "markdown",
   "id": "national-cannon",
   "metadata": {},
   "source": [
    "Este ciclo me calcula el valor del numero en el valor $n$ que yo quiera"
   ]
  },
  {
   "cell_type": "code",
   "execution_count": 113,
   "id": "selected-mathematics",
   "metadata": {},
   "outputs": [],
   "source": [
    "mp.mp.dps=2000\n",
    "\n",
    "def pi(n, S):\n",
    "    \n",
    "    for i in range (n): #establezco ciclo for con contador i y alcance n\n",
    "        S+=(1/mp.power(16,i))*(((4/(8*i + 1)) - (2/(8*i + 4)) - (1/(8*i + 5)) - (1/(8*i + 6))))       #mi funcion\n",
    "    return S #al final me debe de devolver el valor de la suma ajaja que tonto xd"
   ]
  },
  {
   "cell_type": "markdown",
   "id": "impaired-cooperative",
   "metadata": {},
   "source": [
    "S=0\n",
    "\n",
    "n=10000\n",
    "\n",
    "display(pi(n, S))"
   ]
  },
  {
   "cell_type": "code",
   "execution_count": 150,
   "id": "environmental-history",
   "metadata": {},
   "outputs": [],
   "source": [
    "import numpy as np\n",
    "import matplotlib.pyplot as plt\n",
    "import mpmath as mp"
   ]
  },
  {
   "cell_type": "code",
   "execution_count": 164,
   "id": "amino-coach",
   "metadata": {},
   "outputs": [],
   "source": [
    "mp.mp.dps=21\n",
    "\n",
    "def pi(n, S):\n",
    "    \n",
    "    for i in range (n): #establezco ciclo for con contador i y alcance n\n",
    "        S+=((2*mp.sqrt(2))/9801)*((26390*n + 1103)/(mp.power(396,4*n)))*(mp.factorial(4*n)/(mp.power(mp.factorial(n),4)))\n",
    "    s=1/S\n",
    "    return s #al final me debe de devolver el valor de la suma ajaja que tonto xd"
   ]
  },
  {
   "cell_type": "code",
   "execution_count": 166,
   "id": "consistent-action",
   "metadata": {},
   "outputs": [
    {
     "data": {
      "text/plain": [
       "mpf('2.2474451720226944297585e+79')"
      ]
     },
     "metadata": {},
     "output_type": "display_data"
    }
   ],
   "source": [
    "S=0\n",
    "\n",
    "n=10\n",
    "\n",
    "display(pi(n,S))"
   ]
  },
  {
   "cell_type": "code",
   "execution_count": null,
   "id": "apparent-cameroon",
   "metadata": {},
   "outputs": [],
   "source": []
  }
 ],
 "metadata": {
  "kernelspec": {
   "display_name": "Python 3",
   "language": "python",
   "name": "python3"
  },
  "language_info": {
   "codemirror_mode": {
    "name": "ipython",
    "version": 3
   },
   "file_extension": ".py",
   "mimetype": "text/x-python",
   "name": "python",
   "nbconvert_exporter": "python",
   "pygments_lexer": "ipython3",
   "version": "3.9.2"
  }
 },
 "nbformat": 4,
 "nbformat_minor": 5
}
