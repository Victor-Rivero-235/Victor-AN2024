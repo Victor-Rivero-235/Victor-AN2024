{
 "cells": [
  {
   "cell_type": "markdown",
   "id": "57412479",
   "metadata": {},
   "source": [
    "Calculando $\\pi$"
   ]
  },
  {
   "cell_type": "markdown",
   "id": "89a897f8",
   "metadata": {},
   "source": [
    "Aqui se muestran dos formas de calcular $\\pi$, las cuales difieren unas de otras. En la primer forma, se hace uso del metodo de tres autores, en forma de sumas de un producto."
   ]
  },
  {
   "cell_type": "code",
   "execution_count": 43,
   "id": "31f74116",
   "metadata": {},
   "outputs": [],
   "source": [
    "import numpy as np\n",
    "import matplotlib.pyplot as plt\n",
    "import mpmath as mp"
   ]
  },
  {
   "cell_type": "code",
   "execution_count": 44,
   "id": "3d0540e7",
   "metadata": {},
   "outputs": [],
   "source": [
    "mp.mp.dps=780\n",
    "\n",
    "def pi1(n1,S1):\n",
    "    for i in range (n1):\n",
    "        S1+=(1/mp.power(16,i))*(((4/(8*i + 1)) - (2/(8*i + 4)) - (1/(8*i + 5)) - (1/(8*i + 6))))\n",
    "    return S1\n",
    "    "
   ]
  },
  {
   "cell_type": "code",
   "execution_count": 45,
   "id": "001723d5",
   "metadata": {},
   "outputs": [
    {
     "data": {
      "text/plain": [
       "mpf('3.14159265358979320958168967208537608621428145036074311904228971058647642051543596318494920909563447085181339985340155569470077663409267489124341918652468654893170682254241954251253949536607132935366385433587051333878148184190242833450355570692107341979310347725901151492239215509724035089607529133091093193121732881587660036870522466115218855205265170041130060480199951900198144650811165178168631884596986650346061458773105901087774327606894075870513916015625')"
      ]
     },
     "metadata": {},
     "output_type": "display_data"
    }
   ],
   "source": [
    "S1=0\n",
    "\n",
    "n1=100\n",
    "\n",
    "display(pi(n1, S1))"
   ]
  },
  {
   "cell_type": "markdown",
   "id": "7295f08a",
   "metadata": {},
   "source": [
    "Mostrando que el resultado en cierto número de decimales, la precision cambia, siendo el mismo resultado en cada iteración."
   ]
  },
  {
   "cell_type": "markdown",
   "id": "fddd8ef8",
   "metadata": {},
   "source": [
    "Usando a Ramanujan y su forma de expresar $\\pi$, se comprueba que en este número trascendente, existen los seis nueves consecutivos."
   ]
  },
  {
   "cell_type": "code",
   "execution_count": 46,
   "id": "7b12fcbd",
   "metadata": {},
   "outputs": [],
   "source": [
    "import numpy as np\n",
    "import matplotlib.pyplot as plt\n",
    "import mpmath as mp"
   ]
  },
  {
   "cell_type": "code",
   "execution_count": 47,
   "id": "ac869d4f",
   "metadata": {},
   "outputs": [],
   "source": [
    "mp.mp.dps=780\n",
    "\n",
    "def pi2(n2, S2, s2):\n",
    "    for i in range (n2):\n",
    "        S2+=((2*mp.sqrt(2))/9801)*((26390*i + 1103)/(mp.power(396,4*i)))*(mp.factorial(4*i)/(mp.power(mp.factorial(i),4)))\n",
    "        s2=1/S2\n",
    "    return s2"
   ]
  },
  {
   "cell_type": "code",
   "execution_count": 48,
   "id": "d9ebf28a",
   "metadata": {
    "scrolled": true
   },
   "outputs": [
    {
     "name": "stdout",
     "output_type": "stream",
     "text": [
      "3.14159265358979323846264338327950288419716939937510582097494459230781640628620899862803482534211706798214808651328230664709384460955058223172535940812848111745028410270193852110555964462294895493038196442881097566593344612847564823378678316527120190914564856692346034861045432664821339360726024914127372458700660631558817488152092096282925409171536436789259036001133053054882046652138414695194151160943305727036575959195309218611738193261179310511854807446237996274956735188575272489122793818301194912983367336244065664308602139494639522473719070217986094370277053921717629317675238467481846766940513200056812714526356082778577134275778960917363717872146844090122495343014654958537105079227968925892354201995611212902196086403441815981362977477130996051870721134999999837297804995\n"
     ]
    }
   ],
   "source": [
    "S2=0\n",
    "\n",
    "n2=100\n",
    "\n",
    "s2=0\n",
    "\n",
    "resultado=pi2(n2, S2, s2)\n",
    "\n",
    "print(resultado)"
   ]
  },
  {
   "cell_type": "code",
   "execution_count": 49,
   "id": "c8522b53",
   "metadata": {},
   "outputs": [
    {
     "name": "stdout",
     "output_type": "stream",
     "text": [
      "La posición del caracter '999999' usando find() es: 763\n"
     ]
    }
   ],
   "source": [
    "cadena=str(resultado)\n",
    "\n",
    "caracter='999999'\n",
    "\n",
    "posicion_find=cadena.find(caracter)\n",
    "\n",
    "print(\"La posición del caracter '{}' usando find() es: {}\".format(caracter, posicion_find))"
   ]
  },
  {
   "cell_type": "markdown",
   "id": "a470ea72",
   "metadata": {},
   "source": [
    "El valor obtenido de la posicion es contando el número entero, por lo que la posicion final de esa secuencia de numeros es la 762"
   ]
  }
 ],
 "metadata": {
  "kernelspec": {
   "display_name": "Python 3 (ipykernel)",
   "language": "python",
   "name": "python3"
  },
  "language_info": {
   "codemirror_mode": {
    "name": "ipython",
    "version": 3
   },
   "file_extension": ".py",
   "mimetype": "text/x-python",
   "name": "python",
   "nbconvert_exporter": "python",
   "pygments_lexer": "ipython3",
   "version": "3.11.5"
  }
 },
 "nbformat": 4,
 "nbformat_minor": 5
}
