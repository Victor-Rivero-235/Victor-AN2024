{
 "cells": [
  {
   "cell_type": "markdown",
   "id": "specialized-compromise",
   "metadata": {},
   "source": [
    "# Diferencias finitas"
   ]
  },
  {
   "cell_type": "markdown",
   "id": "typical-cisco",
   "metadata": {},
   "source": [
    "1. Una función que no sea analitica\n",
    "2. Que sea costoso de evaluar\n",
    "\n",
    "$\\frac{df}{dx}=\\lim_{x\\rightarrow x_0}\\frac{f(x+h)-f(x)}{h}$"
   ]
  },
  {
   "cell_type": "markdown",
   "id": "purple-machine",
   "metadata": {},
   "source": [
    "1. Error de aproximacion:\n",
    "\n",
    "$ \\epsilon_{app}=\\frac{h}{2}|f''(x)|$\n",
    "\n",
    "2. Error aritmetico:\n",
    "\n",
    "$\\epsilon_{or}=\\frac{2|f(x)|\\epsilon_maq}{h}$\n",
    "\n",
    "por lo que el error optimo es: \n",
    "\n",
    "$h_{op}=\\sqrt{4_{em}\\frac{|f(x)|}{|f''(x)|}}$\n",
    "\n",
    "donde $\\epsilon{em}$ es error de maquina, $\\epsilon_{app}$ es un error de aplicacion\n",
    "\n",
    "$f'(x)=\\frac{f \\left( x+\\frac{h}{2}\\right) - f\\left(x-\\frac{h}{2}\\right) }{h}-\\frac{h^2}{24}f'''(x)$"
   ]
  },
  {
   "cell_type": "code",
   "execution_count": 106,
   "id": "rural-pillow",
   "metadata": {},
   "outputs": [],
   "source": [
    "import numpy as np\n",
    "import sympy as sy\n",
    "import matplotlib.pyplot as plt\n",
    "\n",
    "import math\n",
    "\n",
    "import mpmath as mp\n",
    "\n",
    "\n",
    "from sympy import *\n",
    "from sympy.plotting import plot\n",
    "from sympy.abc import x\n",
    "\n",
    "init_printing()"
   ]
  },
  {
   "cell_type": "code",
   "execution_count": 90,
   "id": "excessive-genius",
   "metadata": {},
   "outputs": [
    {
     "name": "stdout",
     "output_type": "stream",
     "text": [
      "0.46916418587400077\n"
     ]
    }
   ],
   "source": [
    "x=sy.symbols('x')\n",
    "\n",
    "f=sy.exp(sy.sin(2*x))\n",
    "\n",
    "ffunc=sy.lambdify(x,f)\n",
    "\n",
    "\n",
    "print(ffunc(2))"
   ]
  },
  {
   "cell_type": "code",
   "execution_count": 92,
   "id": "atomic-prevention",
   "metadata": {},
   "outputs": [
    {
     "data": {
      "text/plain": [
       "[<matplotlib.lines.Line2D at 0x7f95a8744460>]"
      ]
     },
     "execution_count": 92,
     "metadata": {},
     "output_type": "execute_result"
    },
    {
     "data": {
      "image/png": "[encoded data removed]",
      "text/plain": [
       "<Figure size 432x288 with 1 Axes>"
      ]
     },
     "metadata": {
      "needs_background": "light"
     },
     "output_type": "display_data"
    }
   ],
   "source": [
    "X=np.linspace(-1,6)\n",
    "Yfunc=sy.lambdify(x,f)\n",
    "Y=Yfunc(X)\n",
    "plt.grid(True)\n",
    "plt.plot(X,Y, label=\"g(x)\", color=\"violet\")"
   ]
  },
  {
   "cell_type": "code",
   "execution_count": 72,
   "id": "considered-shame",
   "metadata": {},
   "outputs": [
    {
     "data": {
      "image/png": "[encoded data removed]",
      "text/latex": [
       "$\\displaystyle e^{\\sin{\\left(2 x \\right)}}$"
      ],
      "text/plain": [
       " sin(2⋅x)\n",
       "ℯ        "
      ]
     },
     "execution_count": 72,
     "metadata": {},
     "output_type": "execute_result"
    }
   ],
   "source": [
    "f"
   ]
  },
  {
   "cell_type": "code",
   "execution_count": 73,
   "id": "cosmetic-glucose",
   "metadata": {},
   "outputs": [
    {
     "data": {
      "image/png": "[encoded data removed]",
      "text/latex": [
       "$\\displaystyle 2 e^{\\sin{\\left(2 x \\right)}} \\cos{\\left(2 x \\right)}$"
      ],
      "text/plain": [
       "   sin(2⋅x)         \n",
       "2⋅ℯ        ⋅cos(2⋅x)"
      ]
     },
     "execution_count": 73,
     "metadata": {},
     "output_type": "execute_result"
    }
   ],
   "source": [
    "df=diff(f,x)\n",
    "\n",
    "df"
   ]
  },
  {
   "cell_type": "code",
   "execution_count": 74,
   "id": "alternative-python",
   "metadata": {},
   "outputs": [
    {
     "data": {
      "image/png": "[encoded data removed]",
      "text/latex": [
       "$\\displaystyle 4 \\left(- \\sin{\\left(2 x \\right)} + \\cos^{2}{\\left(2 x \\right)}\\right) e^{\\sin{\\left(2 x \\right)}}$"
      ],
      "text/plain": [
       "  ⎛               2     ⎞  sin(2⋅x)\n",
       "4⋅⎝-sin(2⋅x) + cos (2⋅x)⎠⋅ℯ        "
      ]
     },
     "execution_count": 74,
     "metadata": {},
     "output_type": "execute_result"
    }
   ],
   "source": [
    "d2f=diff(f,x,2)\n",
    "\n",
    "d2f"
   ]
  },
  {
   "cell_type": "code",
   "execution_count": 75,
   "id": "assisted-chapel",
   "metadata": {},
   "outputs": [
    {
     "data": {
      "image/png": "[encoded data removed]",
      "text/latex": [
       "$\\displaystyle 8 \\left(- 3 \\sin{\\left(2 x \\right)} + \\cos^{2}{\\left(2 x \\right)} - 1\\right) e^{\\sin{\\left(2 x \\right)}} \\cos{\\left(2 x \\right)}$"
      ],
      "text/plain": [
       "  ⎛                 2         ⎞  sin(2⋅x)         \n",
       "8⋅⎝-3⋅sin(2⋅x) + cos (2⋅x) - 1⎠⋅ℯ        ⋅cos(2⋅x)"
      ]
     },
     "execution_count": 75,
     "metadata": {},
     "output_type": "execute_result"
    }
   ],
   "source": [
    "d3f=diff(f,x,3)\n",
    "\n",
    "d3f"
   ]
  },
  {
   "cell_type": "code",
   "execution_count": 97,
   "id": "timely-circumstances",
   "metadata": {},
   "outputs": [
    {
     "name": "stdout",
     "output_type": "stream",
     "text": [
      "7.309892894315316\n"
     ]
    }
   ],
   "source": [
    "h=1e-5\n",
    "\n",
    "e_app=(h/2)*(d2f)\n",
    "\n",
    "fe_app=sy.lambdify(x,d2f)\n",
    "\n",
    "print(abs(fe_app(1)))"
   ]
  },
  {
   "cell_type": "markdown",
   "id": "greater-rebound",
   "metadata": {},
   "source": [
    "hacer la derivada de la funcion, despues restarle la forward en (x,h) y despues se restan\n",
    "\n",
    "https://gei-cal.github.io/JB-Calculo1-UDC/capitulos/05/05.Derivacion.html"
   ]
  },
  {
   "cell_type": "code",
   "execution_count": 98,
   "id": "adjacent-source",
   "metadata": {},
   "outputs": [],
   "source": [
    "j=14\n",
    "N=j\n",
    "y1=np.empty(j+1) #arreglo lleno de ceros\n",
    "#y=np.arange(j+1) crea un arreglo lleno de una secuencia de numeros\n",
    "for z in range(j+1):\n",
    "    y1[z]=np.exp(np.sin(2*z))\n",
    "    \n",
    "    \n",
    "#no olvidar que las funciones son en radianes"
   ]
  },
  {
   "cell_type": "code",
   "execution_count": 99,
   "id": "violent-tribune",
   "metadata": {},
   "outputs": [
    {
     "data": {
      "text/plain": [
       "array([1.        , 2.48257773, 0.46916419, 0.75622563, 2.68950792,\n",
       "       0.58040966, 0.5847488 , 2.69286951, 0.74983409, 0.47190044,\n",
       "       2.49165027, 0.99118775, 0.40430798, 2.1437539 , 1.31115154])"
      ]
     },
     "execution_count": 99,
     "metadata": {},
     "output_type": "execute_result"
    }
   ],
   "source": [
    "y1"
   ]
  },
  {
   "cell_type": "code",
   "execution_count": 100,
   "id": "violent-pavilion",
   "metadata": {},
   "outputs": [],
   "source": [
    "j=14\n",
    "N=j\n",
    "y2=np.empty(j+1) #arreglo lleno de ceros\n",
    "#y=np.arange(j+1) crea un arreglo lleno de una secuencia de numeros\n",
    "for z in range(j+1):\n",
    "    y2[z]=2*np.exp(np.sin(2*z))*cos(2*z)\n",
    "    "
   ]
  },
  {
   "cell_type": "code",
   "execution_count": 101,
   "id": "painful-jimmy",
   "metadata": {},
   "outputs": [
    {
     "data": {
      "text/plain": [
       "array([ 2.        , -2.06623374, -0.61333235,  1.45221076, -0.78264699,\n",
       "       -0.97401045,  0.98688519,  0.73643097, -1.43617144,  0.62320749,\n",
       "        2.03359556, -1.98229784,  0.34299792,  2.77367164, -2.52424433])"
      ]
     },
     "execution_count": 101,
     "metadata": {},
     "output_type": "execute_result"
    }
   ],
   "source": [
    "y2"
   ]
  },
  {
   "cell_type": "code",
   "execution_count": 103,
   "id": "minute-healthcare",
   "metadata": {},
   "outputs": [],
   "source": [
    "j=14\n",
    "N=j\n",
    "y3=np.empty(j+1) #arreglo lleno de ceros\n",
    "#y=np.arange(j+1) crea un arreglo lleno de una secuencia de numeros\n",
    "for z in range(j+1):\n",
    "    y3[z]=2*np.exp(np.sin(2*z))*cos(2*z)*(-3*np.sin(2*z)+(np.cos(2*z)*np.cos(2*z))-1)"
   ]
  },
  {
   "cell_type": "code",
   "execution_count": 104,
   "id": "defensive-large",
   "metadata": {},
   "outputs": [
    {
     "data": {
      "text/plain": [
       "array([ 0.        ,  7.34487018, -1.04122825,  1.10393209,  3.08903289,\n",
       "       -1.30137961,  1.30447299, -2.91120368, -1.12139373,  1.05258492,\n",
       "       -7.26462315, -0.05248249,  0.65055143, -7.95813751,  2.23675135])"
      ]
     },
     "execution_count": 104,
     "metadata": {},
     "output_type": "execute_result"
    }
   ],
   "source": [
    "y3"
   ]
  },
  {
   "cell_type": "code",
   "execution_count": 105,
   "id": "elegant-edwards",
   "metadata": {},
   "outputs": [
    {
     "data": {
      "text/plain": [
       "array([ 1.        , -4.86229245,  1.51039244, -0.34770647, -0.39952498,\n",
       "        1.88178927, -0.71972419,  5.60407319,  1.87122781, -0.58068448,\n",
       "        9.75627342,  1.04367024, -0.24624345, 10.10189141, -0.92559981])"
      ]
     },
     "execution_count": 105,
     "metadata": {},
     "output_type": "execute_result"
    }
   ],
   "source": [
    "y1-y3"
   ]
  },
  {
   "cell_type": "code",
   "execution_count": null,
   "id": "partial-external",
   "metadata": {},
   "outputs": [],
   "source": []
  }
 ],
 "metadata": {
  "kernelspec": {
   "display_name": "Python 3",
   "language": "python",
   "name": "python3"
  },
  "language_info": {
   "codemirror_mode": {
    "name": "ipython",
    "version": 3
   },
   "file_extension": ".py",
   "mimetype": "text/x-python",
   "name": "python",
   "nbconvert_exporter": "python",
   "pygments_lexer": "ipython3",
   "version": "3.9.2"
  }
 },
 "nbformat": 4,
 "nbformat_minor": 5
}
