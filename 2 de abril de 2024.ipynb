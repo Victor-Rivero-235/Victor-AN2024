{
 "cells": [
  {
   "cell_type": "markdown",
   "id": "marked-lighter",
   "metadata": {},
   "source": [
    "# Diferenciacion automatica"
   ]
  },
  {
   "cell_type": "code",
   "execution_count": 13,
   "id": "divine-generation",
   "metadata": {},
   "outputs": [],
   "source": [
    "import numpy as np\n",
    "import sympy as sy\n",
    "import matplotlib.pyplot as plt\n",
    "\n",
    "import math\n",
    "\n",
    "import mpmath as mp\n",
    "\n",
    "\n",
    "from sympy import *\n",
    "from sympy.plotting import plot\n",
    "from sympy.abc import x\n",
    "\n",
    "init_printing()"
   ]
  },
  {
   "cell_type": "markdown",
   "id": "wanted-cycle",
   "metadata": {},
   "source": [
    "file:///home/aamyf/Descargas/M%C3%A9todos+num%C3%A9ricos+con+Python+-+Nueva+versi%C3%B3n-2.pdf\n",
    "\n",
    "file:///home/aamyf/Descargas/129-Texto%20del%20art%C3%ADculo-908-1-10-20181112.pdf\n",
    "\n"
   ]
  },
  {
   "cell_type": "code",
   "execution_count": 19,
   "id": "built-submission",
   "metadata": {},
   "outputs": [
    {
     "data": {
      "image/png": "[encoded data removed]",
      "text/latex": [
       "$\\displaystyle 12.0$"
      ],
      "text/plain": [
       "12.0"
      ]
     },
     "metadata": {},
     "output_type": "display_data"
    },
    {
     "data": {
      "image/png": "[encoded data removed]",
      "text/latex": [
       "$\\displaystyle -0.5$"
      ],
      "text/plain": [
       "-0.5"
      ]
     },
     "metadata": {},
     "output_type": "display_data"
    }
   ],
   "source": [
    "def grassp(x, y):\n",
    "    return [x[0]*y[0], x[0]*y[1] + x[1]*y[0]] #producto grassmaniano \n",
    "def grassi(z):\n",
    "    return [1/z[0], -z[1]/(z[0]**2)] #inverso grasmaniano\n",
    "def grass(z):\n",
    "    Z=np.array([z,1]) #funcion en terminos de numeros de grassman \n",
    "    return grassp(grassp(Z+[2,0], Z-[3,0]), grassi(Z-[4,0]))\n",
    "b=grass(6)[0]\n",
    "display(b)\n",
    "a=grass(6)[1]\n",
    "display(a)"
   ]
  },
  {
   "cell_type": "code",
   "execution_count": 21,
   "id": "dying-client",
   "metadata": {},
   "outputs": [],
   "source": [
    "\n",
    "\n",
    "\n",
    "\n",
    "\n",
    "\n",
    "\n",
    "\n",
    "\n",
    "\n",
    "\n",
    "\n",
    "\n",
    "\n",
    "\n",
    "\n",
    "\n",
    "\n",
    "\n",
    "\n",
    "\n",
    "from math import *\n",
    "from pprint import pprint\n",
    "\n",
    "def lu(A):\n",
    "    \n",
    "    \n",
    "    \n",
    "    \n",
    "    \n",
    "    \n",
    "    \n",
    "    \n",
    "    \n",
    "    \n",
    "    n=len(A)\n",
    "    \n",
    "    L=[[0 for x in range (n)]for x in range (n)]\n",
    "    U=[[0 for x in range (n)]for x in range (n)]\n",
    "    \n",
    "    #dolittle\n",
    "    L[0][0]=1\n",
    "    U[0][0]=A[0][0]\n",
    "    \n",
    "    if abs(L[0][0]*U[0][0]) <=1e-15:\n",
    "        print(\"imposible descomponer\")\n",
    "        return None\n",
    "    \n",
    "    for j in range (1, n):\n",
    "        U[0][j]=A[0][j]/L[0][0]\n",
    "        L[j][0]=A[j][0]/U[0][0]\n",
    "        \n",
    "    for i in range(1, n-1):\n",
    "        L[i][i]=1\n",
    "        s=sum([L[i][k]*U[k][i] for k in range (i)])\n",
    "        U[i][i]=A[i][i]-s\n",
    "        \n",
    "        if abs(L[i][i]*U[i][i]) <= 1e-15:\n",
    "            print(\"imporsible descomponer\")\n",
    "            return None\n",
    "        \n",
    "        for j in range (i+1, n):\n",
    "            s1=sum([L[i][k]*U[k][j] for k in range (i)])\n",
    "            s2=sum([L[j][k]*U[k][i] for k in range (i)])\n",
    "            U[i][j]=A[i][j]-s1\n",
    "            L[j][i]=(A[j][i]-s2)/U[i][i]"
   ]
  },
  {
   "cell_type": "code",
   "execution_count": null,
   "id": "adult-snapshot",
   "metadata": {},
   "outputs": [],
   "source": []
  },
  {
   "cell_type": "code",
   "execution_count": null,
   "id": "forbidden-update",
   "metadata": {},
   "outputs": [],
   "source": []
  }
 ],
 "metadata": {
  "kernelspec": {
   "display_name": "Python 3",
   "language": "python",
   "name": "python3"
  },
  "language_info": {
   "codemirror_mode": {
    "name": "ipython",
    "version": 3
   },
   "file_extension": ".py",
   "mimetype": "text/x-python",
   "name": "python",
   "nbconvert_exporter": "python",
   "pygments_lexer": "ipython3",
   "version": "3.9.2"
  }
 },
 "nbformat": 4,
 "nbformat_minor": 5
}
