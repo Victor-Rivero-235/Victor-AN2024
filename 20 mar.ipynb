{
 "cells": [
  {
   "cell_type": "markdown",
   "id": "processed-conflict",
   "metadata": {},
   "source": [
    "Encontrar raices por medio de Newton-Rhapson-Simpson\n",
    "\n",
    "$x_{n+1}=x_n+((\\tau - x_n + \\epsilon sin(x_n))/(1-\\epsilon*cos*x_n))$\n",
    "\n"
   ]
  },
  {
   "cell_type": "markdown",
   "id": "terminal-convention",
   "metadata": {},
   "source": [
    "Sea la forma de Heron\n",
    "\n",
    "$f(x)=y-x^2$\n",
    "\n",
    "$g(x)=\\frac{1}{2}\\left(x+\\frac{y}{x}\\right)$\n",
    "\n",
    "Sea la forma de Newton \n",
    "\n"
   ]
  },
  {
   "cell_type": "code",
   "execution_count": 47,
   "id": "amateur-badge",
   "metadata": {},
   "outputs": [],
   "source": [
    "import numpy as np\n",
    "import sympy as sy\n",
    "import matplotlib.pyplot as plt"
   ]
  },
  {
   "cell_type": "markdown",
   "id": "known-european",
   "metadata": {},
   "source": [
    "Metodo para obtener raices con el metodo de heron"
   ]
  },
  {
   "cell_type": "code",
   "execution_count": 12,
   "id": "injured-heart",
   "metadata": {},
   "outputs": [],
   "source": [
    "def heron(x,y): #se define una funcion con dos variables, mismas que siempre se van a utilizar\n",
    "    \n",
    "    x=(1/2)*(x+(y/x)) #funcion a tratar\n",
    "    \n",
    "    eabs=y-(x**2) #error absoluto\n",
    "    \n",
    "    erel=np.abs((eabs/y)*100) #error relativo\n",
    "    \n",
    "    if erel<2: #condicion que indica un error relativo menor a 3\n",
    "        return x\n",
    "    else:\n",
    "        return heron(x,y)"
   ]
  },
  {
   "cell_type": "code",
   "execution_count": 15,
   "id": "higher-suite",
   "metadata": {},
   "outputs": [
    {
     "name": "stdout",
     "output_type": "stream",
     "text": [
      "4.148168478288376\n"
     ]
    }
   ],
   "source": [
    "y=17 #numero a introducir\n",
    "x=23 #numero de iteraciones\n",
    "print(heron(x,y))"
   ]
  },
  {
   "cell_type": "markdown",
   "id": "studied-commodity",
   "metadata": {},
   "source": [
    "Metodo para hallar el angulo por el metodo de newton"
   ]
  },
  {
   "cell_type": "code",
   "execution_count": 62,
   "id": "final-nerve",
   "metadata": {},
   "outputs": [],
   "source": [
    "\n",
    "def newton(x,tau,epsilon):\n",
    "    X=x+((tau-x+epsilon*np.sin(x))/(1-epsilon*np.cos(x)))\n",
    "    print(X)\n",
    "    if X == x:\n",
    "        return X\n",
    "    else:\n",
    "        return newton(X, tau, epsilon)"
   ]
  },
  {
   "cell_type": "code",
   "execution_count": 70,
   "id": "third-proceeding",
   "metadata": {},
   "outputs": [
    {
     "name": "stdout",
     "output_type": "stream",
     "text": [
      "1.0889532638373727\n",
      "1.0885977582695516\n",
      "1.0885977523978936\n",
      "1.0885977523978936\n",
      "1.0885977523978936\n"
     ]
    }
   ],
   "source": [
    "x=1\n",
    "tau=1\n",
    "epsilon=0.1\n",
    "\n",
    "print(newton(x,tau,epsilon))"
   ]
  },
  {
   "cell_type": "markdown",
   "id": "signed-identity",
   "metadata": {},
   "source": [
    "Contnuidad de Lipschitz\n",
    "\n",
    "$|f(x)-f(y)|<\\lambda |x-y|$\n",
    "\n",
    "Sea $y$ continua de Lipschitz con $\\lambda<1$ constante\n",
    "\n",
    "Sea $\\alpha$=g($\\alpha$) un punto fijo, $e_n = x_n - \\alpha$\n",
    "\n",
    "$ |e_{n++1}| = |g(x_n) - g(\\alpha)| \\leq \\lambda |x_n - \\alpha| = \\lambda |e_n| |e_n| \\leq \\lambda^n |e_0| $\n",
    "\n"
   ]
  },
  {
   "cell_type": "code",
   "execution_count": null,
   "id": "adaptive-screw",
   "metadata": {},
   "outputs": [],
   "source": []
  }
 ],
 "metadata": {
  "kernelspec": {
   "display_name": "Python 3",
   "language": "python",
   "name": "python3"
  },
  "language_info": {
   "codemirror_mode": {
    "name": "ipython",
    "version": 3
   },
   "file_extension": ".py",
   "mimetype": "text/x-python",
   "name": "python",
   "nbconvert_exporter": "python",
   "pygments_lexer": "ipython3",
   "version": "3.9.2"
  }
 },
 "nbformat": 4,
 "nbformat_minor": 5
}
