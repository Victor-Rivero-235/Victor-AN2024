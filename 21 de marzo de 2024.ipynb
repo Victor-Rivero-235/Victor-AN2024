{
 "cells": [
  {
   "cell_type": "markdown",
   "id": "judicial-america",
   "metadata": {},
   "source": [
    "# Derivadas superiores"
   ]
  },
  {
   "cell_type": "markdown",
   "id": "cardiac-cliff",
   "metadata": {},
   "source": [
    "$f'(x)=\\frac{4f\\left(x+\\frac{h}{2}\\right)-f(x+h)-3f(x)}{h}+\\frac{h^2}{12}f''(x)+\\dots$\n",
    "\n",
    "\n",
    "$f'(x)=\\frac{27f\\left(x+\\frac{h}{2}\\right)+f\\left(x-\\frac{3h}{2}\\right)-27f\\left(x-\\frac{h}{2}\\right)-f\\left(x+\\frac{3h}{2}\\right)}{h}\\dots$"
   ]
  },
  {
   "cell_type": "markdown",
   "id": "worthy-assistant",
   "metadata": {},
   "source": [
    "# Para la segunda derivada"
   ]
  },
  {
   "cell_type": "markdown",
   "id": "choice-chambers",
   "metadata": {},
   "source": [
    "La aproximacion central para las segunda deriva es:\n",
    "\n",
    "\n",
    "$f''(x)=\\frac{4f\\left(x+\\frac{h}{2}\\right)+4f\\left(x-\\frac{h}{2}\\right)-8f(x)}{h^2} + \\Game(h^2)$"
   ]
  },
  {
   "cell_type": "markdown",
   "id": "accredited-wholesale",
   "metadata": {},
   "source": [
    "# Derivacion automatica"
   ]
  },
  {
   "cell_type": "markdown",
   "id": "answering-findings",
   "metadata": {},
   "source": [
    "## Numeros de Grassman"
   ]
  },
  {
   "cell_type": "markdown",
   "id": "twelve-information",
   "metadata": {},
   "source": [
    "Numero dual\n",
    "\n",
    "$x = a+\\acute{a}d$\n",
    "\n",
    "con $a$=alma y $\\acute{a}$=alma y d como un valor antisimetrico, con $d^2$=0. Para entendimiento simple, $a$ es la funcion, $\\acute{a}$ es la derivada y $d$ es un valor complementario, desconocido pero usable.\n",
    "\n",
    "Por ejemplo, tomando la funcion $f(z)=3z^2-z$\n",
    "\n",
    "$3z^2 - z = (3+0d)(z+d) - (z+d)$\n",
    "\n",
    "$= 3(z^2 + 2zd +d^2) - (z+d)$\n",
    "\n",
    "pero $d^2=0$, entonces:\n",
    "\n",
    "$=3(z^2+2zd) - (z+d)$\n",
    "\n",
    "$=3z^2 + 6zd - z - d$\n",
    "\n",
    "reacomodando:\n",
    "\n",
    "$(3z^2 - z) + (6z-1)d$\n",
    "\n",
    "$\\frac{3z^2 - z}{f(z)} + (6z-1)d$\n",
    "\n",
    "donde:\n",
    "\n",
    "$a=\\frac{3z^2 - z}{f(z)}$\n",
    "\n",
    "$\\acute{a}=6z-1$\n",
    "\n",
    "Al final, $\\acute{a}=6z-1$ es la derivada de la funcion inicial $f(z)=3z^2-z$."
   ]
  },
  {
   "cell_type": "markdown",
   "id": "strange-notion",
   "metadata": {},
   "source": [
    "Ejercicio:\n",
    "\n",
    "Hallar la derivada de la funcion $f(z)=\\frac{(z+2)(z-3)}{z-4}$"
   ]
  },
  {
   "cell_type": "markdown",
   "id": "regional-cheese",
   "metadata": {},
   "source": [
    "https://culturacientifica.com/2022/12/21/valentina-borok-una-reconocida-especialista-en-ecuaciones-en-derivadas-parciales/\n",
    "\n",
    "https://aprendergratis.es/cursos-online/curso-de-simulaciones-usando-python/\n",
    "\n",
    "https://www.coursera.org/learn/computers-waves-simulations?irgwc=1&utm_medium=partners&utm_source=impact&utm_campaign=2523421&utm_content=b2c"
   ]
  },
  {
   "cell_type": "code",
   "execution_count": 30,
   "id": "asian-ukraine",
   "metadata": {},
   "outputs": [],
   "source": [
    "import numpy as np\n",
    "import sympy as sy\n",
    "import matplotlib.pyplot as plt\n",
    "\n",
    "import math\n",
    "\n",
    "import mpmath as mp\n",
    "\n",
    "\n",
    "from sympy import *\n",
    "from sympy.plotting import plot\n",
    "from sympy.abc import x\n",
    "\n",
    "init_printing()"
   ]
  },
  {
   "cell_type": "code",
   "execution_count": 31,
   "id": "greater-slide",
   "metadata": {},
   "outputs": [],
   "source": [
    "z=sy.symbols('z')\n",
    "\n",
    "f=((z+2)*(z-3))/(z-4)"
   ]
  },
  {
   "cell_type": "code",
   "execution_count": 32,
   "id": "identified-arrow",
   "metadata": {},
   "outputs": [
    {
     "data": {
      "image/png": "[encoded data removed]",
      "text/latex": [
       "$\\displaystyle \\frac{\\left(z - 3\\right) \\left(z + 2\\right)}{z - 4}$"
      ],
      "text/plain": [
       "(z - 3)⋅(z + 2)\n",
       "───────────────\n",
       "     z - 4     "
      ]
     },
     "execution_count": 32,
     "metadata": {},
     "output_type": "execute_result"
    }
   ],
   "source": [
    "f"
   ]
  },
  {
   "cell_type": "code",
   "execution_count": 33,
   "id": "tested-philip",
   "metadata": {},
   "outputs": [
    {
     "data": {
      "image/png": "[encoded data removed]",
      "text/latex": [
       "$\\displaystyle \\frac{z - 3}{z - 4} + \\frac{z + 2}{z - 4} - \\frac{\\left(z - 3\\right) \\left(z + 2\\right)}{\\left(z - 4\\right)^{2}}$"
      ],
      "text/plain": [
       "z - 3   z + 2   (z - 3)⋅(z + 2)\n",
       "───── + ───── - ───────────────\n",
       "z - 4   z - 4              2   \n",
       "                    (z - 4)    "
      ]
     },
     "execution_count": 33,
     "metadata": {},
     "output_type": "execute_result"
    }
   ],
   "source": [
    "df=diff(f,z)\n",
    "\n",
    "df"
   ]
  },
  {
   "cell_type": "code",
   "execution_count": 29,
   "id": "detected-mixture",
   "metadata": {},
   "outputs": [],
   "source": [
    "def gp(x,y):\n",
    "    return [x[0]*y[0], x[0]*y[1] + x[1]*y[0]] #s"
   ]
  }
 ],
 "metadata": {
  "kernelspec": {
   "display_name": "Python 3",
   "language": "python",
   "name": "python3"
  },
  "language_info": {
   "codemirror_mode": {
    "name": "ipython",
    "version": 3
   },
   "file_extension": ".py",
   "mimetype": "text/x-python",
   "name": "python",
   "nbconvert_exporter": "python",
   "pygments_lexer": "ipython3",
   "version": "3.9.2"
  }
 },
 "nbformat": 4,
 "nbformat_minor": 5
}
