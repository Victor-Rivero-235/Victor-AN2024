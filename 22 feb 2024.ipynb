{
 "cells": [
  {
   "cell_type": "markdown",
   "id": "charitable-parking",
   "metadata": {},
   "source": [
    "Condicion de Lipschitz\n",
    "\n",
    "Sea $g\\in C^1$ en un intervalo alrededor de $\\alpha$\n",
    "\n",
    "\n",
    "$\\alpha = g(\\alpha)$\n",
    "\n",
    "$|g(\\alpha) - g(x)| < \\lambda|\\alpha - x|$\n",
    "\n",
    "$\\forall \\epsilon > 0, \\exists A>0 | \\forall x \\in [\\alpha - A, \\alpha + A], |g(\\alpha) - g(x)| \\leq \\lambda|\\alpha - x|$\n",
    "\n",
    "$\\Longrightarrow$\n",
    "\n",
    "$\\lambda \\leq |g'(\\alpha)|$"
   ]
  },
  {
   "cell_type": "markdown",
   "id": "aquatic-associate",
   "metadata": {},
   "source": [
    "Esta condición debe de cumplir dos condiciones más:\n",
    "\n",
    "1. Que el punto fijo resuelva mi problema\n",
    "2. $|g'(\\alpha)| \\ll 1$"
   ]
  },
  {
   "cell_type": "markdown",
   "id": "nutritional-cedar",
   "metadata": {},
   "source": [
    "Metodo de la cuerda\n",
    "\n",
    "$g(x)=x - \\frac{f(x)}{f'(x)}$"
   ]
  },
  {
   "cell_type": "markdown",
   "id": "median-calibration",
   "metadata": {},
   "source": [
    "El metodo anterior toma como base la forma de Herón y Newton reemplaza la s por la derivada de la funcion, así, el error es:\n",
    "\n",
    "$|e_{n+1}|=|e_n|^2\\frac{f''(\\alpha)}{2 f'(\\alpha)}$\n",
    "    "
   ]
  },
  {
   "cell_type": "markdown",
   "id": "optional-london",
   "metadata": {},
   "source": [
    "Metodo de Steffensen\n",
    "\n",
    "$g(x)=x-\\frac{f(x)}{f(x+f(x))-f(x)}$"
   ]
  },
  {
   "cell_type": "markdown",
   "id": "complete-jurisdiction",
   "metadata": {},
   "source": [
    "$|e_{n+1}|=\\frac{1}{2}\\left(e_{n-1}^2\\right)\\left(g''(\\alpha)\\right)$"
   ]
  },
  {
   "cell_type": "markdown",
   "id": "adaptive-concrete",
   "metadata": {},
   "source": [
    "$\\heartsuit$\n",
    "\n",
    "Inicio Codigo"
   ]
  },
  {
   "cell_type": "code",
   "execution_count": 37,
   "id": "widespread-inspiration",
   "metadata": {},
   "outputs": [],
   "source": [
    "import numpy as np\n",
    "import sympy as sy\n",
    "import matplotlib.pyplot as plt\n",
    "from sympy import *\n",
    "from sympy.plotting import plot\n",
    "from sympy.abc import x\n",
    "\n",
    "init_printing()"
   ]
  },
  {
   "cell_type": "code",
   "execution_count": 38,
   "id": "tough-belle",
   "metadata": {},
   "outputs": [],
   "source": [
    "f=x+x**2+x**3"
   ]
  },
  {
   "cell_type": "code",
   "execution_count": 39,
   "id": "altered-means",
   "metadata": {},
   "outputs": [
    {
     "data": {
      "image/png": "[encoded data removed]",
      "text/latex": [
       "$\\displaystyle 3 x^{2} + 2 x + 1$"
      ],
      "text/plain": [
       "   2          \n",
       "3⋅x  + 2⋅x + 1"
      ]
     },
     "execution_count": 39,
     "metadata": {},
     "output_type": "execute_result"
    }
   ],
   "source": [
    "df = diff(f, x) # 1era. derivada\n",
    "df"
   ]
  },
  {
   "cell_type": "code",
   "execution_count": 40,
   "id": "afraid-advisory",
   "metadata": {},
   "outputs": [
    {
     "data": {
      "image/png": "[encoded data removed]",
      "text/latex": [
       "$\\displaystyle 2 \\left(3 x + 1\\right)$"
      ],
      "text/plain": [
       "2⋅(3⋅x + 1)"
      ]
     },
     "execution_count": 40,
     "metadata": {},
     "output_type": "execute_result"
    }
   ],
   "source": [
    "d2f=diff(f,x,2) #segunda derivada\n",
    "d2f"
   ]
  },
  {
   "cell_type": "code",
   "execution_count": null,
   "id": "european-method",
   "metadata": {},
   "outputs": [],
   "source": []
  },
  {
   "cell_type": "code",
   "execution_count": 45,
   "id": "global-truth",
   "metadata": {},
   "outputs": [],
   "source": [
    "def cuerda(x,f,g):\n",
    "    f\n",
    "    g=x-(f/df)\n",
    "    if g==x:\n",
    "        return g\n",
    "    else:\n",
    "        cuerda(x,f,g)"
   ]
  },
  {
   "cell_type": "code",
   "execution_count": 48,
   "id": "religious-insulation",
   "metadata": {},
   "outputs": [
    {
     "ename": "RecursionError",
     "evalue": "maximum recursion depth exceeded",
     "output_type": "error",
     "traceback": [
      "\u001b[0;31m---------------------------------------------------------------------------\u001b[0m",
      "\u001b[0;31mRecursionError\u001b[0m                            Traceback (most recent call last)",
      "\u001b[0;32m<ipython-input-48-72665b62fe59>\u001b[0m in \u001b[0;36m<module>\u001b[0;34m\u001b[0m\n\u001b[1;32m      2\u001b[0m \u001b[0mf\u001b[0m\u001b[0;34m=\u001b[0m\u001b[0mx\u001b[0m\u001b[0;34m+\u001b[0m\u001b[0mx\u001b[0m\u001b[0;34m**\u001b[0m\u001b[0;36m2\u001b[0m\u001b[0;34m+\u001b[0m\u001b[0mx\u001b[0m\u001b[0;34m**\u001b[0m\u001b[0;36m3\u001b[0m\u001b[0;34m\u001b[0m\u001b[0;34m\u001b[0m\u001b[0m\n\u001b[1;32m      3\u001b[0m \u001b[0mg\u001b[0m\u001b[0;34m=\u001b[0m\u001b[0mx\u001b[0m\u001b[0;34m-\u001b[0m\u001b[0;34m(\u001b[0m\u001b[0mf\u001b[0m\u001b[0;34m/\u001b[0m\u001b[0mdf\u001b[0m\u001b[0;34m)\u001b[0m\u001b[0;34m\u001b[0m\u001b[0;34m\u001b[0m\u001b[0m\n\u001b[0;32m----> 4\u001b[0;31m \u001b[0mprint\u001b[0m\u001b[0;34m(\u001b[0m\u001b[0mcuerda\u001b[0m\u001b[0;34m(\u001b[0m\u001b[0mx\u001b[0m\u001b[0;34m,\u001b[0m\u001b[0mf\u001b[0m\u001b[0;34m,\u001b[0m \u001b[0mg\u001b[0m\u001b[0;34m)\u001b[0m\u001b[0;34m)\u001b[0m\u001b[0;34m\u001b[0m\u001b[0;34m\u001b[0m\u001b[0m\n\u001b[0m",
      "\u001b[0;32m<ipython-input-45-045f42e9e62a>\u001b[0m in \u001b[0;36mcuerda\u001b[0;34m(x, f, g)\u001b[0m\n\u001b[1;32m      5\u001b[0m         \u001b[0;32mreturn\u001b[0m \u001b[0mg\u001b[0m\u001b[0;34m\u001b[0m\u001b[0;34m\u001b[0m\u001b[0m\n\u001b[1;32m      6\u001b[0m     \u001b[0;32melse\u001b[0m\u001b[0;34m:\u001b[0m\u001b[0;34m\u001b[0m\u001b[0;34m\u001b[0m\u001b[0m\n\u001b[0;32m----> 7\u001b[0;31m         \u001b[0mcuerda\u001b[0m\u001b[0;34m(\u001b[0m\u001b[0mx\u001b[0m\u001b[0;34m,\u001b[0m\u001b[0mf\u001b[0m\u001b[0;34m,\u001b[0m\u001b[0mg\u001b[0m\u001b[0;34m)\u001b[0m\u001b[0;34m\u001b[0m\u001b[0;34m\u001b[0m\u001b[0m\n\u001b[0m",
      "... last 1 frames repeated, from the frame below ...\n",
      "\u001b[0;32m<ipython-input-45-045f42e9e62a>\u001b[0m in \u001b[0;36mcuerda\u001b[0;34m(x, f, g)\u001b[0m\n\u001b[1;32m      5\u001b[0m         \u001b[0;32mreturn\u001b[0m \u001b[0mg\u001b[0m\u001b[0;34m\u001b[0m\u001b[0;34m\u001b[0m\u001b[0m\n\u001b[1;32m      6\u001b[0m     \u001b[0;32melse\u001b[0m\u001b[0;34m:\u001b[0m\u001b[0;34m\u001b[0m\u001b[0;34m\u001b[0m\u001b[0m\n\u001b[0;32m----> 7\u001b[0;31m         \u001b[0mcuerda\u001b[0m\u001b[0;34m(\u001b[0m\u001b[0mx\u001b[0m\u001b[0;34m,\u001b[0m\u001b[0mf\u001b[0m\u001b[0;34m,\u001b[0m\u001b[0mg\u001b[0m\u001b[0;34m)\u001b[0m\u001b[0;34m\u001b[0m\u001b[0;34m\u001b[0m\u001b[0m\n\u001b[0m",
      "\u001b[0;31mRecursionError\u001b[0m: maximum recursion depth exceeded"
     ]
    }
   ],
   "source": [
    "x=3\n",
    "f=x+x**2+x**3\n",
    "g=x-(f/df)\n",
    "print(cuerda(x,f, g))"
   ]
  },
  {
   "cell_type": "code",
   "execution_count": null,
   "id": "premier-orchestra",
   "metadata": {},
   "outputs": [],
   "source": []
  }
 ],
 "metadata": {
  "kernelspec": {
   "display_name": "Python 3",
   "language": "python",
   "name": "python3"
  },
  "language_info": {
   "codemirror_mode": {
    "name": "ipython",
    "version": 3
   },
   "file_extension": ".py",
   "mimetype": "text/x-python",
   "name": "python",
   "nbconvert_exporter": "python",
   "pygments_lexer": "ipython3",
   "version": "3.9.2"
  }
 },
 "nbformat": 4,
 "nbformat_minor": 5
}
