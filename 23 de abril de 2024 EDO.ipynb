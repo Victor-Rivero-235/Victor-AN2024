{
 "cells": [
  {
   "cell_type": "markdown",
   "id": "suited-tournament",
   "metadata": {},
   "source": [
    "# Interpolacion polinomial"
   ]
  },
  {
   "cell_type": "markdown",
   "id": "level-colleague",
   "metadata": {},
   "source": [
    "## Problema\n",
    "\n",
    "Dado un conjunto de pares $(x_i, f(x_i))$ encontrar una representacion:\n",
    "\n",
    "$$f(x)=\\sum a_n \\phi _n(x)$$\n",
    "\n",
    "en al gun sentido optimo  i.e., los mejores valores de $a_n$"
   ]
  },
  {
   "cell_type": "markdown",
   "id": "jewish-kentucky",
   "metadata": {},
   "source": [
    "Sea un polinomio\n",
    "\n",
    "$$ p(x)=c_0\\phi_0 + c_1\\phi_1+\\dots + c_{N-1}\\phi_{N-1} $$\n",
    "\n",
    "evaluando el polinomio en x\n",
    "\n",
    "$$ p(x)=c_0 + c_1 x+\\dots + c_{N-1}x^{N-1} $$"
   ]
  },
  {
   "cell_type": "markdown",
   "id": "abandoned-modern",
   "metadata": {},
   "source": [
    "Los nodos de Chevishev son agrumados (clustered) de la forma:\n",
    "\n",
    "\n",
    "$$ x_i = -\\cos\\left( \\frac{j\\pi}{N-1} \\right) $$\n",
    "\n",
    "\n",
    "con $j:0, 1, 2, \\dots, N-1$\n",
    "\n",
    "Donde el dominio es $$ D=[-1, 1] $$\n",
    "\n",
    "Definiendo:\n",
    "\n",
    "\n",
    "$$z=\\frac{b+a}{2}+\\frac{b-a}{2}x$$\n",
    "\n",
    "en un intervalo $[a, b]$"
   ]
  },
  {
   "cell_type": "markdown",
   "id": "small-welcome",
   "metadata": {},
   "source": [
    "Sea $\\Phi$ para el caso de $\\phi=x^n$ se llama \"de vandermont\"\n",
    "$$\n",
    "\\begin{equation}\n",
    "\\begin{pmatrix}\n",
    "1 & x_1 & x_1^2 & \\dots & x_1^n\\\\\n",
    "1 & \\\\\n",
    "1 & 0 & 1\n",
    "\\end{pmatrix}\n",
    "\\end{equation} \n",
    "$$"
   ]
  },
  {
   "cell_type": "markdown",
   "id": "infrared-behalf",
   "metadata": {},
   "source": [
    "Polinomios de lagrangeo carnidales"
   ]
  },
  {
   "cell_type": "markdown",
   "id": "completed-classics",
   "metadata": {},
   "source": [
    "$$L_j(x)=\\frac{\\prod_{k=0, k\\neq1}^{n-1}(x-x_k) }{\\prod_{k=0, k\\neq j}^{n-1}(x_j-x_k) } $$"
   ]
  },
  {
   "cell_type": "markdown",
   "id": "grave-parking",
   "metadata": {},
   "source": [
    "Implementacion de interpolacion lineal equisitante y con nodos de chebishev\n",
    "\n",
    "con nodos monomios y base"
   ]
  },
  {
   "cell_type": "code",
   "execution_count": null,
   "id": "standard-cable",
   "metadata": {},
   "outputs": [],
   "source": []
  }
 ],
 "metadata": {
  "kernelspec": {
   "display_name": "Python 3",
   "language": "python",
   "name": "python3"
  },
  "language_info": {
   "codemirror_mode": {
    "name": "ipython",
    "version": 3
   },
   "file_extension": ".py",
   "mimetype": "text/x-python",
   "name": "python",
   "nbconvert_exporter": "python",
   "pygments_lexer": "ipython3",
   "version": "3.9.2"
  }
 },
 "nbformat": 4,
 "nbformat_minor": 5
}
