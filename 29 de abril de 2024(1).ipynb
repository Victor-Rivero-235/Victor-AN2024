{
 "cells": [
  {
   "cell_type": "markdown",
   "id": "bacterial-police",
   "metadata": {},
   "source": [
    "# Formula baricentrica"
   ]
  },
  {
   "cell_type": "markdown",
   "id": "anonymous-apartment",
   "metadata": {},
   "source": [
    "Minimos cuadrados\n",
    "\n",
    "$$\n",
    "L_n = \\prod_{j\\neq k} \\frac{(x-x_j)}{(x_n - x_j)}\n",
    "$$"
   ]
  },
  {
   "cell_type": "markdown",
   "id": "stunning-fault",
   "metadata": {},
   "source": [
    "Definimos \n",
    "\n",
    "$$\n",
    "w_k=\\frac{1}{\\prod_{j\\neq k} (x_k - x_j)}=\\frac{1}{L'(x_2)}\n",
    "$$\n",
    "\n",
    "$$\n",
    "p(x)=\\sum_{k} y_k L_k = \\sum_{}\n",
    "$$"
   ]
  },
  {
   "cell_type": "markdown",
   "id": "amazing-accent",
   "metadata": {},
   "source": [
    "por lo tanto\n",
    "\n",
    "$$\n",
    "p(x)=\\sum_{k}^{j\\neq k} y_k L_k(x)=\\sum_{k}^{j\\neq k} y_k L(x) \\frac{w_k}{x - x_k}\n",
    "$$"
   ]
  },
  {
   "cell_type": "markdown",
   "id": "documented-yahoo",
   "metadata": {},
   "source": [
    "minimizar cantdad\n",
    "\n",
    "$$\n",
    "\\chi ^2 = \\sum_{j=0}^{N-1} \\left[\\frac{y_j - P(x_j, C_\\alpha)}{\\sigma _k} \\right]^2\n",
    "$$\n",
    "\n",
    "variando los parametros."
   ]
  },
  {
   "cell_type": "markdown",
   "id": "powered-warning",
   "metadata": {},
   "source": [
    "$$\n",
    "B_{\\alpha} = 2 \\sum_{j=0}^{N-1} \\frac{y_j \\phi _ {\\alpha}(x_j)}{\\sigma_i^2}\n",
    "$$\n",
    "\n",
    "\n",
    "$$\n",
    "A_{\\alpha B} = 2 \\sum_{j=0}^{N-1} \\frac{\\phi _ {\\alpha}(x_j) \\phi_B(x_j)}{\\sigma_j^2}\n",
    "$$"
   ]
  },
  {
   "cell_type": "markdown",
   "id": "strange-flash",
   "metadata": {},
   "source": [
    "con la funcion anterioir se puede minimizar la cantidad de error"
   ]
  },
  {
   "cell_type": "markdown",
   "id": "constitutional-assurance",
   "metadata": {},
   "source": [
    "Perifl de Einasto\n",
    "\n",
    "$$\n",
    "\\rho = e^{-Ar\\alpha}\n",
    "$$\n",
    "\n",
    "Navarro- frenk- white\n",
    "\n",
    "$$\n",
    "\\rho = \\frac{\\rho _0}{\\frac{r}{R_s}\\left(1+\\frac{r}{R_s}\\right)}\n",
    "$$"
   ]
  },
  {
   "cell_type": "markdown",
   "id": "found-intersection",
   "metadata": {},
   "source": [
    "usando ambos perfiles, con los datos que tengo de un link, debo de aplicar ambas formas para poder determianr cual de las dos se aproximas mas\n"
   ]
  },
  {
   "cell_type": "code",
   "execution_count": null,
   "id": "unauthorized-parking",
   "metadata": {},
   "outputs": [],
   "source": []
  },
  {
   "cell_type": "markdown",
   "id": "conservative-rescue",
   "metadata": {},
   "source": [
    "para proyecto que implique interpolacion o minimos cuadrados o polinomiso de lagranje"
   ]
  },
  {
   "cell_type": "markdown",
   "id": "analyzed-equation",
   "metadata": {},
   "source": [
    "\n",
    "https://www.tdx.cat/handle/10803/689001#page=15\n",
    "\n",
    "\n",
    "https://ocw.unican.es/mod/page/view.php?id=510\n",
    "\n",
    "\n",
    "https://github.com/CambridgeUniversityPress/NumericalMethodsPhysicsWithPython/tree/master/first_edition\n",
    "\n"
   ]
  },
  {
   "cell_type": "code",
   "execution_count": 1,
   "id": "developed-afternoon",
   "metadata": {},
   "outputs": [
    {
     "name": "stdout",
     "output_type": "stream",
     "text": [
      "[3.04593186 0.5189044 ]\n",
      "[0.02927752 0.04896135]\n",
      "1.0991681955435215\n"
     ]
    }
   ],
   "source": [
    "import numpy as np\n",
    "\n",
    "def helpers(dataxs,datays,datasigs):\n",
    "    S = np.sum(1/datasigs**2)\n",
    "    Sx = np.sum(dataxs/datasigs**2)\n",
    "    Sy = np.sum(datays/datasigs**2)\n",
    "    Sxx = np.sum(dataxs**2/datasigs**2)\n",
    "    Sxy = np.sum(dataxs*datays/datasigs**2)\n",
    "    Del = S*Sxx - Sx**2\n",
    "    return S, Sx, Sy, Sxx, Sxy, Del\n",
    "\n",
    "def computecs(dataxs,datays,datasigs):\n",
    "    S,Sx,Sy,Sxx,Sxy,Del = helpers(dataxs,datays,datasigs)\n",
    "    cs = np.zeros(2); dcs = np.zeros(2)\n",
    "    cs[0] = (Sxx*Sy - Sx*Sxy)/Del\n",
    "    cs[1] = (S*Sxy - Sx*Sy)/Del\n",
    "    dcs[0] = np.sqrt(Sxx/Del)\n",
    "    dcs[1] = np.sqrt(S/Del)\n",
    "    return cs, dcs\n",
    "\n",
    "def computechisq(dataxs,datays,datasigs,cs):\n",
    "    chisq = np.sum((datays-cs[0]-cs[1]*dataxs)**2/datasigs**2)\n",
    "    return chisq\n",
    "\n",
    "dataxs = np.linspace(0,1,6)\n",
    "datays = np.array([3.085, 3.123, 3.224, 3.360, 3.438, 3.569])\n",
    "datasigs = np.array([0.048, 0.053, 0.02, 0.005, 0.023, 0.07])\n",
    "\n",
    "cs, dcs = computecs(dataxs, datays, datasigs)\n",
    "print(cs); print(dcs)\n",
    "chisq = computechisq(dataxs, datays, datasigs, cs)\n",
    "print(chisq/(dataxs.size - cs.size))"
   ]
  },
  {
   "cell_type": "code",
   "execution_count": null,
   "id": "ready-exclusive",
   "metadata": {},
   "outputs": [],
   "source": []
  }
 ],
 "metadata": {
  "kernelspec": {
   "display_name": "Python 3",
   "language": "python",
   "name": "python3"
  },
  "language_info": {
   "codemirror_mode": {
    "name": "ipython",
    "version": 3
   },
   "file_extension": ".py",
   "mimetype": "text/x-python",
   "name": "python",
   "nbconvert_exporter": "python",
   "pygments_lexer": "ipython3",
   "version": "3.9.2"
  }
 },
 "nbformat": 4,
 "nbformat_minor": 5
}
