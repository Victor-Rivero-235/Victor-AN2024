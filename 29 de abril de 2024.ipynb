{
 "cells": [
  {
   "cell_type": "markdown",
   "id": "bacterial-police",
   "metadata": {},
   "source": [
    "# Formula baricentrica"
   ]
  },
  {
   "cell_type": "markdown",
   "id": "anonymous-apartment",
   "metadata": {},
   "source": [
    "Minimos cuadrados\n",
    "\n",
    "$$\n",
    "L_n = \\prod_{j\\neq k} \\frac{(x-x_j)}{(x_n - x_j)}\n",
    "$$"
   ]
  },
  {
   "cell_type": "markdown",
   "id": "stunning-fault",
   "metadata": {},
   "source": [
    "Definimos \n",
    "\n",
    "$$\n",
    "w_k=\\frac{1}{\\prod_{j\\neq k} (x_k - x_j)}=\\frac{1}{L'(x_2)}\n",
    "$$\n",
    "\n",
    "$$\n",
    "p(x)=\\sum_{k} y_k L_k = \\sum_{}\n",
    "$$"
   ]
  },
  {
   "cell_type": "markdown",
   "id": "amazing-accent",
   "metadata": {},
   "source": [
    "por lo tanto\n",
    "\n",
    "$$\n",
    "p(x)=\\sum_{k}^{j\\neq k} y_k L_k(x)=\\sum_{k}^{j\\neq k} y_k L(x) \\frac{w_k}{x - x_k}\n",
    "$$"
   ]
  },
  {
   "cell_type": "markdown",
   "id": "documented-yahoo",
   "metadata": {},
   "source": [
    "minimizar cantdad\n",
    "\n",
    "$$\n",
    "\\chi ^2 = \\sum_{j=0}^{N-1} \\left[\\frac{y_j - P(x_j, C_\\alpha)}{\\sigma _k} \\right]^2\n",
    "$$\n",
    "\n",
    "variando los parametros."
   ]
  },
  {
   "cell_type": "markdown",
   "id": "strange-flash",
   "metadata": {},
   "source": [
    "con la funcion anterioir se puede minimizar la cantidad de error"
   ]
  },
  {
   "cell_type": "markdown",
   "id": "conservative-rescue",
   "metadata": {},
   "source": [
    "para proyecto que implique interpolacion o minimos cuadrados o polinomiso de lagranje"
   ]
  },
  {
   "cell_type": "markdown",
   "id": "analyzed-equation",
   "metadata": {},
   "source": [
    "\n",
    "https://www.tdx.cat/handle/10803/689001#page=15\n",
    "\n",
    "\n",
    "https://ocw.unican.es/mod/page/view.php?id=510\n",
    "\n"
   ]
  },
  {
   "cell_type": "code",
   "execution_count": null,
   "id": "developed-afternoon",
   "metadata": {},
   "outputs": [],
   "source": []
  }
 ],
 "metadata": {
  "kernelspec": {
   "display_name": "Python 3",
   "language": "python",
   "name": "python3"
  },
  "language_info": {
   "codemirror_mode": {
    "name": "ipython",
    "version": 3
   },
   "file_extension": ".py",
   "mimetype": "text/x-python",
   "name": "python",
   "nbconvert_exporter": "python",
   "pygments_lexer": "ipython3",
   "version": "3.9.2"
  }
 },
 "nbformat": 4,
 "nbformat_minor": 5
}
