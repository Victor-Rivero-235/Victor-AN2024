{
 "cells": [
  {
   "cell_type": "markdown",
   "id": "employed-magic",
   "metadata": {},
   "source": [
    "# Integracion "
   ]
  },
  {
   "cell_type": "markdown",
   "id": "qualified-married",
   "metadata": {},
   "source": [
    "1. Una integral elemental no garantiza una integral elemental\n",
    "2. Puede ser que no tengamos f(x) sino una tabla de valores $[x_i, f(x_i)]$\n",
    "3. La evaluación de la antiderivada sea impractico"
   ]
  },
  {
   "cell_type": "markdown",
   "id": "dense-hollywood",
   "metadata": {},
   "source": [
    "$$\\int_a^b \\mathrm{d}x f(x) = \\lim_{h \\rightarrow \\infty}\\sum_{i=0}^{n} f(a+hi)h $$"
   ]
  },
  {
   "cell_type": "markdown",
   "id": "artistic-messaging",
   "metadata": {},
   "source": [
    "En N puntos\n",
    "\n",
    "$$nint(f(x), a, b)= \\sum_{n=0}^{N-1} f(x_i)C_i$$\n",
    "\n",
    "Donde $x_i$ son las abcisas nodales.\n",
    "\n",
    "Existen abiertos donde a y b no son abcisas nodales. Un ejemplo es el método de Gauss y punto medio.\n",
    "\n",
    "Existen cerrados donde a y b son abcisas nodales. Un ejemplo es el metodo de trapecios y simpson.\n",
    "\n",
    "Si existren espaciamientos regulares:\n",
    "$x_i=a+ih$\n",
    "\n",
    "Pero $i=N-i$, que se transmite como el limite maximo.\n",
    "\n",
    "$(N-1)h + a=b$\n",
    "\n",
    "$N-1=\\frac{b-a}{h}$\n",
    "\n",
    "$h=\\frac{a-b}{N-1}$"
   ]
  },
  {
   "cell_type": "markdown",
   "id": "restricted-insurance",
   "metadata": {},
   "source": [
    "Newton-Cotes son sumando rectangulos o figuras geometricas simples, con una rejilla equidistante.\n",
    "\n",
    "Cuadratica Gaussiana son sumando figuras de espaciamiento irregular."
   ]
  },
  {
   "cell_type": "code",
   "execution_count": 28,
   "id": "reported-entity",
   "metadata": {},
   "outputs": [],
   "source": [
    "from math import *\n",
    "\n",
    "def pol(x):\n",
    "    return x\n",
    "\n",
    "def trapecio(f, a, b, n): #f es funcion, a es intervalo minimo, b intervalo maximo, n intervalos\n",
    "    h=(b-a)/n #particiones\n",
    "    acum=0\n",
    "    for j in range(1, n):\n",
    "        acum+=2*f(a + h*j)\n",
    "    abc=(h/2)*(f(a)+ acum+f(b))\n",
    "    return abc"
   ]
  },
  {
   "cell_type": "code",
   "execution_count": 29,
   "id": "expired-controversy",
   "metadata": {},
   "outputs": [
    {
     "name": "stdout",
     "output_type": "stream",
     "text": [
      "Area pol(x): \n",
      "4.934802200544675\n"
     ]
    }
   ],
   "source": [
    "print(\"Area pol(x): \")\n",
    "print(\"{0:.15f}\". format(trapecio(pol, 0, pi, 1000000)))"
   ]
  },
  {
   "cell_type": "markdown",
   "id": "oriental-intensity",
   "metadata": {},
   "source": [
    "para proyecto:\n",
    "\n",
    "superficies cuadricas metieno a fuerza la integral\n",
    "\n",
    "checar el problema d eviviani \n",
    "https://openstax.org/books/c%C3%A1lculo-volumen-3/pages/2-6-superficies-cuadricas \n",
    "355\n",
    "358\n",
    "\n",
    "https://github.com/prodelas/TallerPythonUGR/blob/master/notebooks_adicionales/Practica_Derivacion_Integracion_Numerica.ipynb\n",
    "\n"
   ]
  },
  {
   "cell_type": "code",
   "execution_count": 31,
   "id": "neither-interview",
   "metadata": {},
   "outputs": [],
   "source": [
    "from math import *\n",
    "\n",
    "def pol(x):\n",
    "    return x\n",
    "\n",
    "def rectangulo(f, a, b, n): #f=funcion, a y b= intervalos punto medio, n=intervalos\n",
    "    h=(b-a)/n\n",
    "    acum=0\n",
    "    for j in range (1, n):\n",
    "        acum+=2*(f(a)+acum+f(b))\n",
    "    "
   ]
  },
  {
   "cell_type": "code",
   "execution_count": null,
   "id": "maritime-calibration",
   "metadata": {},
   "outputs": [],
   "source": [
    "from math import *\n",
    "\n",
    "def pol(x):\n",
    "    return x\n",
    "\n",
    "def punto_medio(x):"
   ]
  }
 ],
 "metadata": {
  "kernelspec": {
   "display_name": "Python 3",
   "language": "python",
   "name": "python3"
  },
  "language_info": {
   "codemirror_mode": {
    "name": "ipython",
    "version": 3
   },
   "file_extension": ".py",
   "mimetype": "text/x-python",
   "name": "python",
   "nbconvert_exporter": "python",
   "pygments_lexer": "ipython3",
   "version": "3.9.2"
  }
 },
 "nbformat": 4,
 "nbformat_minor": 5
}
