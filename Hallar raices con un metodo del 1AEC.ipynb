{
 "cells": [
  {
   "cell_type": "markdown",
   "id": "possible-mineral",
   "metadata": {},
   "source": [
    "El metodo parte de heron de alejandria aprox. 1 AEC\n",
    "\n",
    "Se trata de un metodo que sigue una forma recursiva en la cual si se tiene un numero \"y\", se inicia con un numero aleatorio \"x\". De una forma matematica se sigue que:\n",
    "\n",
    "f(x,y)=(1/2)(x+(y/x))\n",
    "\n",
    "https://numython.github.io/posts/maximos-y-minimos-de-una-funcion/\n",
    "https://interactivechaos.com/es/manual/tutorial-de-matplotlib/limites-de-los-ejes"
   ]
  },
  {
   "cell_type": "code",
   "execution_count": 181,
   "id": "printable-priest",
   "metadata": {},
   "outputs": [],
   "source": [
    "import numpy as np\n",
    "import sympy as sy\n",
    "import matplotlib.pyplot as plt"
   ]
  },
  {
   "cell_type": "code",
   "execution_count": 182,
   "id": "palestinian-command",
   "metadata": {},
   "outputs": [],
   "source": [
    "def heron(x,y): #se define una funcion con dos variables\n",
    "    \n",
    "    x=(1/2)*(x+(y/x)) #funcion a tratar\n",
    "    \n",
    "    eabs=y-(x**2) #error absoluto\n",
    "    \n",
    "    erel=np.abs((eabs/y)*100) #error relativo\n",
    "    \n",
    "    if erel<2: #condicion que indica un error relativo menor a 3\n",
    "        return x\n",
    "    else:\n",
    "        return heron(x,y)"
   ]
  },
  {
   "cell_type": "code",
   "execution_count": 183,
   "id": "careful-samoa",
   "metadata": {},
   "outputs": [
    {
     "name": "stdout",
     "output_type": "stream",
     "text": [
      "4.148168478288376\n"
     ]
    }
   ],
   "source": [
    "y=17 #numero a introducir\n",
    "x=23 #numero de iteraciones\n",
    "print(heron(x,y))"
   ]
  },
  {
   "cell_type": "markdown",
   "id": "forbidden-tradition",
   "metadata": {},
   "source": [
    "-oooooooooooooooooooooooooooooooooooooooooooooooooooooooooooooooooooooooooooooooooooooooooooooooooooooooooooooooooo-\n",
    "\n",
    "\n",
    "\n",
    "\n",
    "\n",
    "\n"
   ]
  },
  {
   "cell_type": "markdown",
   "id": "driving-chamber",
   "metadata": {},
   "source": [
    "Sea f(x)=((x-1)^2)/2x, hallar sus maximos"
   ]
  },
  {
   "cell_type": "code",
   "execution_count": 184,
   "id": "armed-creation",
   "metadata": {},
   "outputs": [],
   "source": [
    "from sympy import *\n",
    "from sympy.plotting import plot\n",
    "from sympy.abc import x\n",
    "\n",
    "init_printing()"
   ]
  },
  {
   "cell_type": "code",
   "execution_count": 185,
   "id": "still-december",
   "metadata": {},
   "outputs": [],
   "source": [
    "f=((x-1)**2)/(2*x)"
   ]
  },
  {
   "cell_type": "code",
   "execution_count": 186,
   "id": "cubic-silence",
   "metadata": {},
   "outputs": [
    {
     "data": {
      "image/png": "[encoded data removed]",
      "text/latex": [
       "$\\displaystyle \\left( \\frac{2 x - 2}{2 x} - \\frac{\\left(x - 1\\right)^{2}}{2 x^{2}}, \\  \\frac{1 - \\frac{2 \\left(x - 1\\right)}{x} + \\frac{\\left(x - 1\\right)^{2}}{x^{2}}}{x}\\right)$"
      ],
      "text/plain": [
       "⎛                                           2⎞\n",
       "⎜                        2⋅(x - 1)   (x - 1) ⎟\n",
       "⎜                    1 - ───────── + ────────⎟\n",
       "⎜                 2          x           2   ⎟\n",
       "⎜2⋅x - 2   (x - 1)                      x    ⎟\n",
       "⎜─────── - ────────, ────────────────────────⎟\n",
       "⎜  2⋅x          2               x            ⎟\n",
       "⎝            2⋅x                             ⎠"
      ]
     },
     "execution_count": 186,
     "metadata": {},
     "output_type": "execute_result"
    }
   ],
   "source": [
    "df = diff(f, x) # 1era. derivada\n",
    "d2f = diff(f,x,2) # Segunda derivada\n",
    "df, d2f"
   ]
  },
  {
   "cell_type": "code",
   "execution_count": 187,
   "id": "premier-vertical",
   "metadata": {},
   "outputs": [
    {
     "data": {
      "image/png": "[encoded data removed]",
      "text/latex": [
       "$\\displaystyle \\left[ -1, \\  1\\right]$"
      ],
      "text/plain": [
       "[-1, 1]"
      ]
     },
     "execution_count": 187,
     "metadata": {},
     "output_type": "execute_result"
    }
   ],
   "source": [
    "pc = solve(Eq(df, 0))\n",
    "pc"
   ]
  },
  {
   "cell_type": "code",
   "execution_count": 188,
   "id": "increased-input",
   "metadata": {},
   "outputs": [
    {
     "data": {
      "image/png": "[encoded data removed]",
      "text/latex": [
       "$\\displaystyle -1$"
      ],
      "text/plain": [
       "-1"
      ]
     },
     "execution_count": 188,
     "metadata": {},
     "output_type": "execute_result"
    }
   ],
   "source": [
    "d2f.subs(x,pc[0]) # Primer punto crítico"
   ]
  },
  {
   "cell_type": "code",
   "execution_count": 189,
   "id": "smart-evaluation",
   "metadata": {},
   "outputs": [
    {
     "data": {
      "image/png": "[encoded data removed]",
      "text/latex": [
       "$\\displaystyle 1$"
      ],
      "text/plain": [
       "1"
      ]
     },
     "execution_count": 189,
     "metadata": {},
     "output_type": "execute_result"
    }
   ],
   "source": [
    "d2f.subs(x,pc[1]) # Segundo punto crítico\n"
   ]
  },
  {
   "cell_type": "code",
   "execution_count": 190,
   "id": "pursuant-cholesterol",
   "metadata": {},
   "outputs": [
    {
     "data": {
      "text/plain": [
       "[<matplotlib.lines.Line2D at 0x7fba01834100>]"
      ]
     },
     "execution_count": 190,
     "metadata": {},
     "output_type": "execute_result"
    },
    {
     "data": {
      "image/png": "[encoded data removed]",
      "text/plain": [
       "<Figure size 432x288 with 1 Axes>"
      ]
     },
     "metadata": {
      "needs_background": "light"
     },
     "output_type": "display_data"
    }
   ],
   "source": [
    "X=np.linspace(-3,3)\n",
    "Yfunc=sy.lambdify(x,f)\n",
    "Y=Yfunc(X)\n",
    "plt.grid(True)\n",
    "plt.plot(X,Y, label=\"g(x)\", color=\"violet\")\n"
   ]
  },
  {
   "cell_type": "code",
   "execution_count": 191,
   "id": "soviet-mobility",
   "metadata": {},
   "outputs": [],
   "source": [
    "def maxminf(f):\n",
    "    \"\"\" Calcula los máximos y mínimos de una función f(x) \"\"\"\n",
    "    df = diff(f, x) # 1era. derivada\n",
    "    d2f = diff(f, x, 2) # 2da. derivada\n",
    "    pcs = solve(Eq(df,0)) # puntos críticos\n",
    "    for p in pcs:\n",
    "        if d2f.subs(x,p)>0: \n",
    "            tipo=\"Min\"\n",
    "        elif d2f.subs(x,p)<0: \n",
    "            tipo=\"Max\"\n",
    "        else: \n",
    "            tipo=\"Indefinido\"\n",
    "        print(\"x = %f (%s)\"%(p,tipo))"
   ]
  },
  {
   "cell_type": "code",
   "execution_count": 192,
   "id": "friendly-september",
   "metadata": {},
   "outputs": [
    {
     "name": "stdout",
     "output_type": "stream",
     "text": [
      "x = -1.000000 (Max)\n",
      "x = 1.000000 (Min)\n"
     ]
    }
   ],
   "source": [
    "maxminf(((x-1)**2)/(2*x))"
   ]
  },
  {
   "cell_type": "markdown",
   "id": "adjustable-quest",
   "metadata": {},
   "source": [
    "1.12 ejercicio sea a+ay la mejor aproxuimacion a sqrt(y) en el intervalo (1/2,2) mostrar que \n",
    "\n",
    "er(1)=-er(2)"
   ]
  },
  {
   "cell_type": "markdown",
   "id": "successful-theta",
   "metadata": {},
   "source": [
    "scott numerical analisis"
   ]
  },
  {
   "cell_type": "code",
   "execution_count": null,
   "id": "fitting-finland",
   "metadata": {},
   "outputs": [],
   "source": []
  }
 ],
 "metadata": {
  "kernelspec": {
   "display_name": "Python 3",
   "language": "python",
   "name": "python3"
  },
  "language_info": {
   "codemirror_mode": {
    "name": "ipython",
    "version": 3
   },
   "file_extension": ".py",
   "mimetype": "text/x-python",
   "name": "python",
   "nbconvert_exporter": "python",
   "pygments_lexer": "ipython3",
   "version": "3.9.2"
  }
 },
 "nbformat": 4,
 "nbformat_minor": 5
}
