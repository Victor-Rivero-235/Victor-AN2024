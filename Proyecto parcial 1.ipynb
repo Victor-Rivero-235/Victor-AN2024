{
 "cells": [
  {
   "cell_type": "code",
   "execution_count": 8,
   "id": "132a5b97",
   "metadata": {},
   "outputs": [
    {
     "data": {
      "text/plain": [
       "'C:\\\\Users\\\\HP10\\\\Bochi Fisica\\\\Codigos\\\\Primer parcial'"
      ]
     },
     "execution_count": 8,
     "metadata": {},
     "output_type": "execute_result"
    }
   ],
   "source": [
    "import os\n",
    "cwd =os.getcwd()\n",
    "cwd"
   ]
  },
  {
   "cell_type": "markdown",
   "id": "1564e177",
   "metadata": {},
   "source": [
    "----Introduccion----"
   ]
  },
  {
   "cell_type": "markdown",
   "id": "54bfc66e",
   "metadata": {},
   "source": [
    "Un canal abierto es un conducto en el cual el agua fluye con una superficie libre. De esto, su origen puede ser natural o artificial.\n",
    "\n",
    "Los canales naturales incluyen todos los cursos de agua que existen de manera natural en la Tierra, los cuales varían en tamaño desde pequeños arroyuelos hasta grandes ríos que desembocan en mares. Las corrientes subterráneas que transportan agua con una superficie libre también se consideran como canales abiertos naturales.\n",
    "\n",
    "El canal artificial es llamado de forma coloquial como \"alcantarilla\", \"canaleta\", entre otros, despreciando el significado concreto de este tipo de canal. Un canal artificial es un canal largo con pendiente suave construido sobre el suelo, que puede o no ser revestido con piedras, concreto, cemento, etc; la canaleta es un canal de madera, concreto o mampostería, a menudo soportado en o sobre un terreno para conducir el agua a través de una depresión.\n",
    "\n",
    "La geometría del un canal construido tiene distintas características:\n",
    "\n",
    "1) La profundidad del flujo, $y_0$, es la distancia vertical desde el punto más bajo hasta la la superficie. Para un canal con un ángulo de pendiente $\\theta$, puede verse que la profundidad del flujo es igual a la profundidad de sección de flujo divida por $\\cos (\\theta)$\n",
    "2) El ancho superficial $T$ es el ancho de a sección del canal en la superficie libre.\n",
    "3) El área mojada $A$ es el área de la sección transversal del flujo perpendicular a la dirección del flujo.\n",
    "4) El perímetro mojado $P$ es la longitud de la linea de intersección entre la superficie del canal mojada y un plano transversal perpendicular a la dirección del flujo.\n",
    "5) El radio hidráulico $R_h$ es la relación entre el área mojada con respecto a su perímetro mojado, siendo este \n",
    "$R_h = \\frac{A}{P}$\n",
    "\n",
    "Se puede pensar en, básicamente, cuatro figuras básicas usuales en los canales: un rectángulo, un trapecio, un triángulo, un circulo y una forma parabólica."
   ]
  },
  {
   "cell_type": "markdown",
   "id": "3f53b4fa",
   "metadata": {},
   "source": [
    "Se puede pensar que un triángulo y un rectangulo son casos especificos de un trapecio. El primero sucede cuando la \"base menor\" es igual a cero, el segundo es cuando los lados del trapecio (las diagonales) se vuelven con angulos rectos."
   ]
  },
  {
   "cell_type": "markdown",
   "id": "4f237c44",
   "metadata": {},
   "source": [
    "<img src=\"trapecioisosceles.jpg\" style=\"width:500px;height:400px\" title=\"Trapecio\">"
   ]
  },
  {
   "cell_type": "markdown",
   "id": "0e2fceed",
   "metadata": {},
   "source": [
    "Tomemos un trapecio isósceles. En un trapecio isósceles, el área se puede considerar con tres trozos de área independientes: $A_1, A_2$ y $A_3$, con lo que el área total sería:\n",
    "\n",
    "$A_T = A_1 + A_2 + A_3$ $\\dotsc$ (1)\n",
    "\n",
    "Observando la geometría de estos trozos de área, se observa que $A_2 = A_3$, por lo que el valor del área cambia a:\n",
    "\n",
    "$A_t = A_1 +2A_2$ $\\dotsc$ (2)\n",
    "\n",
    "De esto se desprende que \n",
    "\n",
    "$A_1 = by$ $\\dotsc$ (3)\n",
    "\n",
    "pero $A_2$ no esta definido.\n",
    "\n",
    "Se define $A_2$ como:\n",
    "\n",
    "$A_2 = \\frac{\\alpha y}{2}$ $\\dotsc$ (4)\n",
    "\n",
    "donde $\\alpha$ es una variable que por ahora es desconocida pero es auxiliar, fingiendo como uno de los catetos, y por teorema de Tales, existe una relación tal que:\n",
    "\n",
    "$\\frac{y}{\\alpha}=\\frac{1}{z}$ $\\dotsc$ (5)\n",
    "\n",
    "Resolviendo para $\\alpha$ resulta en $\\alpha = yz$ y esta ultima identidad se reemplaza en la ecuación (4), resultando que el área transversal $A_2$ es:\n",
    "\n",
    "$A_2 = \\frac{y^2 z}{2}$ $\\dotsc$ (6)\n",
    "\n",
    "por lo tanto, el área $A_T$ del trapecio se obtiene al reemplazar la ecuación (6) y (3) en la ecuación (2), resultando en:\n",
    "\n",
    "$A_T = y(b+yz)$\n",
    "\n",
    "Para obtener el perímetro, se guarda la misma relación del teorema de Tales, donde, en este caso, $\\alpha=yz$ y la hipotenusa es:  \n",
    "\n",
    "$c_1 = \\sqrt{1+z^2}$\n",
    "\n",
    "y la relación de Tales es:\n",
    "\n",
    "$\\frac{1}{c_1}=\\frac{y}{c_2}$\n",
    "\n",
    "Resolviendo para $c_2$:\n",
    "\n",
    "$c_2 = y\\sqrt{1+z^2}$\n",
    "\n",
    "siendo este resultado solo una de las diagonales que conforman el perímetro. Al ser dos diagonales iguales, el resultado se duplica y el perímetro total mojado se vuelve:\n",
    "\n",
    "$P=b+2y\\sqrt{1+z^2}$\n",
    "\n",
    "El radio hidráulico se define como la razón entre el área transversal y el perímetro total, siendo para este trapecio:\n",
    "\n",
    "$R_h = \\frac{y(b+yz)}{b+2y\\sqrt{1+z^2}}$\n",
    "\n",
    "El espejo de agua se define como la longitud lineal de un extremo a otro en un canal. En este caso, para el trapecio se retoma el valor de $\\alpha$ (ya que en ambos lados existen esas diferencias) y se duplica su valor, sumándolo al valor del $b$, resultando que el espejo de agua es:\n",
    "\n",
    "$T=b+2z$\n",
    "\n",
    "Por lo que, en resumidas cuentas, los valores hallados para el trapecio son:\n",
    "\n",
    "$A_T = y(b+yz)$\n",
    "\n",
    "$P=b+2y\\sqrt{1+z^2}$\n",
    "\n",
    "$R_h = \\frac{y(b+yz)}{b+2y\\sqrt{1+z^2}}$\n",
    "\n",
    "$T=b+2z$\n",
    "\n",
    "Como se mencionó, el triangulo y el rectángulo son casos específicos del trapecio, por lo que sus cuatro características se definen como:\n",
    "\n",
    "1) Rectángulo, el cual se forma a partir del trapecio si $z=0$:\n",
    "\n",
    "$A_T = by$\n",
    "\n",
    "$P=b+2y$\n",
    "\n",
    "$R_h = \\frac{by}{b+2y}$\n",
    "\n",
    "$T=b$\n",
    "\n",
    "2) Triangulo, el cual se forma a partir del trapecio si $b=0$:\n",
    "\n",
    "$A_T = zy^2$\n",
    "\n",
    "$P=2y\\sqrt{1+z^2}$\n",
    "\n",
    "$R_h = \\frac{yz}{2\\sqrt{1+z^2}}$\n",
    "\n",
    "$T=2yz$"
   ]
  },
  {
   "cell_type": "markdown",
   "id": "02318be4",
   "metadata": {},
   "source": [
    "<img src=\"circulo.jpg\" style=\"width:500px;height:350px\" title=\"Circulo\">"
   ]
  },
  {
   "cell_type": "markdown",
   "id": "7f6afaee",
   "metadata": {},
   "source": [
    "Para hallar los elementos del circulo, el área transversal se define como la superficie en la cual pasa el agua. Supongamos una tubería de cierto diámetro en la cual existe cierta altura de agua que pasa en esta tubería. En la imagen, la altura esta definida por $h$ mientras que el área esta definida por $A$; $P$ es el perímetro mojado y $\\theta$ es el ángulo del centro a los extremos del agua, $D$ es el diámetro de la tubería. Se conoce que el área de una sección circular es:\n",
    "\n",
    "$A_{sc}=\\frac{\\theta D^2}{8}$\n",
    "\n",
    "Como se menciono, el área corresponde a la altura del liquido en la tubería, entonces, se forma un triangulo entre el centro, y la cuerda (que en este caso viene siendo el \"espejo de agua\"). Este triangulo (isósceles) esta dentro del sector circular, por lo que la cuerda corresponde a su base. Partiendo el triangulo en dos partes iguales, se obtiene una altura y a su vez el ángulo $\\theta$ partido en dos, así como una base $t$ que corresponde a la mitad de la base del triangulo completo. Entonces, las funciones trigonométricas que modelan esto son:\n",
    "\n",
    "$t=\\frac{D\\sin \\left(\\frac{\\theta}{2}\\right)}{2}$\n",
    "\n",
    "$h=\\frac{D\\cos \\left(\\frac{\\theta}{2}\\right)}{2}$\n",
    "\n",
    "El área de este medio triangulo es:\n",
    "\n",
    "$A= \\frac{bh}{2}=\\frac{ht}{2}=\\frac{\\frac{D\\sin \\left(\\frac{\\theta}{2}\\right)}{2}\\frac{D\\cos \\left(\\frac{\\theta}{2}\\right)}{2}}{2}=\\frac{D^2\\sin (\\theta)}{16}$\n",
    "\n",
    "Pero como se menciono, este triangulo es la mitad, así que el valor completo del área del triangulo hallado dentro del sector circular es:\n",
    "\n",
    "$A_{ts}=\\frac{D^2\\sin(\\theta)}{8}$\n",
    "\n",
    "El área del agua en la tubería es la diferencia entre $A_{sc}$ menos $A_{ts}$, por lo que el área total del agua en la tubería es:\n",
    "\n",
    "$A_T=\\frac{D^2(\\theta - \\sin(\\theta))}{8}$\n",
    "\n",
    "El perímetro mojado es:\n",
    "\n",
    "$P=\\frac{D\\theta}{2}$;\n",
    "\n",
    "El radio hidráulico es:\n",
    "\n",
    "$R_h = \\frac{D}{4} \\left(1-\\frac{\\sin (\\theta)}{\\theta}\\right)$\n",
    "\n",
    "Finalmente, el espejo de agua es:\n",
    "\n",
    "\n",
    "$T= D \\sin\\left(\\frac{\\theta}{2}\\right)$"
   ]
  },
  {
   "cell_type": "markdown",
   "id": "2d18ae84",
   "metadata": {},
   "source": [
    "<img src=\"parabola.jpg\" style=\"width:500px;height:350px\" title=\"Parabola\">"
   ]
  },
  {
   "cell_type": "markdown",
   "id": "a353ae1f",
   "metadata": {},
   "source": [
    "Para el caso de la parábola, de esta solo se sabe que se conoce $T$ y $y$. Esta parábola se ubica exactamente en el origen. Para obtener el área transversal de este figura, se realiza una integral de la siguiente manera:\n",
    "\n",
    "$A_T = 2 \\int_0^{\\frac{T}{2}} (y_0 - 4px^2) \\mathrm{d}x$\n",
    "\n",
    "Donde el 2 indica que el área debe de duplicarse, ya que solo se toma la mitad de $T$.\n",
    "\n",
    "Al resolver la integral se llega a:\n",
    "\n",
    "$A_T = y_0 T - \\frac{pT^3}{3}$\n",
    "\n",
    "Pero, conocidas las propiedades de la parábola, el valor de $p$ se define como $\\frac{y_0}{4}$. Con esto, el valor del área total es: \n",
    "\n",
    "$A_T=\\frac{2Ty_0}{3}$\n",
    "\n",
    "El perímetro se obtiene al resolver la integral de la longitud de una curva usando con $f(x)$ a la función que describe la parábola. La integral, reempezando $p$ por su valor mencionado previamente, resulta en:\n",
    "\n",
    "$P = 2 \\int_0^{\\frac{T}{2}} \\sqrt{1+(8px)^2} \\mathrm{d}x$\n",
    "\n",
    "la cual tiene como solución:\n",
    "\n",
    "$P=\\dfrac{\\ln\\left(\\left|\\sqrt{4y_0^2x^2+1}+2y_0x\\right|\\right)}{2y_0}+x\\sqrt{4y_0^2x^2+1}$\n",
    "\n",
    "y al evaluarla resulta en:\n",
    "\n",
    "$P=\\frac{T}{2} \\sqrt{1+y_0^2 T^2} + \\frac{1}{2y_0} \\ln{\\frac{\\sqrt{1+y_0^2 T^2} +  T y_0}{\\sqrt{1+4y_0^2}}}$\n",
    "\n",
    "El radio hidraulico viene dado por:\n",
    "\n",
    "$R_h=\\frac{4Ty_0^2}{3\\left(Ty_0\\sqrt{1+y_0^2T^2}+\\ln{\\frac{\\sqrt{1+y_0^2T^2}+Ty_0}{\\sqrt{1+4y_0^2}}}\\right)}$\n",
    "\n",
    "Y el espejo de agua es la medida del lado recto de la parabola\n"
   ]
  },
  {
   "cell_type": "markdown",
   "id": "08ceb2dc",
   "metadata": {},
   "source": [
    "----Implementacion----"
   ]
  },
  {
   "cell_type": "markdown",
   "id": "ff09acb3",
   "metadata": {},
   "source": [
    "Implementacion de errorres para determinacion de maximos y optimizacion"
   ]
  },
  {
   "cell_type": "code",
   "execution_count": 228,
   "id": "2cafb6c4",
   "metadata": {},
   "outputs": [],
   "source": [
    "import numpy as np\n",
    "import sympy as sy\n",
    "import matplotlib.pyplot as plt\n",
    "import math\n",
    "\n",
    "from sympy import *\n",
    "from sympy.plotting import plot\n",
    "from sympy.abc import t\n",
    "\n",
    "init_printing()"
   ]
  },
  {
   "cell_type": "code",
   "execution_count": 245,
   "id": "a8192c4a",
   "metadata": {},
   "outputs": [],
   "source": [
    "t=sy.symbols('t')\n",
    "y=sy.symbols('y')\n",
    "b=sy.symbols('b')\n",
    "z=sy.symbols('z')\n",
    "D=sy.symbols('D')\n",
    "T=sy.symbols('T')\n",
    "\n",
    "\n",
    "Rht=(y*(b+(y*z)))/(b+(2*y*(sy.sqrt(1+z**2)))) #radio hidraulico del trapecio\n",
    "Rhr=(b*y)/(b+(2*y)) #radio hidraulico del rectangulo\n",
    "Rhtri=(y*z)/(2*sy.sqrt(1+z**2)) #radio hidraulico del triangulo\n",
    "Rhc=(D/4)*(1-(sy.sin(t))/t) #radio hidraulico del circulo\n",
    "Rhp=((4*T)*y**2)/(3*((T*y*sy.sqrt(1+y**2*T**2))+sy.ln((sy.sqrt(1+y**2*T**2)+T*y)/(sy.sqrt(1+4*y**2))))) #radio hidraulico parabola\n"
   ]
  },
  {
   "cell_type": "markdown",
   "id": "cd4d0939",
   "metadata": {},
   "source": [
    "Estas funciones pueden considerarse de una o varias variables. Para el caso del trapecio, rectangulo y triangulo, estas se vueklven funciones del tipo $f(b,y,z)$,$f(b,y)$ y $f(y,z)$ respectivamente. Para el circulo solo es una función de una variable $f(t)$ y para la parábola, se vuelve una función de dos variables del tipo $f(T,y)$"
   ]
  },
  {
   "cell_type": "code",
   "execution_count": 246,
   "id": "d9d2fe16",
   "metadata": {},
   "outputs": [
    {
     "data": {
      "image/png": "[encoded data removed]",
      "text/latex": [
       "$\\displaystyle \\frac{y \\left(b + y z\\right)}{b + 2 y \\sqrt{z^{2} + 1}}$"
      ],
      "text/plain": [
       "    y⋅(b + y⋅z)    \n",
       "───────────────────\n",
       "           ________\n",
       "          ╱  2     \n",
       "b + 2⋅y⋅╲╱  z  + 1 "
      ]
     },
     "execution_count": 246,
     "metadata": {},
     "output_type": "execute_result"
    }
   ],
   "source": [
    "Rht"
   ]
  },
  {
   "cell_type": "code",
   "execution_count": 247,
   "id": "add1bb19",
   "metadata": {},
   "outputs": [
    {
     "data": {
      "image/png": "[encoded data removed]",
      "text/latex": [
       "$\\displaystyle \\frac{b y}{b + 2 y}$"
      ],
      "text/plain": [
       "  b⋅y  \n",
       "───────\n",
       "b + 2⋅y"
      ]
     },
     "execution_count": 247,
     "metadata": {},
     "output_type": "execute_result"
    }
   ],
   "source": [
    "Rhr"
   ]
  },
  {
   "cell_type": "code",
   "execution_count": 248,
   "id": "38c116a6",
   "metadata": {},
   "outputs": [
    {
     "data": {
      "image/png": "[encoded data removed]",
      "text/latex": [
       "$\\displaystyle \\frac{y z}{2 \\sqrt{z^{2} + 1}}$"
      ],
      "text/plain": [
       "     y⋅z     \n",
       "─────────────\n",
       "     ________\n",
       "    ╱  2     \n",
       "2⋅╲╱  z  + 1 "
      ]
     },
     "execution_count": 248,
     "metadata": {},
     "output_type": "execute_result"
    }
   ],
   "source": [
    "Rhtri"
   ]
  },
  {
   "cell_type": "code",
   "execution_count": 249,
   "id": "eac92a1c",
   "metadata": {},
   "outputs": [
    {
     "data": {
      "image/png": "[encoded data removed]",
      "text/latex": [
       "$\\displaystyle \\frac{D \\left(1 - \\frac{\\sin{\\left(t \\right)}}{t}\\right)}{4}$"
      ],
      "text/plain": [
       "  ⎛    sin(t)⎞\n",
       "D⋅⎜1 - ──────⎟\n",
       "  ⎝      t   ⎠\n",
       "──────────────\n",
       "      4       "
      ]
     },
     "execution_count": 249,
     "metadata": {},
     "output_type": "execute_result"
    }
   ],
   "source": [
    "Rhc"
   ]
  },
  {
   "cell_type": "code",
   "execution_count": 250,
   "id": "443b4d3c",
   "metadata": {},
   "outputs": [
    {
     "data": {
      "image/png": "[encoded data removed]",
      "text/latex": [
       "$\\displaystyle \\frac{4 T y^{2}}{3 T y \\sqrt{T^{2} y^{2} + 1} + 3 \\log{\\left(\\frac{T y + \\sqrt{T^{2} y^{2} + 1}}{\\sqrt{4 y^{2} + 1}} \\right)}}$"
      ],
      "text/plain": [
       "                           2                      \n",
       "                      4⋅T⋅y                       \n",
       "──────────────────────────────────────────────────\n",
       "                            ⎛         ___________⎞\n",
       "         ___________        ⎜        ╱  2  2     ⎟\n",
       "        ╱  2  2             ⎜T⋅y + ╲╱  T ⋅y  + 1 ⎟\n",
       "3⋅T⋅y⋅╲╱  T ⋅y  + 1  + 3⋅log⎜────────────────────⎟\n",
       "                            ⎜      __________    ⎟\n",
       "                            ⎜     ╱    2         ⎟\n",
       "                            ⎝   ╲╱  4⋅y  + 1     ⎠"
      ]
     },
     "execution_count": 250,
     "metadata": {},
     "output_type": "execute_result"
    }
   ],
   "source": [
    "Rhp"
   ]
  },
  {
   "cell_type": "markdown",
   "id": "595f15bf",
   "metadata": {},
   "source": [
    "De estas funciones, se elije una sola variable y se deriva respecto a esta, dejando las demás como constantes."
   ]
  },
  {
   "cell_type": "markdown",
   "id": "69237c61",
   "metadata": {},
   "source": [
    "Las derivadas de cada variable en el caso del trapecio"
   ]
  },
  {
   "cell_type": "code",
   "execution_count": 251,
   "id": "5d14ac00",
   "metadata": {},
   "outputs": [
    {
     "data": {
      "image/png": "[encoded data removed]",
      "text/latex": [
       "$\\displaystyle - \\frac{2 y^{2} z \\left(b + y z\\right)}{\\left(b + 2 y \\sqrt{z^{2} + 1}\\right)^{2} \\sqrt{z^{2} + 1}} + \\frac{y^{2}}{b + 2 y \\sqrt{z^{2} + 1}}$"
      ],
      "text/plain": [
       "              2                                  2        \n",
       "           2⋅y ⋅z⋅(b + y⋅z)                     y         \n",
       "- ────────────────────────────────── + ───────────────────\n",
       "                       2                          ________\n",
       "  ⎛           ________⎞     ________             ╱  2     \n",
       "  ⎜          ╱  2     ⎟    ╱  2        b + 2⋅y⋅╲╱  z  + 1 \n",
       "  ⎝b + 2⋅y⋅╲╱  z  + 1 ⎠ ⋅╲╱  z  + 1                       "
      ]
     },
     "execution_count": 251,
     "metadata": {},
     "output_type": "execute_result"
    }
   ],
   "source": [
    "dft=diff(Rht,z)\n",
    "\n",
    "dft"
   ]
  },
  {
   "cell_type": "code",
   "execution_count": 252,
   "id": "5a869757",
   "metadata": {},
   "outputs": [
    {
     "data": {
      "image/png": "[encoded data removed]",
      "text/latex": [
       "$\\displaystyle \\frac{y z}{b + 2 y \\sqrt{z^{2} + 1}} - \\frac{2 y \\left(b + y z\\right) \\sqrt{z^{2} + 1}}{\\left(b + 2 y \\sqrt{z^{2} + 1}\\right)^{2}} + \\frac{b + y z}{b + 2 y \\sqrt{z^{2} + 1}}$"
      ],
      "text/plain": [
       "                                       ________                      \n",
       "                                      ╱  2                           \n",
       "        y⋅z           2⋅y⋅(b + y⋅z)⋅╲╱  z  + 1          b + y⋅z      \n",
       "─────────────────── - ───────────────────────── + ───────────────────\n",
       "           ________                          2               ________\n",
       "          ╱  2          ⎛           ________⎞               ╱  2     \n",
       "b + 2⋅y⋅╲╱  z  + 1      ⎜          ╱  2     ⎟     b + 2⋅y⋅╲╱  z  + 1 \n",
       "                        ⎝b + 2⋅y⋅╲╱  z  + 1 ⎠                        "
      ]
     },
     "execution_count": 252,
     "metadata": {},
     "output_type": "execute_result"
    }
   ],
   "source": [
    "dft2=diff(Rht,y)\n",
    "\n",
    "dft2"
   ]
  },
  {
   "cell_type": "code",
   "execution_count": 253,
   "id": "350cd6dd",
   "metadata": {},
   "outputs": [
    {
     "data": {
      "image/png": "[encoded data removed]",
      "text/latex": [
       "$\\displaystyle - \\frac{y \\left(b + y z\\right)}{\\left(b + 2 y \\sqrt{z^{2} + 1}\\right)^{2}} + \\frac{y}{b + 2 y \\sqrt{z^{2} + 1}}$"
      ],
      "text/plain": [
       "       y⋅(b + y⋅z)                  y         \n",
       "- ────────────────────── + ───────────────────\n",
       "                       2              ________\n",
       "  ⎛           ________⎞              ╱  2     \n",
       "  ⎜          ╱  2     ⎟    b + 2⋅y⋅╲╱  z  + 1 \n",
       "  ⎝b + 2⋅y⋅╲╱  z  + 1 ⎠                       "
      ]
     },
     "execution_count": 253,
     "metadata": {},
     "output_type": "execute_result"
    }
   ],
   "source": [
    "dft3=diff(Rht,b)\n",
    "\n",
    "dft3"
   ]
  },
  {
   "cell_type": "markdown",
   "id": "5cd6c72b",
   "metadata": {},
   "source": [
    "La derivada en el caso del rectangulo"
   ]
  },
  {
   "cell_type": "code",
   "execution_count": 254,
   "id": "8b1365a2",
   "metadata": {},
   "outputs": [
    {
     "data": {
      "image/png": "[encoded data removed]",
      "text/latex": [
       "$\\displaystyle - \\frac{b y}{\\left(b + 2 y\\right)^{2}} + \\frac{y}{b + 2 y}$"
      ],
      "text/plain": [
       "     b⋅y          y   \n",
       "- ────────── + ───────\n",
       "           2   b + 2⋅y\n",
       "  (b + 2⋅y)           "
      ]
     },
     "execution_count": 254,
     "metadata": {},
     "output_type": "execute_result"
    }
   ],
   "source": [
    "dfr=diff(Rhr,b)\n",
    "\n",
    "dfr"
   ]
  },
  {
   "cell_type": "code",
   "execution_count": 255,
   "id": "a6b6f64f",
   "metadata": {},
   "outputs": [
    {
     "data": {
      "image/png": "[encoded data removed]",
      "text/latex": [
       "$\\displaystyle - \\frac{2 b y}{\\left(b + 2 y\\right)^{2}} + \\frac{b}{b + 2 y}$"
      ],
      "text/plain": [
       "    2⋅b⋅y         b   \n",
       "- ────────── + ───────\n",
       "           2   b + 2⋅y\n",
       "  (b + 2⋅y)           "
      ]
     },
     "execution_count": 255,
     "metadata": {},
     "output_type": "execute_result"
    }
   ],
   "source": [
    "dfr2=diff(Rhr,y)\n",
    "\n",
    "dfr2"
   ]
  },
  {
   "cell_type": "markdown",
   "id": "9dc4b543",
   "metadata": {},
   "source": [
    "La derivada en el caso del triangulo"
   ]
  },
  {
   "cell_type": "code",
   "execution_count": 256,
   "id": "af2707e4",
   "metadata": {},
   "outputs": [
    {
     "data": {
      "image/png": "[encoded data removed]",
      "text/latex": [
       "$\\displaystyle \\frac{z}{2 \\sqrt{z^{2} + 1}}$"
      ],
      "text/plain": [
       "      z      \n",
       "─────────────\n",
       "     ________\n",
       "    ╱  2     \n",
       "2⋅╲╱  z  + 1 "
      ]
     },
     "execution_count": 256,
     "metadata": {},
     "output_type": "execute_result"
    }
   ],
   "source": [
    "dftri=diff(Rhtri,y)\n",
    "\n",
    "dftri"
   ]
  },
  {
   "cell_type": "code",
   "execution_count": 257,
   "id": "4f98c432",
   "metadata": {},
   "outputs": [
    {
     "data": {
      "image/png": "[encoded data removed]",
      "text/latex": [
       "$\\displaystyle - \\frac{y z^{2}}{2 \\left(z^{2} + 1\\right)^{\\frac{3}{2}}} + \\frac{y}{2 \\sqrt{z^{2} + 1}}$"
      ],
      "text/plain": [
       "          2                    \n",
       "       y⋅z              y      \n",
       "- ───────────── + ─────────────\n",
       "            3/2        ________\n",
       "    ⎛ 2    ⎞          ╱  2     \n",
       "  2⋅⎝z  + 1⎠      2⋅╲╱  z  + 1 "
      ]
     },
     "execution_count": 257,
     "metadata": {},
     "output_type": "execute_result"
    }
   ],
   "source": [
    "dftri2=diff(Rhtri,z)\n",
    "\n",
    "dftri2"
   ]
  },
  {
   "cell_type": "markdown",
   "id": "d6ab024d",
   "metadata": {},
   "source": [
    "La derivada en el caso del circulo"
   ]
  },
  {
   "cell_type": "code",
   "execution_count": 258,
   "id": "d3594df2",
   "metadata": {},
   "outputs": [
    {
     "data": {
      "image/png": "[encoded data removed]",
      "text/latex": [
       "$\\displaystyle \\frac{D \\left(- \\frac{\\cos{\\left(t \\right)}}{t} + \\frac{\\sin{\\left(t \\right)}}{t^{2}}\\right)}{4}$"
      ],
      "text/plain": [
       "  ⎛  cos(t)   sin(t)⎞\n",
       "D⋅⎜- ────── + ──────⎟\n",
       "  ⎜    t         2  ⎟\n",
       "  ⎝             t   ⎠\n",
       "─────────────────────\n",
       "          4          "
      ]
     },
     "execution_count": 258,
     "metadata": {},
     "output_type": "execute_result"
    }
   ],
   "source": [
    "dfc=diff(Rhc,t)\n",
    "\n",
    "dfc"
   ]
  },
  {
   "cell_type": "code",
   "execution_count": 259,
   "id": "a093efc5",
   "metadata": {},
   "outputs": [
    {
     "data": {
      "image/png": "[encoded data removed]",
      "text/latex": [
       "$\\displaystyle \\frac{4 T y^{2} \\left(- \\frac{3 T^{3} y^{2}}{\\sqrt{T^{2} y^{2} + 1}} - 3 T \\sqrt{T^{2} y^{2} + 1} - \\frac{3 \\sqrt{4 y^{2} + 1} \\left(- \\frac{4 y \\left(T y + \\sqrt{T^{2} y^{2} + 1}\\right)}{\\left(4 y^{2} + 1\\right)^{\\frac{3}{2}}} + \\frac{\\frac{T^{2} y}{\\sqrt{T^{2} y^{2} + 1}} + T}{\\sqrt{4 y^{2} + 1}}\\right)}{T y + \\sqrt{T^{2} y^{2} + 1}}\\right)}{\\left(3 T y \\sqrt{T^{2} y^{2} + 1} + 3 \\log{\\left(\\frac{T y + \\sqrt{T^{2} y^{2} + 1}}{\\sqrt{4 y^{2} + 1}} \\right)}\\right)^{2}} + \\frac{8 T y}{3 T y \\sqrt{T^{2} y^{2} + 1} + 3 \\log{\\left(\\frac{T y + \\sqrt{T^{2} y^{2} + 1}}{\\sqrt{4 y^{2} + 1}} \\right)}}$"
      ],
      "text/plain": [
       "       ⎛                                                        ⎛             \n",
       "       ⎜                                                        ⎜             \n",
       "       ⎜                                                        ⎜             \n",
       "       ⎜                                                        ⎜      ⎛      \n",
       "       ⎜                                             __________ ⎜      ⎜      \n",
       "       ⎜                                            ╱    2      ⎜  4⋅y⋅⎝T⋅y + \n",
       "       ⎜                                        3⋅╲╱  4⋅y  + 1 ⋅⎜- ───────────\n",
       "       ⎜                                                        ⎜             \n",
       "       ⎜        3  2              ___________                   ⎜        ⎛   2\n",
       "     2 ⎜     3⋅T ⋅y              ╱  2  2                        ⎝        ⎝4⋅y \n",
       "4⋅T⋅y ⋅⎜- ────────────── - 3⋅T⋅╲╱  T ⋅y  + 1  - ──────────────────────────────\n",
       "       ⎜     ___________                                                      \n",
       "       ⎜    ╱  2  2                                                           \n",
       "       ⎝  ╲╱  T ⋅y  + 1                                                 T⋅y + \n",
       "──────────────────────────────────────────────────────────────────────────────\n",
       "                                                                              \n",
       "                               ⎛                            ⎛         ________\n",
       "                               ⎜         ___________        ⎜        ╱  2  2  \n",
       "                               ⎜        ╱  2  2             ⎜T⋅y + ╲╱  T ⋅y  +\n",
       "                               ⎜3⋅T⋅y⋅╲╱  T ⋅y  + 1  + 3⋅log⎜─────────────────\n",
       "                               ⎜                            ⎜      __________ \n",
       "                               ⎜                            ⎜     ╱    2      \n",
       "                               ⎝                            ⎝   ╲╱  4⋅y  + 1  \n",
       "\n",
       "                        2           ⎞⎞                                        \n",
       "                       T ⋅y         ⎟⎟                                        \n",
       "                  ────────────── + T⎟⎟                                        \n",
       "   ___________⎞      ___________    ⎟⎟                                        \n",
       "  ╱  2  2     ⎟     ╱  2  2         ⎟⎟                                        \n",
       "╲╱  T ⋅y  + 1 ⎠   ╲╱  T ⋅y  + 1     ⎟⎟                                        \n",
       "─────────────── + ──────────────────⎟⎟                                        \n",
       "     3/2               __________   ⎟⎟                                        \n",
       "    ⎞                 ╱    2        ⎟⎟                                        \n",
       " + 1⎠               ╲╱  4⋅y  + 1    ⎠⎟                                        \n",
       "─────────────────────────────────────⎟                                        \n",
       "   ___________                       ⎟                                        \n",
       "  ╱  2  2                            ⎟                                        \n",
       "╲╱  T ⋅y  + 1                        ⎠                         8⋅T⋅y          \n",
       "────────────────────────────────────── + ─────────────────────────────────────\n",
       "     2                                                               ⎛        \n",
       "___⎞⎞                                             ___________        ⎜        \n",
       "   ⎟⎟                                            ╱  2  2             ⎜T⋅y + ╲╱\n",
       " 1 ⎟⎟                                    3⋅T⋅y⋅╲╱  T ⋅y  + 1  + 3⋅log⎜────────\n",
       "───⎟⎟                                                                ⎜      __\n",
       "   ⎟⎟                                                                ⎜     ╱  \n",
       "   ⎟⎟                                                                ⎝   ╲╱  4\n",
       "   ⎠⎠                                                                         \n",
       "\n",
       "             \n",
       "             \n",
       "             \n",
       "             \n",
       "             \n",
       "             \n",
       "             \n",
       "             \n",
       "             \n",
       "             \n",
       "             \n",
       "             \n",
       "             \n",
       "             \n",
       "─────────────\n",
       " ___________⎞\n",
       "╱  2  2     ⎟\n",
       "  T ⋅y  + 1 ⎟\n",
       "────────────⎟\n",
       "________    ⎟\n",
       "  2         ⎟\n",
       "⋅y  + 1     ⎠\n",
       "             "
      ]
     },
     "execution_count": 259,
     "metadata": {},
     "output_type": "execute_result"
    }
   ],
   "source": [
    "dfp=diff(Rhp,y)\n",
    "\n",
    "dfp"
   ]
  },
  {
   "cell_type": "code",
   "execution_count": 260,
   "id": "f59bfc93",
   "metadata": {},
   "outputs": [
    {
     "data": {
      "image/png": "[encoded data removed]",
      "text/latex": [
       "$\\displaystyle \\frac{4 T y^{2} \\left(- \\frac{3 T^{2} y^{3}}{\\sqrt{T^{2} y^{2} + 1}} - 3 y \\sqrt{T^{2} y^{2} + 1} - \\frac{3 \\left(\\frac{T y^{2}}{\\sqrt{T^{2} y^{2} + 1}} + y\\right)}{T y + \\sqrt{T^{2} y^{2} + 1}}\\right)}{\\left(3 T y \\sqrt{T^{2} y^{2} + 1} + 3 \\log{\\left(\\frac{T y + \\sqrt{T^{2} y^{2} + 1}}{\\sqrt{4 y^{2} + 1}} \\right)}\\right)^{2}} + \\frac{4 y^{2}}{3 T y \\sqrt{T^{2} y^{2} + 1} + 3 \\log{\\left(\\frac{T y + \\sqrt{T^{2} y^{2} + 1}}{\\sqrt{4 y^{2} + 1}} \\right)}}$"
      ],
      "text/plain": [
       "       ⎛                                          ⎛        2         ⎞⎞       \n",
       "       ⎜                                          ⎜     T⋅y          ⎟⎟       \n",
       "       ⎜                                        3⋅⎜────────────── + y⎟⎟       \n",
       "       ⎜                                          ⎜   ___________    ⎟⎟       \n",
       "       ⎜        2  3              ___________     ⎜  ╱  2  2         ⎟⎟       \n",
       "     2 ⎜     3⋅T ⋅y              ╱  2  2          ⎝╲╱  T ⋅y  + 1     ⎠⎟       \n",
       "4⋅T⋅y ⋅⎜- ────────────── - 3⋅y⋅╲╱  T ⋅y  + 1  - ──────────────────────⎟       \n",
       "       ⎜     ___________                                  ___________ ⎟       \n",
       "       ⎜    ╱  2  2                                      ╱  2  2      ⎟       \n",
       "       ⎝  ╲╱  T ⋅y  + 1                          T⋅y + ╲╱  T ⋅y  + 1  ⎠       \n",
       "─────────────────────────────────────────────────────────────────────── + ────\n",
       "                                                             2                \n",
       "         ⎛                            ⎛         ___________⎞⎞                 \n",
       "         ⎜         ___________        ⎜        ╱  2  2     ⎟⎟                 \n",
       "         ⎜        ╱  2  2             ⎜T⋅y + ╲╱  T ⋅y  + 1 ⎟⎟             3⋅T⋅\n",
       "         ⎜3⋅T⋅y⋅╲╱  T ⋅y  + 1  + 3⋅log⎜────────────────────⎟⎟                 \n",
       "         ⎜                            ⎜      __________    ⎟⎟                 \n",
       "         ⎜                            ⎜     ╱    2         ⎟⎟                 \n",
       "         ⎝                            ⎝   ╲╱  4⋅y  + 1     ⎠⎠                 \n",
       "\n",
       "                                              \n",
       "                                              \n",
       "                                              \n",
       "                                              \n",
       "                                              \n",
       "                                              \n",
       "                                              \n",
       "                                              \n",
       "                      2                       \n",
       "                   4⋅y                        \n",
       "──────────────────────────────────────────────\n",
       "                        ⎛         ___________⎞\n",
       "     ___________        ⎜        ╱  2  2     ⎟\n",
       "    ╱  2  2             ⎜T⋅y + ╲╱  T ⋅y  + 1 ⎟\n",
       "y⋅╲╱  T ⋅y  + 1  + 3⋅log⎜────────────────────⎟\n",
       "                        ⎜      __________    ⎟\n",
       "                        ⎜     ╱    2         ⎟\n",
       "                        ⎝   ╲╱  4⋅y  + 1     ⎠\n",
       "                                              "
      ]
     },
     "execution_count": 260,
     "metadata": {},
     "output_type": "execute_result"
    }
   ],
   "source": [
    "dfp2=diff(Rhp,T)\n",
    "\n",
    "dfp2"
   ]
  },
  {
   "cell_type": "code",
   "execution_count": 277,
   "id": "87fee359",
   "metadata": {},
   "outputs": [
    {
     "data": {
      "image/png": "[encoded data removed]",
      "text/plain": [
       "<Figure size 640x480 with 1 Axes>"
      ]
     },
     "metadata": {},
     "output_type": "display_data"
    },
    {
     "name": "stdout",
     "output_type": "stream",
     "text": [
      "El máximo de la función se encuentra en t = 4.493400000000002\n",
      "El valor máximo de la función es: 3.043084070503764\n",
      "Error absoluto: 2.1346335014227176\n"
     ]
    }
   ],
   "source": [
    "def Rhc(t, D):\n",
    "    return (D/4) * (1 - np.sin(t)/t)\n",
    "\n",
    "# Valor de D\n",
    "D = 10\n",
    "\n",
    "# Búsqueda ingenua de máximo\n",
    "max_t = 0\n",
    "max_Rhc = Rhc(1e-8, D) \n",
    "incremento = 0.0001\n",
    "\n",
    "t = 0.0001\n",
    "while t <= 10:  \n",
    "    valor_actual = Rhc(t, D)\n",
    "    if valor_actual > max_Rhc:\n",
    "        max_Rhc = valor_actual\n",
    "        max_t = t\n",
    "    t += incremento\n",
    "\n",
    "t_values = np.arange(0.001, 10.001, incremento)\n",
    "Rhc_values = Rhc(t_values, D)\n",
    "\n",
    "\n",
    "max_index = np.argmax(Rhc_values)\n",
    "max_t = t_values[max_index]\n",
    "max_Rhc = Rhc_values[max_index]\n",
    "\n",
    "t_teorico = np.pi / 2\n",
    "Rhc_teorico = Rhc(t_teorico, D)\n",
    "error_absoluto = abs(max_Rhc - Rhc_teorico)\n",
    "\n",
    "# Graficar la función\n",
    "plt.plot(t_values, Rhc_values, label='Rhc(t, D)')\n",
    "plt.scatter(max_t, max_Rhc, color='red', label='Máximo calculado')\n",
    "plt.xlabel('t')\n",
    "plt.ylabel('Rhc(t, D)')\n",
    "plt.title('Gráfico de Rhc(t, D)')\n",
    "plt.legend()\n",
    "\n",
    "# Mostrar la gráfica\n",
    "plt.show()\n",
    "\n",
    "# Imprimir el resultado\n",
    "print(\"El máximo de la función se encuentra en t =\", max_t)\n",
    "print(\"El valor máximo de la función es:\", max_Rhc)\n",
    "print(\"Error absoluto:\", error_absoluto)\n"
   ]
  },
  {
   "cell_type": "markdown",
   "id": "ae8faaf1",
   "metadata": {},
   "source": [
    "----Analisis de resultados----"
   ]
  },
  {
   "cell_type": "markdown",
   "id": "9b1444bd",
   "metadata": {},
   "source": [
    "La optimizacion de canales provee de de un flujo más optimo. En el caso del canal circular, este refiere a que su maximo se halla a 4.4934 radianes aproximadamente, siendo la solucion de una ecuación trascendente. El maximo hallado es reemplazado dentro de la ecuacion de radio hidraulico del circulo, resultando que el valor hallado numericamente multiplicado por el diametro es igual al radio hidraulico. Esto, a forma sencilla se escribe como:\n",
    "\n",
    "$R_h=0.304308D$\n",
    "\n",
    "lo cual explica que, existiendo cierto diametro constante, el valor del radio maximo para un caudal de agua optimo y maximo se halla cuando el radio es 0.304308 veces el diametro. El valor en grados de los radianos obtenidos ronda por los 257.4528 grados."
   ]
  },
  {
   "cell_type": "markdown",
   "id": "0b275132",
   "metadata": {},
   "source": [
    "Conclusiones\n",
    "\n",
    "La forma de los caudales actualmente puede ayudar de multiples maneras, ya sea en aspectos cotidianos o industriales. Los trabajos acerca de los caudales dieron paso a las civilizaciones y asentamientos. Incluso los romanos diseñaron sistemas de riego optimos, cimentados en sus conocimientos empiricos y la geometria que ellos optaron como buena. El analisis de caudales abiertos puedo colocarse en ramas distintas de estudio como lo puede ser la medicina, tomando consideraciones extras, o la forma en la cual algún arroyuelo puede encaminarse a alguna zona en especifico, o la forma en la cual se transporta el agua a traves de tuberias (haciendo mas consideraciones). "
   ]
  },
  {
   "cell_type": "markdown",
   "id": "0635e6d9",
   "metadata": {},
   "source": [
    "----Referencias----"
   ]
  },
  {
   "cell_type": "markdown",
   "id": "136b63ca",
   "metadata": {},
   "source": [
    "V. T. Chow, Hidráulica de canales abiertos. 1994.\n",
    "\n",
    "\n",
    "colaboradores de Wikipedia, «Radio hidráulico», Wikipedia, la Enciclopedia Libre, 14 de enero de 2024. Disponible en: https://es.wikipedia.org/wiki/Radio_hidr%C3%A1ulico"
   ]
  }
 ],
 "metadata": {
  "kernelspec": {
   "display_name": "Python 3 (ipykernel)",
   "language": "python",
   "name": "python3"
  },
  "language_info": {
   "codemirror_mode": {
    "name": "ipython",
    "version": 3
   },
   "file_extension": ".py",
   "mimetype": "text/x-python",
   "name": "python",
   "nbconvert_exporter": "python",
   "pygments_lexer": "ipython3",
   "version": "3.11.5"
  }
 },
 "nbformat": 4,
 "nbformat_minor": 5
}
