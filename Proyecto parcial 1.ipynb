{
 "cells": [
  {
   "cell_type": "code",
   "execution_count": 8,
   "id": "132a5b97",
   "metadata": {},
   "outputs": [
    {
     "data": {
      "text/plain": [
       "'C:\\\\Users\\\\HP10\\\\Bochi Fisica\\\\Codigos\\\\Primer parcial'"
      ]
     },
     "execution_count": 8,
     "metadata": {},
     "output_type": "execute_result"
    }
   ],
   "source": [
    "import os\n",
    "cwd =os.getcwd()\n",
    "cwd"
   ]
  },
  {
   "cell_type": "markdown",
   "id": "c0ecc613",
   "metadata": {},
   "source": [
    "Existen cuatro figuras, de las cuales se pueden definir distintos aspectos tales como área transversal ($A$), perímetro mojado ($P$), radio hidráulico ($R_h$) y el espejo de agua ($T$)."
   ]
  },
  {
   "cell_type": "markdown",
   "id": "4f237c44",
   "metadata": {},
   "source": [
    "<img src=\"trapecioisosceles.jpg\" style=\"width:500px;height:400px\" title=\"Trapecio\">"
   ]
  },
  {
   "cell_type": "markdown",
   "id": "f46b86ca",
   "metadata": {},
   "source": [
    "Se puede pensar geometricamente que el rectangulo y el triangulo son casos particulares del trapecio. Obtengamos los 4 aspectos mencionados.\n",
    "\n",
    "En un trapecio isosceles, el área se puede considerar con tres trozos de área independientes: $A_1, A_2$ y $A_3$, con lo que el area total sería:\n",
    "\n",
    "$A_T = A_1 + A_2 + A_3$ $\\dotsc$ (1)\n",
    "\n",
    "Observando la geometria de estos trozos de área, se observa que $A_2 = A_3$, por lo que el valor del área cambia a:\n",
    "\n",
    "$A_t = A_1 +2A_2$ $\\dotsc$ (2)"
   ]
  },
  {
   "cell_type": "markdown",
   "id": "af0e86b3",
   "metadata": {},
   "source": [
    "De esto se desprende que \n",
    "\n",
    "$A_1 = by$ $\\dotsc$ (3)\n",
    "\n",
    "pero $A_2$ no esta definido.\n",
    "\n",
    "Se define $A_2$ como:\n",
    "\n",
    "$A_2 = \\frac{\\alpha y}{2}$ $\\dotsc$ (4)\n",
    "\n",
    "donde $\\alpha$ es una variable que por ahora es desconcida pero es auxiliar, fungiendo como uno de los catetos, y por teorema de Tales, existe una relacion tal que:\n",
    "\n",
    "$\\frac{y}{\\alpha}=\\frac{1}{z}$ $\\dotsc$ (5)\n"
   ]
  },
  {
   "cell_type": "markdown",
   "id": "46b514bb",
   "metadata": {},
   "source": [
    "Resolviendo para $\\alpha$ resulta en $\\alpha = yz$ y esta ultima identidad se reemplaza en la ecuacion (4), resultando que el area transversal $A_2$ es:\n",
    "\n",
    "$A_2 = \\frac{y^2 z}{2}$ $\\dotsc$ (6)\n",
    "\n",
    "por lo tanto, el area $A_T$ del trapecio se obtiene al reemplazar la ecuacion (6) y (3) en la ecuación (2), resultando en:\n",
    "\n",
    "$A_T = y(b+yz)$"
   ]
  },
  {
   "cell_type": "markdown",
   "id": "77a80928",
   "metadata": {},
   "source": [
    "Para obtener el perimetro, se guarda la misma relacion del teeorema de Tales, donde, en este caso, $\\alpha=yz$ y la hipotenusa es:  \n",
    "\n",
    "$c_1 = \\sqrt{1+z^2}$\n",
    "\n",
    "y la relacion de Tales es:\n",
    "\n",
    "$\\frac{1}{c_1}=\\frac{y}{c_2}$\n",
    "\n",
    "Resolviendo para $c_2$:\n",
    "\n",
    "$c_2 = y\\sqrt{1+z^2}$\n",
    "\n",
    "siendo este resultado solo una de las diagoinales que conforman el perimetro. Al ser dos diagonales iguales, el resultado se duplica y el perimetro total mojado se vuelve:\n",
    "\n",
    "$P=b+2y\\sqrt{1+z^2}$"
   ]
  },
  {
   "cell_type": "markdown",
   "id": "d1ae9424",
   "metadata": {},
   "source": [
    "El radio hidraulico se define como la razon entre el area transversal y el perimetro total, siendo para este trapecio:\n",
    "\n",
    "$R_h = \\frac{y(b+yz)}{b+2y\\sqrt{1+z^2}}$"
   ]
  },
  {
   "cell_type": "markdown",
   "id": "44756275",
   "metadata": {},
   "source": [
    "El espejo de agua se define como la longitud lineal de un extremo a otro en un canal. En este caso, para el trapecio se retona el valor de $\\alpha$ (ya que en ambos lados existen esas diferencias) y se duplica su valor, sumandolo al valor del $b$, resultando que el espejo de agua es:\n",
    "\n",
    "$T=b+2z$"
   ]
  },
  {
   "cell_type": "markdown",
   "id": "a05ffecb",
   "metadata": {},
   "source": [
    "Por lo que, en resumidas cuentas, los valores hallados para el trapecio son:\n",
    "\n",
    "$A_T = y(b+yz)$\n",
    "\n",
    "$P=b+2y\\sqrt{1+z^2}$\n",
    "\n",
    "$R_h = \\frac{y(b+yz)}{b+2y\\sqrt{1+z^2}}$\n",
    "\n",
    "$T=b+2z$"
   ]
  },
  {
   "cell_type": "markdown",
   "id": "54149827",
   "metadata": {},
   "source": [
    "Como se mencionó, el triangulo y el rectangulo son casos especificos del trapecio, por lo que sus cuatro caracteristicas se definen como:"
   ]
  },
  {
   "cell_type": "markdown",
   "id": "60d1f6dc",
   "metadata": {},
   "source": [
    "Rectangulo, el cual se forma a partir del trapecio si $z=0$:\n",
    "\n",
    "$A_T = by$\n",
    "\n",
    "$P=b+2y$\n",
    "\n",
    "$R_h = \\frac{by}{b+2y}$\n",
    "\n",
    "$T=b$\n",
    "\n",
    "Triangulo, el cual se forma a partir del trapecio si $b=0$:\n",
    "\n",
    "$A_T = zy^2$\n",
    "\n",
    "$P=2y\\sqrt{1+z^2}$\n",
    "\n",
    "$R_h = \\frac{yz}{2\\sqrt{1+z^2}}$\n",
    "\n",
    "$T=2yz$"
   ]
  },
  {
   "cell_type": "markdown",
   "id": "02318be4",
   "metadata": {},
   "source": [
    "<img src=\"circulo.jpg\" style=\"width:500px;height:350px\" title=\"Circulo\">"
   ]
  },
  {
   "cell_type": "markdown",
   "id": "d685cc09",
   "metadata": {},
   "source": [
    "Para hallar los elementos del circulo, el area transversal se define como la superficie en la cual pasa el agua. Supongamos una tuberia de cierto diametro en la cual existe cierta altura de agua que pasa en esta tuberia. En la imagen, la altura esta definida por $h$ mientras que el area esta definida por $A$; $P$ es el perimetro mojado y $\\theta$ es el angulo del centro a los extremos del agua, $D$ es el diametro de la tuberia. Se conoce que el area de una sección circular es:\n",
    "\n",
    "$A_{sc}=\\frac{\\theta D^2}{8}$\n",
    "\n",
    "Como se menciono, el area corrresponde a la altura del liquido en la tuberia, entonces, se forma un triangulo entre el centro, y la cuerda (que en este caso viene siendo el \"espejo de agua\"). Este triangulo (isosceles) esta dentro del sector circular, por lo que la cuerda corresponde a su base. Partiendo el triangulo en dos partes iguales, se obtiene una altura y a su vez el angulo $\\theta$ partido en dos, asi como una base $t$ que corrresponde a la mitand de la base del triangulo completo. Entonces, las funciones trigonometricas que modelan esto son:\n",
    "\n",
    "$t=\\frac{D\\sin \\left(\\frac{\\theta}{2}\\right)}{2}$\n",
    "\n",
    "$h=\\frac{D\\cos \\left(\\frac{\\theta}{2}\\right)}{2}$\n",
    "\n",
    "El area de este medio triangulo es:\n",
    "\n",
    "$A= \\frac{bh}{2}=\\frac{ht}{2}=\\frac{\\frac{D\\sin \\left(\\frac{\\theta}{2}\\right)}{2}\\frac{D\\cos \\left(\\frac{\\theta}{2}\\right)}{2}}{2}=\\frac{D^2\\sin (\\theta)}{16}$\n",
    "\n",
    "Pero como se menciono, este triangulo es la mitad, asi que el valor completo del area del triangulo hallado dentro del sector cirercular es:\n",
    "\n",
    "$A_{ts}=\\frac{D^2\\sin(\\theta)}{8}$"
   ]
  },
  {
   "cell_type": "markdown",
   "id": "f22c00ea",
   "metadata": {},
   "source": [
    "El area del agua en la tuberia es la diferencia entre $A_{sc}$ menos $A_{ts}$, por lo que el area total del agua en la tuberia es:\n",
    "\n",
    "$A_T=\\frac{D^2(\\theta - \\sin(\\theta))}{8}$"
   ]
  },
  {
   "cell_type": "markdown",
   "id": "00c81ce4",
   "metadata": {},
   "source": [
    "El perimetro mejodo es:\n",
    "\n",
    "$P=\\frac{D\\theta}{2}$;\n",
    "\n",
    "el radio hidraulico es:\n",
    "\n",
    "$R_h = \\frac{D}{4} \\left(1-\\frac{\\sin (\\theta)}{\\theta}\\right)$"
   ]
  },
  {
   "cell_type": "markdown",
   "id": "af21ab85",
   "metadata": {},
   "source": [
    "Finalmente, el espejo de agua es:\n",
    "\n",
    "$T= D \\sin\\left(\\frac{\\theta}{2}\\right)$"
   ]
  },
  {
   "cell_type": "markdown",
   "id": "2d18ae84",
   "metadata": {},
   "source": [
    "<img src=\"parabola.jpg\" style=\"width:500px;height:350px\" title=\"Parabola\">"
   ]
  },
  {
   "cell_type": "markdown",
   "id": "9183ad25",
   "metadata": {},
   "source": [
    "Para el caso de la parabola, de esta solo se sabe que se conoce $T$ y $y$. Esta parabola se ubica exactamente en el origen. Para obtener el area transversal de este figura, se realiza una integral de la siguiente manera:\n",
    "\n",
    "$A_T = 2 \\int_0^{\\frac{T}{2}} (y_0 - 4px^2) \\mathrm{d}x$"
   ]
  },
  {
   "cell_type": "markdown",
   "id": "4ad31056",
   "metadata": {},
   "source": [
    "Donde el 2 indica que el area debe de duplicarse, ya que solo se toma la mitad de $T$.\n",
    "\n",
    "Al resolver la integral se llega a:\n",
    "\n",
    "$A_T = y_0 T - \\frac{pT^3}{3}$\n",
    "\n",
    "Pero, conocidas las propiedades de la parabola, el valor de $p$ se define como $\\frac{y_0}{4}$. Con esto, el valor del area total es: \n",
    "\n",
    "$A_T=\\frac{2Ty_0}{3}$"
   ]
  },
  {
   "cell_type": "markdown",
   "id": "56f30463",
   "metadata": {},
   "source": [
    "El perimetro se obtiene al resolver la integral de la longitud de una curva usando con $f(x)$ a la funcion que describe la parabola. La integral resulta en:\n",
    "\n",
    "$P = 2 \\int_0^{\\frac{T}{2}} \\sqrt{1+(8px)^2} \\mathrm{d}x$\n",
    "\n",
    "la cual tiene como solucion:\n",
    "\n",
    "$\\dfrac{\\ln\\left(\\left|\\sqrt{4y_0^2x^2+1}+2y_0x\\right|\\right)}{2y_0}+x\\sqrt{4y_0^2x^2+1}$\n",
    "\n",
    "y al evaluarla resulta en:\n",
    "\n",
    "$\\dfrac{\\operatorname{arsinh}\\left(Ty_0\\right)+Ty_0\\sqrt{T^2y_0^2+1}}{2y_0}$"
   ]
  },
  {
   "cell_type": "markdown",
   "id": "08ceb2dc",
   "metadata": {},
   "source": [
    "%---------------------------------------------------------------------------------------------%"
   ]
  },
  {
   "cell_type": "markdown",
   "id": "ff09acb3",
   "metadata": {},
   "source": [
    "Implementacion de errorres para determinacion de maximos y optimizacion"
   ]
  },
  {
   "cell_type": "code",
   "execution_count": 46,
   "id": "2cafb6c4",
   "metadata": {},
   "outputs": [],
   "source": [
    "import numpy as np\n",
    "import sympy as sy\n",
    "import matplotlib.pyplot as plt\n",
    "import math\n",
    "\n",
    "from sympy import *\n",
    "from sympy.plotting import plot\n",
    "from sympy.abc import t\n",
    "\n",
    "init_printing()"
   ]
  },
  {
   "cell_type": "code",
   "execution_count": 47,
   "id": "a8192c4a",
   "metadata": {},
   "outputs": [],
   "source": [
    "theta=sy.symbols('t')\n",
    "\n",
    "D=sy.symbols('D')\n",
    "\n",
    "Rh=(D/4)*(1-(sy.sin(theta))/theta)\n"
   ]
  },
  {
   "cell_type": "code",
   "execution_count": 48,
   "id": "d9d2fe16",
   "metadata": {},
   "outputs": [
    {
     "data": {
      "image/png": "[encoded data removed]",
      "text/latex": [
       "$\\displaystyle \\frac{D \\left(1 - \\frac{\\sin{\\left(t \\right)}}{t}\\right)}{4}$"
      ],
      "text/plain": [
       "  ⎛    sin(t)⎞\n",
       "D⋅⎜1 - ──────⎟\n",
       "  ⎝      t   ⎠\n",
       "──────────────\n",
       "      4       "
      ]
     },
     "execution_count": 48,
     "metadata": {},
     "output_type": "execute_result"
    }
   ],
   "source": [
    "Rh"
   ]
  },
  {
   "cell_type": "code",
   "execution_count": 49,
   "id": "5d14ac00",
   "metadata": {},
   "outputs": [
    {
     "data": {
      "image/png": "[encoded data removed]",
      "text/latex": [
       "$\\displaystyle \\frac{D \\left(- \\frac{\\cos{\\left(t \\right)}}{t} + \\frac{\\sin{\\left(t \\right)}}{t^{2}}\\right)}{4}$"
      ],
      "text/plain": [
       "  ⎛  cos(t)   sin(t)⎞\n",
       "D⋅⎜- ────── + ──────⎟\n",
       "  ⎜    t         2  ⎟\n",
       "  ⎝             t   ⎠\n",
       "─────────────────────\n",
       "          4          "
      ]
     },
     "execution_count": 49,
     "metadata": {},
     "output_type": "execute_result"
    }
   ],
   "source": [
    "df=diff(Rh,t)\n",
    "\n",
    "df"
   ]
  },
  {
   "cell_type": "code",
   "execution_count": null,
   "id": "d3594df2",
   "metadata": {},
   "outputs": [],
   "source": []
  },
  {
   "cell_type": "code",
   "execution_count": null,
   "id": "a093efc5",
   "metadata": {},
   "outputs": [],
   "source": []
  },
  {
   "cell_type": "code",
   "execution_count": null,
   "id": "b566d80d",
   "metadata": {},
   "outputs": [],
   "source": []
  },
  {
   "cell_type": "markdown",
   "id": "d25313cc",
   "metadata": {},
   "source": [
    "En forma de serie de taylor, la tangente tiene la siguiente forma:"
   ]
  },
  {
   "cell_type": "code",
   "execution_count": 26,
   "id": "cfd2d920",
   "metadata": {},
   "outputs": [
    {
     "name": "stdout",
     "output_type": "stream",
     "text": [
      "tan(x)\n",
      "\n",
      "x + x**3/3 + 2*x**5/15 + 17*x**7/315 + 62*x**9/2835 + O(x**11)\n"
     ]
    }
   ],
   "source": [
    "x=sy.symbols('x')\n",
    "\n",
    "f=sy.tan(x)\n",
    "g=sy.series(f,x,0,11)\n",
    "\n",
    "print(f)\n",
    "print()\n",
    "print(g)"
   ]
  },
  {
   "cell_type": "code",
   "execution_count": 22,
   "id": "25c15085",
   "metadata": {},
   "outputs": [
    {
     "name": "stdout",
     "output_type": "stream",
     "text": [
      "O(x**11)\n",
      "\n",
      "62*x**9/2835 + 17*x**7/315 + 2*x**5/15 + x**3/3 + x\n"
     ]
    }
   ],
   "source": [
    "order=g.getO()\n",
    "gx=g.removeO()\n",
    "\n",
    "\n",
    "print(order)\n",
    "print()\n",
    "print(gx)"
   ]
  },
  {
   "cell_type": "code",
   "execution_count": 23,
   "id": "d28617c7",
   "metadata": {},
   "outputs": [
    {
     "name": "stdout",
     "output_type": "stream",
     "text": [
      "0.9999999999999999\n",
      "0.9991710667988496\n"
     ]
    }
   ],
   "source": [
    "ffunc=sy.lambdify(x,f)\n",
    "gfunc=sy.lambdify(x,g.removeO())\n",
    "\n",
    "\n",
    "print(ffunc((math.pi)/4)) \n",
    "print(gfunc((math.pi)/4))"
   ]
  },
  {
   "cell_type": "code",
   "execution_count": 24,
   "id": "55de3f36",
   "metadata": {},
   "outputs": [
    {
     "data": {
      "image/png": "[encoded data removed]",
      "text/latex": [
       "$\\displaystyle \\left( \\tan^{2}{\\left(x \\right)} + 1, \\  2 \\left(\\tan^{2}{\\left(x \\right)} + 1\\right) \\tan{\\left(x \\right)}\\right)$"
      ],
      "text/plain": [
       "⎛   2           ⎛   2       ⎞       ⎞\n",
       "⎝tan (x) + 1, 2⋅⎝tan (x) + 1⎠⋅tan(x)⎠"
      ]
     },
     "execution_count": 24,
     "metadata": {},
     "output_type": "execute_result"
    }
   ],
   "source": [
    "df = diff(f, x) # 1era. derivada\n",
    "d2f = diff(f,x,2) # Segunda derivada\n",
    "df, d2f"
   ]
  },
  {
   "cell_type": "code",
   "execution_count": null,
   "id": "9e15a3f4",
   "metadata": {},
   "outputs": [],
   "source": []
  },
  {
   "cell_type": "code",
   "execution_count": null,
   "id": "1798318f",
   "metadata": {},
   "outputs": [],
   "source": []
  },
  {
   "cell_type": "code",
   "execution_count": null,
   "id": "7e2979fd",
   "metadata": {},
   "outputs": [],
   "source": []
  },
  {
   "cell_type": "code",
   "execution_count": null,
   "id": "eca925f3",
   "metadata": {},
   "outputs": [],
   "source": []
  },
  {
   "cell_type": "code",
   "execution_count": null,
   "id": "5b122b0c",
   "metadata": {},
   "outputs": [],
   "source": []
  },
  {
   "cell_type": "code",
   "execution_count": 16,
   "id": "8069e4d4",
   "metadata": {},
   "outputs": [],
   "source": [
    "#las funciones trigonometricas estan en radianes"
   ]
  },
  {
   "cell_type": "code",
   "execution_count": null,
   "id": "4f55077e",
   "metadata": {},
   "outputs": [],
   "source": []
  },
  {
   "cell_type": "code",
   "execution_count": null,
   "id": "2e00499d",
   "metadata": {},
   "outputs": [],
   "source": []
  },
  {
   "cell_type": "code",
   "execution_count": null,
   "id": "a82b6f42",
   "metadata": {},
   "outputs": [],
   "source": []
  },
  {
   "cell_type": "code",
   "execution_count": null,
   "id": "b2994a20",
   "metadata": {},
   "outputs": [],
   "source": []
  },
  {
   "cell_type": "code",
   "execution_count": null,
   "id": "27e76438",
   "metadata": {},
   "outputs": [],
   "source": []
  },
  {
   "cell_type": "markdown",
   "id": "98831147",
   "metadata": {},
   "source": [
    "La grafica de la funcion $\\tan (x)$ se muestra a continuación"
   ]
  },
  {
   "cell_type": "code",
   "execution_count": 56,
   "id": "78aaa407",
   "metadata": {},
   "outputs": [
    {
     "data": {
      "image/png": "[encoded data removed]",
      "text/plain": [
       "<Figure size 640x480 with 1 Axes>"
      ]
     },
     "metadata": {},
     "output_type": "display_data"
    }
   ],
   "source": [
    "import numpy as np\n",
    "import matplotlib.pyplot as plt\n",
    "\n",
    "# Definir el rango de valores para x\n",
    "x = np.linspace(-np.pi, np.pi, 400)\n",
    "\n",
    "# Calcular los valores de y\n",
    "y = np.tan(x)\n",
    "\n",
    "# Evitar discontinuidades en la gráfica\n",
    "y[:-1][np.diff(y) < 0] = np.nan\n",
    "\n",
    "# Crear la gráfica\n",
    "#plt.figure(figsize=(10, 6))\n",
    "plt.plot(x, y)\n",
    "\n",
    "# Establecer los límites de la gráfica\n",
    "plt.ylim(-10,10)\n",
    "\n",
    "# Establecer las etiquetas de los ejes\n",
    "plt.xlabel('x')\n",
    "plt.ylabel('tan(x)')\n",
    "\n",
    "# Mostrar la gráfica\n",
    "plt.show()\n"
   ]
  },
  {
   "cell_type": "markdown",
   "id": "08d1231b",
   "metadata": {},
   "source": [
    "Mientras que su expansion en serie de taylor es"
   ]
  },
  {
   "cell_type": "markdown",
   "id": "5cbab7ce",
   "metadata": {},
   "source": [
    "Notas:\n",
    "\n",
    "En un artículo anterior presentamos el cálculo de una cuneta de carretera. Es un caso común de cálculo hidráulico donde se utilizan dos parámetros de interés, como son el radio hidráulico y el perímetro mojado de una sección. Un caso frecuente es la determinación del movimiento permanente uniforme en canales abiertos, donde se emplea con mucha frecuencia la fórmula de Manning-Strickler.\n",
    "\n",
    "El perímetro mojado de un conducto es la porción del perímetro donde la pared está en contacto con el fluido (excluida la superficie libre del líquido). El radio hidráulico es el cociente entre la sección por donde circula el fluido y el perímetro mojado. Este radio se emplea en el cálculo de pérdidas de carga en la fórmula de Manning.\n",
    "\n",
    "A continuación os dejo un problema donde se calculan estos parámetros en función de la geometría de la sección. Se han aplicado a secciones rectangulares, trapezoidales y triangulares simétricas, a secciones circulares o en forma de parábola. Espero que os sea de interés.\n",
    "\n",
    "https://victoryepes.blogs.upv.es/2023/01/17/el-radio-hidraulico-y-el-perimetro-mojado-de-una-seccion/\n",
    "\n",
    "\n",
    "Radio hidráulico o profundidad hidráulica, es la relación entre la superficie transversal del flujo y el perímetro mojado de la superficie de la tubería.\n",
    "\n",
    "Para tuberías de sección circular y con flujo a sección llena o a mitad de la sección, la profundidad hidráulica media es igual a un cuarto del diámetro de la conducción.\n",
    "\n",
    "https://www.urbipedia.org/hoja/Radio_hidr%C3%A1ulico\n",
    "\n",
    "\n",
    "https://hidraulica.uca.es/diametro-hidraulico/\n",
    "\n",
    "\n",
    "https://www.iagua.es/noticias/espana/tecnoconverting/16/08/25/que-son-diametro-y-radio-hidraulicos"
   ]
  }
 ],
 "metadata": {
  "kernelspec": {
   "display_name": "Python 3 (ipykernel)",
   "language": "python",
   "name": "python3"
  },
  "language_info": {
   "codemirror_mode": {
    "name": "ipython",
    "version": 3
   },
   "file_extension": ".py",
   "mimetype": "text/x-python",
   "name": "python",
   "nbconvert_exporter": "python",
   "pygments_lexer": "ipython3",
   "version": "3.11.5"
  }
 },
 "nbformat": 4,
 "nbformat_minor": 5
}
