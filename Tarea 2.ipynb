{
 "cells": [
  {
   "cell_type": "markdown",
   "id": "0b3147f6",
   "metadata": {},
   "source": [
    "Usar aproximaciones para tomando segmentos de una recta y evaluarlos, despues analizar el error entre una funcion evaluada completa y una fuincion a \"trozos\""
   ]
  },
  {
   "cell_type": "code",
   "execution_count": 121,
   "id": "0536d66d",
   "metadata": {},
   "outputs": [],
   "source": [
    "import numpy as np\n",
    "import sympy as sy\n",
    "import matplotlib.pyplot as plt"
   ]
  },
  {
   "cell_type": "code",
   "execution_count": 133,
   "id": "0fa85276",
   "metadata": {},
   "outputs": [],
   "source": [
    "x=sy.symbols('x')\n",
    "\n",
    "f=sy.exp(x)-sy.sin(x**2+x)\n",
    "\n",
    "g1=sy.series(f,x,3,5)\n",
    "g2=sy.series(f,x,5,5)\n",
    "g3=sy.series(f,x,-3,5)\n",
    "g4=sy.series(f,x,-5,5)"
   ]
  },
  {
   "cell_type": "code",
   "execution_count": 134,
   "id": "44d5f357",
   "metadata": {},
   "outputs": [
    {
     "name": "stdout",
     "output_type": "stream",
     "text": [
      "exp(x) - sin(x**2 + x)\n",
      "\n",
      "exp(3) - sin(12) + (x - 3)*(-7*cos(12) + exp(3)) + (x - 3)**2*(49*sin(12)/2 - cos(12) + exp(3)/2) + (x - 3)**3*(7*sin(12) + exp(3)/6 + 343*cos(12)/6) + (x - 3)**4*(exp(3)/24 + 49*cos(12)/2 - 2389*sin(12)/24) + O((x - 3)**5, (x, 3))\n",
      "\n",
      "exp(5) - sin(30) + (x - 5)*(-11*cos(30) + exp(5)) + (x - 5)**2*(121*sin(30)/2 - cos(30) + exp(5)/2) + (x - 5)**3*(11*sin(30) + exp(5)/6 + 1331*cos(30)/6) + (x - 5)**4*(exp(5)/24 + 121*cos(30)/2 - 14629*sin(30)/24) + O((x - 5)**5, (x, 5))\n",
      "\n",
      "-sin(6) + exp(-3) + (x + 3)*(exp(-3) + 5*cos(6)) + (x + 3)**2*(25*sin(6)/2 - cos(6) + exp(-3)/2) + (x + 3)**3*(-125*cos(6)/6 + exp(-3)/6 - 5*sin(6)) + (x + 3)**4*(exp(-3)/24 - 613*sin(6)/24 + 25*cos(6)/2) + O((x + 3)**5, (x, -3))\n",
      "\n",
      "exp(-5) - sin(20) + (x + 5)*(exp(-5) + 9*cos(20)) + (x + 5)**2*(-cos(20) + exp(-5)/2 + 81*sin(20)/2) + (x + 5)**3*(-243*cos(20)/2 - 9*sin(20) + exp(-5)/6) + (x + 5)**4*(-2183*sin(20)/8 + exp(-5)/24 + 81*cos(20)/2) + O((x + 5)**5, (x, -5))\n"
     ]
    }
   ],
   "source": [
    "print(f)\n",
    "print()\n",
    "print(g1)\n",
    "print()\n",
    "print(g2)\n",
    "print()\n",
    "print(g3)\n",
    "print()\n",
    "print(g4)"
   ]
  },
  {
   "cell_type": "code",
   "execution_count": 135,
   "id": "4e9701ff",
   "metadata": {},
   "outputs": [],
   "source": [
    "#se remueven los errores usando remove\n",
    "\n",
    "g1x=g1.removeO()\n",
    "g2x=g2.removeO()\n",
    "g3x=g3.removeO()\n",
    "g4x=g4.removeO()"
   ]
  },
  {
   "cell_type": "code",
   "execution_count": 143,
   "id": "a6949243",
   "metadata": {},
   "outputs": [
    {
     "name": "stdout",
     "output_type": "stream",
     "text": [
      "(x - 3)**4*(exp(3)/24 + 49*cos(12)/2 - 2389*sin(12)/24) + (x - 3)**3*(7*sin(12) + exp(3)/6 + 343*cos(12)/6) + (x - 3)**2*(49*sin(12)/2 - cos(12) + exp(3)/2) + (x - 3)*(-7*cos(12) + exp(3)) - sin(12) + exp(3)\n",
      "(x - 5)**4*(exp(5)/24 + 121*cos(30)/2 - 14629*sin(30)/24) + (x - 5)**3*(11*sin(30) + exp(5)/6 + 1331*cos(30)/6) + (x - 5)**2*(121*sin(30)/2 - cos(30) + exp(5)/2) + (x - 5)*(-11*cos(30) + exp(5)) - sin(30) + exp(5)\n",
      "(x + 3)**4*(exp(-3)/24 - 613*sin(6)/24 + 25*cos(6)/2) + (x + 3)**3*(-125*cos(6)/6 + exp(-3)/6 - 5*sin(6)) + (x + 3)**2*(25*sin(6)/2 - cos(6) + exp(-3)/2) + (x + 3)*(exp(-3) + 5*cos(6)) + exp(-3) - sin(6)\n",
      "(x + 5)**4*(-2183*sin(20)/8 + exp(-5)/24 + 81*cos(20)/2) + (x + 5)**3*(-243*cos(20)/2 - 9*sin(20) + exp(-5)/6) + (x + 5)**2*(-cos(20) + exp(-5)/2 + 81*sin(20)/2) + (x + 5)*(exp(-5) + 9*cos(20)) - sin(20) + exp(-5)\n"
     ]
    }
   ],
   "source": [
    "print(g1x)\n",
    "print(g2x)\n",
    "print(g3x)\n",
    "print(g4x)"
   ]
  },
  {
   "cell_type": "code",
   "execution_count": 144,
   "id": "33994a7f",
   "metadata": {},
   "outputs": [],
   "source": [
    "#se cambian el caclulo simbolico a un calculo numerico usando lambdify\n",
    "\n",
    "\n",
    "flam=sy.lambdify(x,f)\n",
    "\n",
    "g1lam=sy.lambdify(x,g1)\n",
    "g2lam=sy.lambdify(x,g2)\n",
    "g3lam=sy.lambdify(x,g3)\n",
    "g4lam=sy.lambdify(x,g4)"
   ]
  },
  {
   "cell_type": "code",
   "execution_count": 149,
   "id": "1f38be10",
   "metadata": {},
   "outputs": [
    {
     "name": "stdout",
     "output_type": "stream",
     "text": [
      "33.15747631141115\n"
     ]
    },
    {
     "ename": "NameError",
     "evalue": "name 'O' is not defined",
     "output_type": "error",
     "traceback": [
      "\u001b[1;31m---------------------------------------------------------------------------\u001b[0m",
      "\u001b[1;31mNameError\u001b[0m                                 Traceback (most recent call last)",
      "Cell \u001b[1;32mIn[149], line 5\u001b[0m\n\u001b[0;32m      2\u001b[0m a1\u001b[38;5;241m=\u001b[39m\u001b[38;5;241m3.5\u001b[39m\n\u001b[0;32m      4\u001b[0m \u001b[38;5;28mprint\u001b[39m(flam(a1))\n\u001b[1;32m----> 5\u001b[0m \u001b[38;5;28mprint\u001b[39m(g1lam(a1))\n\u001b[0;32m      6\u001b[0m \u001b[38;5;28mprint\u001b[39m()\n\u001b[0;32m      7\u001b[0m eabsg1\u001b[38;5;241m=\u001b[39mnp\u001b[38;5;241m.\u001b[39mabs(flam(a1)\u001b[38;5;241m-\u001b[39mg1lam(a1))\n",
      "File \u001b[1;32m<lambdifygenerated-58>:4\u001b[0m, in \u001b[0;36m_lambdifygenerated\u001b[1;34m(x)\u001b[0m\n\u001b[0;32m      1\u001b[0m \u001b[38;5;28;01mdef\u001b[39;00m \u001b[38;5;21m_lambdifygenerated\u001b[39m(x):\n\u001b[0;32m      2\u001b[0m     \u001b[38;5;28;01mreturn\u001b[39;00m (  \u001b[38;5;66;03m# Not supported in Python with SciPy and NumPy:\u001b[39;00m\n\u001b[0;32m      3\u001b[0m   \u001b[38;5;66;03m# Order\u001b[39;00m\n\u001b[1;32m----> 4\u001b[0m exp(\u001b[38;5;241m3\u001b[39m) \u001b[38;5;241m-\u001b[39m sin(\u001b[38;5;241m12\u001b[39m) \u001b[38;5;241m+\u001b[39m (x \u001b[38;5;241m-\u001b[39m \u001b[38;5;241m3\u001b[39m)\u001b[38;5;241m*\u001b[39m(\u001b[38;5;241m-\u001b[39m\u001b[38;5;241m7\u001b[39m\u001b[38;5;241m*\u001b[39mcos(\u001b[38;5;241m12\u001b[39m) \u001b[38;5;241m+\u001b[39m exp(\u001b[38;5;241m3\u001b[39m)) \u001b[38;5;241m+\u001b[39m (x \u001b[38;5;241m-\u001b[39m \u001b[38;5;241m3\u001b[39m)\u001b[38;5;241m*\u001b[39m\u001b[38;5;241m*\u001b[39m\u001b[38;5;241m2\u001b[39m\u001b[38;5;241m*\u001b[39m((\u001b[38;5;241m49\u001b[39m\u001b[38;5;241m/\u001b[39m\u001b[38;5;241m2\u001b[39m)\u001b[38;5;241m*\u001b[39msin(\u001b[38;5;241m12\u001b[39m) \u001b[38;5;241m-\u001b[39m cos(\u001b[38;5;241m12\u001b[39m) \u001b[38;5;241m+\u001b[39m (\u001b[38;5;241m1\u001b[39m\u001b[38;5;241m/\u001b[39m\u001b[38;5;241m2\u001b[39m)\u001b[38;5;241m*\u001b[39mexp(\u001b[38;5;241m3\u001b[39m)) \u001b[38;5;241m+\u001b[39m (x \u001b[38;5;241m-\u001b[39m \u001b[38;5;241m3\u001b[39m)\u001b[38;5;241m*\u001b[39m\u001b[38;5;241m*\u001b[39m\u001b[38;5;241m3\u001b[39m\u001b[38;5;241m*\u001b[39m(\u001b[38;5;241m7\u001b[39m\u001b[38;5;241m*\u001b[39msin(\u001b[38;5;241m12\u001b[39m) \u001b[38;5;241m+\u001b[39m (\u001b[38;5;241m1\u001b[39m\u001b[38;5;241m/\u001b[39m\u001b[38;5;241m6\u001b[39m)\u001b[38;5;241m*\u001b[39mexp(\u001b[38;5;241m3\u001b[39m) \u001b[38;5;241m+\u001b[39m (\u001b[38;5;241m343\u001b[39m\u001b[38;5;241m/\u001b[39m\u001b[38;5;241m6\u001b[39m)\u001b[38;5;241m*\u001b[39mcos(\u001b[38;5;241m12\u001b[39m)) \u001b[38;5;241m+\u001b[39m (x \u001b[38;5;241m-\u001b[39m \u001b[38;5;241m3\u001b[39m)\u001b[38;5;241m*\u001b[39m\u001b[38;5;241m*\u001b[39m\u001b[38;5;241m4\u001b[39m\u001b[38;5;241m*\u001b[39m((\u001b[38;5;241m1\u001b[39m\u001b[38;5;241m/\u001b[39m\u001b[38;5;241m24\u001b[39m)\u001b[38;5;241m*\u001b[39mexp(\u001b[38;5;241m3\u001b[39m) \u001b[38;5;241m+\u001b[39m (\u001b[38;5;241m49\u001b[39m\u001b[38;5;241m/\u001b[39m\u001b[38;5;241m2\u001b[39m)\u001b[38;5;241m*\u001b[39mcos(\u001b[38;5;241m12\u001b[39m) \u001b[38;5;241m-\u001b[39m \u001b[38;5;241m2389\u001b[39m\u001b[38;5;241m/\u001b[39m\u001b[38;5;241m24\u001b[39m\u001b[38;5;241m*\u001b[39msin(\u001b[38;5;241m12\u001b[39m)) \u001b[38;5;241m+\u001b[39m O((x \u001b[38;5;241m-\u001b[39m \u001b[38;5;241m3\u001b[39m)\u001b[38;5;241m*\u001b[39m\u001b[38;5;241m*\u001b[39m\u001b[38;5;241m5\u001b[39m, (x, \u001b[38;5;241m3\u001b[39m)))\n",
      "\u001b[1;31mNameError\u001b[0m: name 'O' is not defined"
     ]
    }
   ],
   "source": [
    "#evaluar las funciones g1, g2, g3 y g4 en algun punto dentro del intevalo\n",
    "a1=3.5\n",
    "\n",
    "print(flam(a1))\n",
    "print(g1lam(a1))\n",
    "print()\n",
    "eabsg1=np.abs(flam(a1)-g1lam(a1))\n",
    "\n",
    "print(eabsg1)\n"
   ]
  },
  {
   "cell_type": "code",
   "execution_count": 150,
   "id": "2107e1a4",
   "metadata": {},
   "outputs": [
    {
     "name": "stdout",
     "output_type": "stream",
     "text": [
      "149.54792144494124\n"
     ]
    },
    {
     "ename": "NameError",
     "evalue": "name 'O' is not defined",
     "output_type": "error",
     "traceback": [
      "\u001b[1;31m---------------------------------------------------------------------------\u001b[0m",
      "\u001b[1;31mNameError\u001b[0m                                 Traceback (most recent call last)",
      "Cell \u001b[1;32mIn[150], line 4\u001b[0m\n\u001b[0;32m      1\u001b[0m a2\u001b[38;5;241m=\u001b[39m\u001b[38;5;241m5.001\u001b[39m\n\u001b[0;32m      3\u001b[0m \u001b[38;5;28mprint\u001b[39m(flam(a2))\n\u001b[1;32m----> 4\u001b[0m \u001b[38;5;28mprint\u001b[39m(g2lam(a2))\n\u001b[0;32m      5\u001b[0m \u001b[38;5;28mprint\u001b[39m()\n\u001b[0;32m      6\u001b[0m eabsg2\u001b[38;5;241m=\u001b[39mnp\u001b[38;5;241m.\u001b[39mabs(flam(a2)\u001b[38;5;241m-\u001b[39mg2lam(a2))\n",
      "File \u001b[1;32m<lambdifygenerated-59>:4\u001b[0m, in \u001b[0;36m_lambdifygenerated\u001b[1;34m(x)\u001b[0m\n\u001b[0;32m      1\u001b[0m \u001b[38;5;28;01mdef\u001b[39;00m \u001b[38;5;21m_lambdifygenerated\u001b[39m(x):\n\u001b[0;32m      2\u001b[0m     \u001b[38;5;28;01mreturn\u001b[39;00m (  \u001b[38;5;66;03m# Not supported in Python with SciPy and NumPy:\u001b[39;00m\n\u001b[0;32m      3\u001b[0m   \u001b[38;5;66;03m# Order\u001b[39;00m\n\u001b[1;32m----> 4\u001b[0m exp(\u001b[38;5;241m5\u001b[39m) \u001b[38;5;241m-\u001b[39m sin(\u001b[38;5;241m30\u001b[39m) \u001b[38;5;241m+\u001b[39m (x \u001b[38;5;241m-\u001b[39m \u001b[38;5;241m5\u001b[39m)\u001b[38;5;241m*\u001b[39m(\u001b[38;5;241m-\u001b[39m\u001b[38;5;241m11\u001b[39m\u001b[38;5;241m*\u001b[39mcos(\u001b[38;5;241m30\u001b[39m) \u001b[38;5;241m+\u001b[39m exp(\u001b[38;5;241m5\u001b[39m)) \u001b[38;5;241m+\u001b[39m (x \u001b[38;5;241m-\u001b[39m \u001b[38;5;241m5\u001b[39m)\u001b[38;5;241m*\u001b[39m\u001b[38;5;241m*\u001b[39m\u001b[38;5;241m2\u001b[39m\u001b[38;5;241m*\u001b[39m((\u001b[38;5;241m121\u001b[39m\u001b[38;5;241m/\u001b[39m\u001b[38;5;241m2\u001b[39m)\u001b[38;5;241m*\u001b[39msin(\u001b[38;5;241m30\u001b[39m) \u001b[38;5;241m-\u001b[39m cos(\u001b[38;5;241m30\u001b[39m) \u001b[38;5;241m+\u001b[39m (\u001b[38;5;241m1\u001b[39m\u001b[38;5;241m/\u001b[39m\u001b[38;5;241m2\u001b[39m)\u001b[38;5;241m*\u001b[39mexp(\u001b[38;5;241m5\u001b[39m)) \u001b[38;5;241m+\u001b[39m (x \u001b[38;5;241m-\u001b[39m \u001b[38;5;241m5\u001b[39m)\u001b[38;5;241m*\u001b[39m\u001b[38;5;241m*\u001b[39m\u001b[38;5;241m3\u001b[39m\u001b[38;5;241m*\u001b[39m(\u001b[38;5;241m11\u001b[39m\u001b[38;5;241m*\u001b[39msin(\u001b[38;5;241m30\u001b[39m) \u001b[38;5;241m+\u001b[39m (\u001b[38;5;241m1\u001b[39m\u001b[38;5;241m/\u001b[39m\u001b[38;5;241m6\u001b[39m)\u001b[38;5;241m*\u001b[39mexp(\u001b[38;5;241m5\u001b[39m) \u001b[38;5;241m+\u001b[39m (\u001b[38;5;241m1331\u001b[39m\u001b[38;5;241m/\u001b[39m\u001b[38;5;241m6\u001b[39m)\u001b[38;5;241m*\u001b[39mcos(\u001b[38;5;241m30\u001b[39m)) \u001b[38;5;241m+\u001b[39m (x \u001b[38;5;241m-\u001b[39m \u001b[38;5;241m5\u001b[39m)\u001b[38;5;241m*\u001b[39m\u001b[38;5;241m*\u001b[39m\u001b[38;5;241m4\u001b[39m\u001b[38;5;241m*\u001b[39m((\u001b[38;5;241m1\u001b[39m\u001b[38;5;241m/\u001b[39m\u001b[38;5;241m24\u001b[39m)\u001b[38;5;241m*\u001b[39mexp(\u001b[38;5;241m5\u001b[39m) \u001b[38;5;241m+\u001b[39m (\u001b[38;5;241m121\u001b[39m\u001b[38;5;241m/\u001b[39m\u001b[38;5;241m2\u001b[39m)\u001b[38;5;241m*\u001b[39mcos(\u001b[38;5;241m30\u001b[39m) \u001b[38;5;241m-\u001b[39m \u001b[38;5;241m14629\u001b[39m\u001b[38;5;241m/\u001b[39m\u001b[38;5;241m24\u001b[39m\u001b[38;5;241m*\u001b[39msin(\u001b[38;5;241m30\u001b[39m)) \u001b[38;5;241m+\u001b[39m O((x \u001b[38;5;241m-\u001b[39m \u001b[38;5;241m5\u001b[39m)\u001b[38;5;241m*\u001b[39m\u001b[38;5;241m*\u001b[39m\u001b[38;5;241m5\u001b[39m, (x, \u001b[38;5;241m5\u001b[39m)))\n",
      "\u001b[1;31mNameError\u001b[0m: name 'O' is not defined"
     ]
    }
   ],
   "source": [
    "a2=5.001\n",
    "\n",
    "print(flam(a2))\n",
    "print(g2lam(a2))\n",
    "print()\n",
    "eabsg2=np.abs(flam(a2)-g2lam(a2))\n",
    "\n",
    "print(eabsg2)\n"
   ]
  },
  {
   "cell_type": "code",
   "execution_count": 151,
   "id": "22ed4cf0",
   "metadata": {},
   "outputs": [
    {
     "name": "stdout",
     "output_type": "stream",
     "text": [
      "-0.17982574327797765\n"
     ]
    },
    {
     "ename": "NameError",
     "evalue": "name 'O' is not defined",
     "output_type": "error",
     "traceback": [
      "\u001b[1;31m---------------------------------------------------------------------------\u001b[0m",
      "\u001b[1;31mNameError\u001b[0m                                 Traceback (most recent call last)",
      "Cell \u001b[1;32mIn[151], line 3\u001b[0m\n\u001b[0;32m      1\u001b[0m a3\u001b[38;5;241m=\u001b[39m\u001b[38;5;241m-\u001b[39m\u001b[38;5;241m3.1\u001b[39m\n\u001b[0;32m      2\u001b[0m \u001b[38;5;28mprint\u001b[39m(flam(a3))\n\u001b[1;32m----> 3\u001b[0m \u001b[38;5;28mprint\u001b[39m(g3lam(a3))\n\u001b[0;32m      4\u001b[0m \u001b[38;5;28mprint\u001b[39m()\n\u001b[0;32m      5\u001b[0m eabsg3\u001b[38;5;241m=\u001b[39mnp\u001b[38;5;241m.\u001b[39mabs(flam(a3)\u001b[38;5;241m-\u001b[39mg3lam(a3))\n",
      "File \u001b[1;32m<lambdifygenerated-60>:4\u001b[0m, in \u001b[0;36m_lambdifygenerated\u001b[1;34m(x)\u001b[0m\n\u001b[0;32m      1\u001b[0m \u001b[38;5;28;01mdef\u001b[39;00m \u001b[38;5;21m_lambdifygenerated\u001b[39m(x):\n\u001b[0;32m      2\u001b[0m     \u001b[38;5;28;01mreturn\u001b[39;00m (  \u001b[38;5;66;03m# Not supported in Python with SciPy and NumPy:\u001b[39;00m\n\u001b[0;32m      3\u001b[0m   \u001b[38;5;66;03m# Order\u001b[39;00m\n\u001b[1;32m----> 4\u001b[0m \u001b[38;5;241m-\u001b[39msin(\u001b[38;5;241m6\u001b[39m) \u001b[38;5;241m+\u001b[39m exp(\u001b[38;5;241m-\u001b[39m\u001b[38;5;241m3\u001b[39m) \u001b[38;5;241m+\u001b[39m (x \u001b[38;5;241m+\u001b[39m \u001b[38;5;241m3\u001b[39m)\u001b[38;5;241m*\u001b[39m(exp(\u001b[38;5;241m-\u001b[39m\u001b[38;5;241m3\u001b[39m) \u001b[38;5;241m+\u001b[39m \u001b[38;5;241m5\u001b[39m\u001b[38;5;241m*\u001b[39mcos(\u001b[38;5;241m6\u001b[39m)) \u001b[38;5;241m+\u001b[39m (x \u001b[38;5;241m+\u001b[39m \u001b[38;5;241m3\u001b[39m)\u001b[38;5;241m*\u001b[39m\u001b[38;5;241m*\u001b[39m\u001b[38;5;241m2\u001b[39m\u001b[38;5;241m*\u001b[39m((\u001b[38;5;241m25\u001b[39m\u001b[38;5;241m/\u001b[39m\u001b[38;5;241m2\u001b[39m)\u001b[38;5;241m*\u001b[39msin(\u001b[38;5;241m6\u001b[39m) \u001b[38;5;241m-\u001b[39m cos(\u001b[38;5;241m6\u001b[39m) \u001b[38;5;241m+\u001b[39m (\u001b[38;5;241m1\u001b[39m\u001b[38;5;241m/\u001b[39m\u001b[38;5;241m2\u001b[39m)\u001b[38;5;241m*\u001b[39mexp(\u001b[38;5;241m-\u001b[39m\u001b[38;5;241m3\u001b[39m)) \u001b[38;5;241m+\u001b[39m (x \u001b[38;5;241m+\u001b[39m \u001b[38;5;241m3\u001b[39m)\u001b[38;5;241m*\u001b[39m\u001b[38;5;241m*\u001b[39m\u001b[38;5;241m3\u001b[39m\u001b[38;5;241m*\u001b[39m(\u001b[38;5;241m-\u001b[39m\u001b[38;5;241m125\u001b[39m\u001b[38;5;241m/\u001b[39m\u001b[38;5;241m6\u001b[39m\u001b[38;5;241m*\u001b[39mcos(\u001b[38;5;241m6\u001b[39m) \u001b[38;5;241m+\u001b[39m (\u001b[38;5;241m1\u001b[39m\u001b[38;5;241m/\u001b[39m\u001b[38;5;241m6\u001b[39m)\u001b[38;5;241m*\u001b[39mexp(\u001b[38;5;241m-\u001b[39m\u001b[38;5;241m3\u001b[39m) \u001b[38;5;241m-\u001b[39m \u001b[38;5;241m5\u001b[39m\u001b[38;5;241m*\u001b[39msin(\u001b[38;5;241m6\u001b[39m)) \u001b[38;5;241m+\u001b[39m (x \u001b[38;5;241m+\u001b[39m \u001b[38;5;241m3\u001b[39m)\u001b[38;5;241m*\u001b[39m\u001b[38;5;241m*\u001b[39m\u001b[38;5;241m4\u001b[39m\u001b[38;5;241m*\u001b[39m((\u001b[38;5;241m1\u001b[39m\u001b[38;5;241m/\u001b[39m\u001b[38;5;241m24\u001b[39m)\u001b[38;5;241m*\u001b[39mexp(\u001b[38;5;241m-\u001b[39m\u001b[38;5;241m3\u001b[39m) \u001b[38;5;241m-\u001b[39m \u001b[38;5;241m613\u001b[39m\u001b[38;5;241m/\u001b[39m\u001b[38;5;241m24\u001b[39m\u001b[38;5;241m*\u001b[39msin(\u001b[38;5;241m6\u001b[39m) \u001b[38;5;241m+\u001b[39m (\u001b[38;5;241m25\u001b[39m\u001b[38;5;241m/\u001b[39m\u001b[38;5;241m2\u001b[39m)\u001b[38;5;241m*\u001b[39mcos(\u001b[38;5;241m6\u001b[39m)) \u001b[38;5;241m+\u001b[39m O((x \u001b[38;5;241m+\u001b[39m \u001b[38;5;241m3\u001b[39m)\u001b[38;5;241m*\u001b[39m\u001b[38;5;241m*\u001b[39m\u001b[38;5;241m5\u001b[39m, (x, \u001b[38;5;241m-\u001b[39m\u001b[38;5;241m3\u001b[39m)))\n",
      "\u001b[1;31mNameError\u001b[0m: name 'O' is not defined"
     ]
    }
   ],
   "source": [
    "a3=-3.1\n",
    "print(flam(a3))\n",
    "print(g3lam(a3))\n",
    "print()\n",
    "eabsg3=np.abs(flam(a3)-g3lam(a3))\n",
    "\n",
    "print(eabsg3)\n"
   ]
  },
  {
   "cell_type": "code",
   "execution_count": 152,
   "id": "0446c882",
   "metadata": {},
   "outputs": [
    {
     "name": "stdout",
     "output_type": "stream",
     "text": [
      "0.3775515262225788\n"
     ]
    },
    {
     "ename": "NameError",
     "evalue": "name 'O' is not defined",
     "output_type": "error",
     "traceback": [
      "\u001b[1;31m---------------------------------------------------------------------------\u001b[0m",
      "\u001b[1;31mNameError\u001b[0m                                 Traceback (most recent call last)",
      "Cell \u001b[1;32mIn[152], line 4\u001b[0m\n\u001b[0;32m      1\u001b[0m a4\u001b[38;5;241m=\u001b[39m\u001b[38;5;241m-\u001b[39m\u001b[38;5;241m5.5\u001b[39m\n\u001b[0;32m      3\u001b[0m \u001b[38;5;28mprint\u001b[39m(flam(a4))\n\u001b[1;32m----> 4\u001b[0m \u001b[38;5;28mprint\u001b[39m(g4lam(a4))\n\u001b[0;32m      5\u001b[0m \u001b[38;5;28mprint\u001b[39m()\n\u001b[0;32m      6\u001b[0m eabsg4\u001b[38;5;241m=\u001b[39mnp\u001b[38;5;241m.\u001b[39mabs(flam(a4)\u001b[38;5;241m-\u001b[39mg4lam(a4))\n",
      "File \u001b[1;32m<lambdifygenerated-61>:4\u001b[0m, in \u001b[0;36m_lambdifygenerated\u001b[1;34m(x)\u001b[0m\n\u001b[0;32m      1\u001b[0m \u001b[38;5;28;01mdef\u001b[39;00m \u001b[38;5;21m_lambdifygenerated\u001b[39m(x):\n\u001b[0;32m      2\u001b[0m     \u001b[38;5;28;01mreturn\u001b[39;00m (  \u001b[38;5;66;03m# Not supported in Python with SciPy and NumPy:\u001b[39;00m\n\u001b[0;32m      3\u001b[0m   \u001b[38;5;66;03m# Order\u001b[39;00m\n\u001b[1;32m----> 4\u001b[0m exp(\u001b[38;5;241m-\u001b[39m\u001b[38;5;241m5\u001b[39m) \u001b[38;5;241m-\u001b[39m sin(\u001b[38;5;241m20\u001b[39m) \u001b[38;5;241m+\u001b[39m (x \u001b[38;5;241m+\u001b[39m \u001b[38;5;241m5\u001b[39m)\u001b[38;5;241m*\u001b[39m(exp(\u001b[38;5;241m-\u001b[39m\u001b[38;5;241m5\u001b[39m) \u001b[38;5;241m+\u001b[39m \u001b[38;5;241m9\u001b[39m\u001b[38;5;241m*\u001b[39mcos(\u001b[38;5;241m20\u001b[39m)) \u001b[38;5;241m+\u001b[39m (x \u001b[38;5;241m+\u001b[39m \u001b[38;5;241m5\u001b[39m)\u001b[38;5;241m*\u001b[39m\u001b[38;5;241m*\u001b[39m\u001b[38;5;241m2\u001b[39m\u001b[38;5;241m*\u001b[39m(\u001b[38;5;241m-\u001b[39mcos(\u001b[38;5;241m20\u001b[39m) \u001b[38;5;241m+\u001b[39m (\u001b[38;5;241m1\u001b[39m\u001b[38;5;241m/\u001b[39m\u001b[38;5;241m2\u001b[39m)\u001b[38;5;241m*\u001b[39mexp(\u001b[38;5;241m-\u001b[39m\u001b[38;5;241m5\u001b[39m) \u001b[38;5;241m+\u001b[39m (\u001b[38;5;241m81\u001b[39m\u001b[38;5;241m/\u001b[39m\u001b[38;5;241m2\u001b[39m)\u001b[38;5;241m*\u001b[39msin(\u001b[38;5;241m20\u001b[39m)) \u001b[38;5;241m+\u001b[39m (x \u001b[38;5;241m+\u001b[39m \u001b[38;5;241m5\u001b[39m)\u001b[38;5;241m*\u001b[39m\u001b[38;5;241m*\u001b[39m\u001b[38;5;241m3\u001b[39m\u001b[38;5;241m*\u001b[39m(\u001b[38;5;241m-\u001b[39m\u001b[38;5;241m243\u001b[39m\u001b[38;5;241m/\u001b[39m\u001b[38;5;241m2\u001b[39m\u001b[38;5;241m*\u001b[39mcos(\u001b[38;5;241m20\u001b[39m) \u001b[38;5;241m-\u001b[39m \u001b[38;5;241m9\u001b[39m\u001b[38;5;241m*\u001b[39msin(\u001b[38;5;241m20\u001b[39m) \u001b[38;5;241m+\u001b[39m (\u001b[38;5;241m1\u001b[39m\u001b[38;5;241m/\u001b[39m\u001b[38;5;241m6\u001b[39m)\u001b[38;5;241m*\u001b[39mexp(\u001b[38;5;241m-\u001b[39m\u001b[38;5;241m5\u001b[39m)) \u001b[38;5;241m+\u001b[39m (x \u001b[38;5;241m+\u001b[39m \u001b[38;5;241m5\u001b[39m)\u001b[38;5;241m*\u001b[39m\u001b[38;5;241m*\u001b[39m\u001b[38;5;241m4\u001b[39m\u001b[38;5;241m*\u001b[39m(\u001b[38;5;241m-\u001b[39m\u001b[38;5;241m2183\u001b[39m\u001b[38;5;241m/\u001b[39m\u001b[38;5;241m8\u001b[39m\u001b[38;5;241m*\u001b[39msin(\u001b[38;5;241m20\u001b[39m) \u001b[38;5;241m+\u001b[39m (\u001b[38;5;241m1\u001b[39m\u001b[38;5;241m/\u001b[39m\u001b[38;5;241m24\u001b[39m)\u001b[38;5;241m*\u001b[39mexp(\u001b[38;5;241m-\u001b[39m\u001b[38;5;241m5\u001b[39m) \u001b[38;5;241m+\u001b[39m (\u001b[38;5;241m81\u001b[39m\u001b[38;5;241m/\u001b[39m\u001b[38;5;241m2\u001b[39m)\u001b[38;5;241m*\u001b[39mcos(\u001b[38;5;241m20\u001b[39m)) \u001b[38;5;241m+\u001b[39m O((x \u001b[38;5;241m+\u001b[39m \u001b[38;5;241m5\u001b[39m)\u001b[38;5;241m*\u001b[39m\u001b[38;5;241m*\u001b[39m\u001b[38;5;241m5\u001b[39m, (x, \u001b[38;5;241m-\u001b[39m\u001b[38;5;241m5\u001b[39m)))\n",
      "\u001b[1;31mNameError\u001b[0m: name 'O' is not defined"
     ]
    }
   ],
   "source": [
    "a4=-5.5\n",
    "\n",
    "print(flam(a4))\n",
    "print(g4lam(a4))\n",
    "print()\n",
    "eabsg4=np.abs(flam(a4)-g4lam(a4))\n",
    "\n",
    "print(eabsg4)\n"
   ]
  }
 ],
 "metadata": {
  "kernelspec": {
   "display_name": "Python 3 (ipykernel)",
   "language": "python",
   "name": "python3"
  },
  "language_info": {
   "codemirror_mode": {
    "name": "ipython",
    "version": 3
   },
   "file_extension": ".py",
   "mimetype": "text/x-python",
   "name": "python",
   "nbconvert_exporter": "python",
   "pygments_lexer": "ipython3",
   "version": "3.11.5"
  }
 },
 "nbformat": 4,
 "nbformat_minor": 5
}
