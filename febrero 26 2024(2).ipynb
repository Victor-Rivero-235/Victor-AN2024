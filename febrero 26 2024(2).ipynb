{
 "cells": [
  {
   "cell_type": "markdown",
   "id": "exciting-emission",
   "metadata": {},
   "source": [
    "Un sistema lineal de n ecuiaciones en n variables realies tien la forma:\n",
    "\n",
    "$a_{11}x_{1} + a_{12}x_2 + \\dots a_{1n}x_n = f_1$\n",
    "\n",
    "\n",
    "$a_{21}x_{1} + a_{22}x_n + \\dots a_{2n}x_n = f_2$\n",
    "\n",
    "\n",
    "$a_{31}x_{1} + a_{32}x_n + \\dots a_{3n}x_n = f_3$\n",
    "\n",
    "$\\vdots$\n",
    "\n",
    "\n",
    "$a_{n1}x_{1} + a_{n2}x_n + \\dots a_{nm}x_n = f_n$"
   ]
  },
  {
   "cell_type": "code",
   "execution_count": 46,
   "id": "affecting-attribute",
   "metadata": {},
   "outputs": [],
   "source": [
    "import numpy as np\n",
    "import matplotlib.pyplot as plt"
   ]
  },
  {
   "cell_type": "markdown",
   "id": "unexpected-recorder",
   "metadata": {},
   "source": [
    "https://juncotic.com/metodo-de-heron-algoritmos-antiguos/"
   ]
  },
  {
   "cell_type": "markdown",
   "id": "organized-delight",
   "metadata": {},
   "source": [
    "juntar la ecuacion trascendete de la hidraulica con la forma de serie de la tangente para usar los numero d ebermnopulli"
   ]
  },
  {
   "cell_type": "markdown",
   "id": "single-fault",
   "metadata": {},
   "source": [
    "http://blog.espol.edu.ec/analisisnumerico/metodo-de-gauss-con-python/"
   ]
  },
  {
   "cell_type": "code",
   "execution_count": 58,
   "id": "worse-rover",
   "metadata": {},
   "outputs": [
    {
     "name": "stdout",
     "output_type": "stream",
     "text": [
      "[[  6  -2   2   4]\n",
      " [ 12  -8   6  10]\n",
      " [  3 -13   9   3]\n",
      " [ -6   4   1 -18]]\n",
      "\n",
      "[ 12  34  27 -38]\n"
     ]
    }
   ],
   "source": [
    "#A=np.random.rand(3,3)\n",
    "\n",
    "#F=np.array([[1],[2],[3]])\n",
    "\n",
    "#C=np.random.randint(10,size=(3,3))\n",
    "\n",
    "A=np.array([[6,-2,2,4],\n",
    "           [12,-8,6,10],\n",
    "           [3,-13,9,3],\n",
    "           [-6,4,1,-18]])\n",
    "\n",
    "B=np.array([12,34,27,-38])\n",
    "\n",
    "\n",
    "print(A)\n",
    "\n",
    "print()\n",
    "\n",
    "print(B)"
   ]
  },
  {
   "cell_type": "code",
   "execution_count": 48,
   "id": "documented-difficulty",
   "metadata": {},
   "outputs": [],
   "source": [
    "def Gauss(A,B):\n",
    "    U=np.copy(A)\n",
    "    G=np.copy(B)\n",
    "    n=B.size\n",
    "    for j in range(n-1):\n",
    "        for i in range(j+1,n):\n",
    "            U[i,j:]=U[i,j:]-((U[i,j]/U[j,j])*U[j,j:])\n",
    "            G[i]=G[i]-((U[i,j]/U[j,j])*G[j])\n",
    "    return U,G\n",
    "\n"
   ]
  },
  {
   "cell_type": "code",
   "execution_count": 52,
   "id": "peripheral-creator",
   "metadata": {},
   "outputs": [
    {
     "name": "stdout",
     "output_type": "stream",
     "text": [
      "[[ 6 -2  2  4]\n",
      " [ 0 -4  2  2]\n",
      " [ 0  0  2 -5]\n",
      " [ 0  0  0 -3]]\n",
      "\n",
      "\n",
      "[ 12  34  27 -38]\n"
     ]
    }
   ],
   "source": [
    "U=Gauss(A,B)[0]\n",
    "G=Gauss(A,B)[1]\n",
    "\n",
    "print(U)\n",
    "print()\n",
    "print()\n",
    "print(G)"
   ]
  },
  {
   "cell_type": "code",
   "execution_count": 56,
   "id": "shaped-amino",
   "metadata": {},
   "outputs": [],
   "source": [
    "def sol(U,G):\n",
    "    n = G.size\n",
    "    x = np.zeros(n)\n",
    "    aux = 0\n",
    "    for i in reversed(range(n)):\n",
    "        if i == (n-1):\n",
    "            x[i] = (G[i])/(U[i,i])\n",
    "            continue\n",
    "        else:\n",
    "            for j in range (i+1,n):\n",
    "                aux += U[i,j]*x[j]\n",
    "            x[i] = (G[i]/U[i,i]) - (1/U[i,i])*aux\n",
    "            aux = 0\n",
    "    return x"
   ]
  },
  {
   "cell_type": "code",
   "execution_count": 60,
   "id": "contrary-democrat",
   "metadata": {},
   "outputs": [
    {
     "data": {
      "text/plain": [
       "array([-14.69444444,  20.41666667,  45.16666667,  12.66666667])"
      ]
     },
     "execution_count": 60,
     "metadata": {},
     "output_type": "execute_result"
    }
   ],
   "source": [
    "sol(U,G)"
   ]
  },
  {
   "cell_type": "code",
   "execution_count": null,
   "id": "convinced-weekly",
   "metadata": {},
   "outputs": [],
   "source": []
  },
  {
   "cell_type": "code",
   "execution_count": null,
   "id": "pointed-regular",
   "metadata": {},
   "outputs": [],
   "source": []
  }
 ],
 "metadata": {
  "kernelspec": {
   "display_name": "Python 3",
   "language": "python",
   "name": "python3"
  },
  "language_info": {
   "codemirror_mode": {
    "name": "ipython",
    "version": 3
   },
   "file_extension": ".py",
   "mimetype": "text/x-python",
   "name": "python",
   "nbconvert_exporter": "python",
   "pygments_lexer": "ipython3",
   "version": "3.9.2"
  }
 },
 "nbformat": 4,
 "nbformat_minor": 5
}
