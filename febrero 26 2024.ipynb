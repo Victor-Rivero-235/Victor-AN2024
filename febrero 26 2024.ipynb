{
 "cells": [
  {
   "cell_type": "markdown",
   "id": "exciting-emission",
   "metadata": {},
   "source": [
    "Un sistema lineal de n ecuiaciones en n variables realies tien la forma:\n",
    "\n",
    "$a_{11}x_{1} + a_{12}x_2 + \\dots a_{1n}x_n = f_1$\n",
    "\n",
    "\n",
    "$a_{21}x_{1} + a_{22}x_n + \\dots a_{2n}x_n = f_2$\n",
    "\n",
    "\n",
    "$a_{31}x_{1} + a_{32}x_n + \\dots a_{3n}x_n = f_3$\n",
    "\n",
    "$\\vdots$\n",
    "\n",
    "\n",
    "$a_{n1}x_{1} + a_{n2}x_n + \\dots a_{nm}x_n = f_n$"
   ]
  },
  {
   "cell_type": "code",
   "execution_count": 12,
   "id": "affecting-attribute",
   "metadata": {},
   "outputs": [],
   "source": [
    "import numpy as np\n",
    "import matplotlib.pyplot as plt"
   ]
  },
  {
   "cell_type": "markdown",
   "id": "unexpected-recorder",
   "metadata": {},
   "source": [
    "https://juncotic.com/metodo-de-heron-algoritmos-antiguos/"
   ]
  },
  {
   "cell_type": "markdown",
   "id": "organized-delight",
   "metadata": {},
   "source": [
    "juntar la ecuacion trascendete de la hidraulica con la forma de serie de la tangente para usar los numero d ebermnopulli"
   ]
  },
  {
   "cell_type": "markdown",
   "id": "single-fault",
   "metadata": {},
   "source": [
    "http://blog.espol.edu.ec/analisisnumerico/metodo-de-gauss-con-python/"
   ]
  },
  {
   "cell_type": "code",
   "execution_count": 42,
   "id": "worse-rover",
   "metadata": {},
   "outputs": [
    {
     "name": "stdout",
     "output_type": "stream",
     "text": [
      "[[  6  -2   2   4]\n",
      " [ 12  -8   6  10]\n",
      " [  3 -13   9   3]\n",
      " [ -6   4   1 -18]]\n",
      "\n",
      "[ 12  34  27 -38]\n"
     ]
    }
   ],
   "source": [
    "#A=np.random.rand(3,3)\n",
    "\n",
    "#F=np.array([[1],[2],[3]])\n",
    "\n",
    "#C=np.random.randint(10,size=(3,3))\n",
    "\n",
    "#Declaramos dos matrices\n",
    "\n",
    "A=np.array([[6,-2,2,4],\n",
    "           [12,-8,6,10],\n",
    "           [3,-13,9,3],\n",
    "           [-6,4,1,-18]])\n",
    "\n",
    "B=np.array([12,34,27,-38])\n",
    "\n",
    "#imprimimos ambas matrices\n",
    "\n",
    "print(A)\n",
    "\n",
    "print()\n",
    "\n",
    "print(B)"
   ]
  },
  {
   "cell_type": "code",
   "execution_count": 43,
   "id": "documented-difficulty",
   "metadata": {},
   "outputs": [],
   "source": [
    "def Gauss(A,B):\n",
    "    U=np.copy(A).astype(float) #estos valores son con punto decimal\n",
    "    G=np.copy(B).astype(float) #estos valores son con punto decimal\n",
    "    n=B.size\n",
    "    for j in range(n-1):\n",
    "        for i in range(j+1,n):\n",
    "            M=U[i,j]/U[j,j] #un facto M para evitar escribir mucho\n",
    "            U[i,j:]=U[i,j:]-(M*U[j,j:])\n",
    "            G[i]=G[i]-(M*G[j])\n",
    "    return U,G"
   ]
  },
  {
   "cell_type": "code",
   "execution_count": 45,
   "id": "peripheral-creator",
   "metadata": {},
   "outputs": [
    {
     "name": "stdout",
     "output_type": "stream",
     "text": [
      "[[ 6. -2.  2.  4.]\n",
      " [ 0. -4.  2.  2.]\n",
      " [ 0.  0.  2. -5.]\n",
      " [ 0.  0.  0. -3.]]\n",
      "\n",
      "\n",
      "[12. 10. -9. -3.]\n"
     ]
    }
   ],
   "source": [
    "U=Gauss(A,B)[0]\n",
    "G=Gauss(A,B)[1]\n",
    "\n",
    "print(U)\n",
    "print()\n",
    "print()\n",
    "print(G)\n",
    "\n",
    "#se muestra la diagnalizacion de la matriz"
   ]
  },
  {
   "cell_type": "code",
   "execution_count": 46,
   "id": "shaped-amino",
   "metadata": {},
   "outputs": [],
   "source": [
    "#se inicia la solucion de la matriz\n",
    "\n",
    "def sol(U,G):\n",
    "    n = G.size\n",
    "    x = np.zeros(n)\n",
    "    for i in reversed(range(n)):\n",
    "        aux=0\n",
    "        for j in range (i+1,n):\n",
    "            aux += U[i,j] * x[j]\n",
    "        x[i] = (G[i] - aux) / U[i, i]\n",
    "    return x"
   ]
  },
  {
   "cell_type": "code",
   "execution_count": 47,
   "id": "contrary-democrat",
   "metadata": {},
   "outputs": [],
   "source": [
    "solucion=sol(U,G)"
   ]
  },
  {
   "cell_type": "code",
   "execution_count": 48,
   "id": "convinced-weekly",
   "metadata": {},
   "outputs": [
    {
     "name": "stdout",
     "output_type": "stream",
     "text": [
      "[ 1. -3. -2.  1.]\n"
     ]
    }
   ],
   "source": [
    "print(solucion)"
   ]
  },
  {
   "cell_type": "code",
   "execution_count": null,
   "id": "5d9f64c3",
   "metadata": {},
   "outputs": [],
   "source": []
  }
 ],
 "metadata": {
  "kernelspec": {
   "display_name": "Python 3 (ipykernel)",
   "language": "python",
   "name": "python3"
  },
  "language_info": {
   "codemirror_mode": {
    "name": "ipython",
    "version": 3
   },
   "file_extension": ".py",
   "mimetype": "text/x-python",
   "name": "python",
   "nbconvert_exporter": "python",
   "pygments_lexer": "ipython3",
   "version": "3.11.5"
  }
 },
 "nbformat": 4,
 "nbformat_minor": 5
}
