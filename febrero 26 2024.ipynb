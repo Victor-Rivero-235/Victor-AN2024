{
 "cells": [
  {
   "cell_type": "markdown",
   "id": "exciting-emission",
   "metadata": {},
   "source": [
    "Un sistema lineal de n ecuiaciones en n variables realies tien la forma:\n",
    "\n",
    "$a_{11}x_{1} + a_{12}x_2 + \\dots a_{1n}x_n = f_1$\n",
    "\n",
    "\n",
    "$a_{21}x_{1} + a_{22}x_n + \\dots a_{2n}x_n = f_2$\n",
    "\n",
    "\n",
    "$a_{31}x_{1} + a_{32}x_n + \\dots a_{3n}x_n = f_3$\n",
    "\n",
    "$\\vdots$\n",
    "\n",
    "\n",
    "$a_{n1}x_{1} + a_{n2}x_n + \\dots a_{nm}x_n = f_n$"
   ]
  },
  {
   "cell_type": "code",
   "execution_count": 60,
   "id": "affecting-attribute",
   "metadata": {},
   "outputs": [],
   "source": [
    "import numpy as np\n",
    "import sympy as sy\n",
    "import matplotlib.pyplot as plt\n",
    "from sympy import *\n",
    "from sympy.abc import x"
   ]
  },
  {
   "cell_type": "code",
   "execution_count": 61,
   "id": "mature-orleans",
   "metadata": {},
   "outputs": [
    {
     "name": "stdout",
     "output_type": "stream",
     "text": [
      "[[0.17253074 0.89772405 0.65924496]\n",
      " [0.75268379 0.98330361 0.49243567]\n",
      " [0.71938226 0.32183261 0.3635218 ]]\n",
      "\n",
      "[[1 2 3]\n",
      " [4 5 6]\n",
      " [7 8 9]]\n",
      "\n",
      "[[6 2 6]\n",
      " [1 7 6]\n",
      " [7 2 1]]\n"
     ]
    }
   ],
   "source": [
    "A=np.random.rand(3,3)\n",
    "\n",
    "F=np.array([[1],[2],[3]])\n",
    "\n",
    "C=np.random.randint(10,size=(3,3))\n",
    "\n",
    "print(A)\n",
    "\n",
    "print()\n",
    "\n",
    "print(B)\n",
    "\n",
    "print()\n",
    "\n",
    "print(C)"
   ]
  },
  {
   "cell_type": "code",
   "execution_count": 62,
   "id": "olympic-closer",
   "metadata": {},
   "outputs": [],
   "source": [
    "#U=np.array\n",
    "U=np.copy(A)\n",
    "G=np.copy(F)\n",
    "def Gauss(A, F, k):\n",
    "    for i in range (k):\n",
    "        for j in range (k):\n",
    "            U[i,j]=A[i,j]-(M[i,k]*A[k,j])\n",
    "            M[i,k]=(A[i,k]/A[k,k])\n"
   ]
  },
  {
   "cell_type": "markdown",
   "id": "unexpected-recorder",
   "metadata": {},
   "source": [
    "https://juncotic.com/metodo-de-heron-algoritmos-antiguos/"
   ]
  },
  {
   "cell_type": "markdown",
   "id": "organized-delight",
   "metadata": {},
   "source": [
    "juntar la ecuacion trascendete de la hidraulica con la forma de serie de la tangente para usar los numero d ebermnopulli"
   ]
  },
  {
   "cell_type": "markdown",
   "id": "single-fault",
   "metadata": {},
   "source": [
    "http://blog.espol.edu.ec/analisisnumerico/metodo-de-gauss-con-python/"
   ]
  },
  {
   "cell_type": "code",
   "execution_count": 63,
   "id": "pressing-kazakhstan",
   "metadata": {},
   "outputs": [],
   "source": [
    "def gauss(C,F):\n",
    "    U=np.copy(C)\n",
    "    G=np.copy(F)\n",
    "    n=F.size\n",
    "    for j in range(n-1):\n",
    "        for i in range (j+1,n):\n",
    "            M=U[i,j]/U[j,j]\n",
    "            U[i,j:]=U[i,j:]-(M*U[j,j:])\n",
    "            G[i]=G[i]-(M*G[j])\n",
    "    return (U,G)"
   ]
  },
  {
   "cell_type": "code",
   "execution_count": 64,
   "id": "electronic-delay",
   "metadata": {},
   "outputs": [
    {
     "name": "stdout",
     "output_type": "stream",
     "text": [
      "[[0.17253074 0.89772405 0.65924496]\n",
      " [0.75268379 0.98330361 0.49243567]\n",
      " [0.71938226 0.32183261 0.3635218 ]] [[1]\n",
      " [2]\n",
      " [3]]\n"
     ]
    }
   ],
   "source": [
    "print(U,G)"
   ]
  },
  {
   "cell_type": "code",
   "execution_count": null,
   "id": "clear-exclusive",
   "metadata": {},
   "outputs": [],
   "source": []
  },
  {
   "cell_type": "code",
   "execution_count": null,
   "id": "forty-audio",
   "metadata": {},
   "outputs": [],
   "source": []
  }
 ],
 "metadata": {
  "kernelspec": {
   "display_name": "Python 3",
   "language": "python",
   "name": "python3"
  },
  "language_info": {
   "codemirror_mode": {
    "name": "ipython",
    "version": 3
   },
   "file_extension": ".py",
   "mimetype": "text/x-python",
   "name": "python",
   "nbconvert_exporter": "python",
   "pygments_lexer": "ipython3",
   "version": "3.9.2"
  }
 },
 "nbformat": 4,
 "nbformat_minor": 5
}
