{
 "cells": [
  {
   "cell_type": "code",
   "execution_count": 18,
   "id": "respective-greece",
   "metadata": {},
   "outputs": [],
   "source": [
    "import numpy as np\n",
    "import sympy as sy\n",
    "import matplotlib.pyplot as plt\n",
    "import math"
   ]
  },
  {
   "cell_type": "code",
   "execution_count": 19,
   "id": "activated-dressing",
   "metadata": {},
   "outputs": [],
   "source": [
    "from sympy import *\n",
    "from sympy.plotting import plot\n",
    "from sympy.abc import x\n",
    "\n",
    "init_printing()"
   ]
  },
  {
   "cell_type": "code",
   "execution_count": 41,
   "id": "psychological-delaware",
   "metadata": {},
   "outputs": [
    {
     "name": "stdout",
     "output_type": "stream",
     "text": [
      "tan(x)\n",
      "\n",
      "x + x**3/3 + 2*x**5/15 + 17*x**7/315 + 62*x**9/2835 + 1382*x**11/155925 + O(x**13)\n"
     ]
    }
   ],
   "source": [
    "x=sy.symbols('x')\n",
    "\n",
    "f=sy.tan(x)\n",
    "\n",
    "g=sy.series(f,x,0,13)\n",
    "\n",
    "\n",
    "print(f)\n",
    "print()\n",
    "print(g)"
   ]
  },
  {
   "cell_type": "code",
   "execution_count": 54,
   "id": "athletic-donna",
   "metadata": {},
   "outputs": [
    {
     "name": "stdout",
     "output_type": "stream",
     "text": [
      "O(x**13)\n",
      "\n",
      "1382*x**11/155925 + 62*x**9/2835 + 17*x**7/315 + 2*x**5/15 + x**3/3 + x\n"
     ]
    }
   ],
   "source": [
    "order=g.getO()\n",
    "gx=g.removeO()\n",
    "\n",
    "\n",
    "print(order)\n",
    "print()\n",
    "print(gx)"
   ]
  },
  {
   "cell_type": "code",
   "execution_count": 57,
   "id": "prompt-sharp",
   "metadata": {},
   "outputs": [
    {
     "name": "stdout",
     "output_type": "stream",
     "text": [
      "0.9999999999999999\n",
      "0.9997927669677324\n"
     ]
    }
   ],
   "source": [
    "ffunc=sy.lambdify(x,f)\n",
    "gfunc=sy.lambdify(x,g.removeO())\n",
    "\n",
    "\n",
    "print(ffunc((math.pi)/4)) \n",
    "print(gfunc((math.pi)/4))\n"
   ]
  },
  {
   "cell_type": "code",
   "execution_count": 56,
   "id": "addressed-functionality",
   "metadata": {},
   "outputs": [
    {
     "data": {
      "image/png": "[encoded data removed]",
      "text/plain": [
       "<Figure size 432x288 with 1 Axes>"
      ]
     },
     "metadata": {
      "needs_background": "light"
     },
     "output_type": "display_data"
    }
   ],
   "source": [
    "\n",
    "X=np.linspace(-np.pi,np.pi)\n",
    "\n",
    "Yf=ffunc(X)\n",
    "plt.plot(X,Yf, label=\"f(x)\", color=\"red\")\n",
    "\n",
    "\n",
    "Yg=gfunc(X)\n",
    "plt.plot(X,Yg, label=\"g(x)\", color=\"violet\")\n",
    "\n",
    "plt.title(\"Funciones y error\")\n",
    "plt.legend(['f(x)','g(x)'])\n",
    "plt.grid(True)\n",
    "plt.show()"
   ]
  }
 ],
 "metadata": {
  "kernelspec": {
   "display_name": "Python 3",
   "language": "python",
   "name": "python3"
  },
  "language_info": {
   "codemirror_mode": {
    "name": "ipython",
    "version": 3
   },
   "file_extension": ".py",
   "mimetype": "text/x-python",
   "name": "python",
   "nbconvert_exporter": "python",
   "pygments_lexer": "ipython3",
   "version": "3.9.2"
  }
 },
 "nbformat": 4,
 "nbformat_minor": 5
}
